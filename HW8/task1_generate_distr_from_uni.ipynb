{
 "cells": [
  {
   "cell_type": "code",
   "execution_count": 40,
   "id": "3fd4f05c",
   "metadata": {},
   "outputs": [],
   "source": [
    "import numpy as np\n",
    "import matplotlib.pyplot as plt\n",
    "\n",
    "# Закомментируйте строку ниже для запуска локально\n",
    "#from coin import coin\n",
    "\n",
    "\n",
    "# Для запуска локально используйте:\n",
    "#\n",
    "import scipy.stats as sps\n",
    "#\n",
    "coin = sps.bernoulli.rvs(p=0.5)\n",
    "\n",
    "\n",
    "def uniform(size=1, precision=30):\n",
    "    sizes_prod = np.array(size).prod();\n",
    "    initial_arr = np.array([sps.bernoulli.rvs(p=0.5) for _ in range(sizes_prod * precision)]);\n",
    "    return (initial_arr.reshape(sizes_prod, precision) * np.exp2((-1) * np.arange(1, precision + 1)) ).sum(axis=-1).reshape(size)\n",
    "    # Читабельное решение в одну строчку не выходя за границы? ;)\n",
    "\n",
    "\n",
    "def normal(size=1, loc=0, scale=1, precision=30):\n",
    "    sizes_prod = np.array(size).prod();\n",
    "    for_u, for_v = np.split(uniform(size=2*sizes_prod, precision=precision), 2);\n",
    "    for_u = np.sqrt(-2 * np.log(for_u));\n",
    "    for_v = np.cos(2 * np.pi * for_v);\n",
    "    \n",
    "    return (for_u * for_v * scale + loc).reshape(size)\n",
    "\n",
    "\n",
    "\n",
    "def expon(size=1, lambd=1, precision=30):\n",
    "    return -np.log(uniform(size, precision=precision)) / lambd;"
   ]
  },
  {
   "cell_type": "code",
   "execution_count": 43,
   "id": "204c8dde",
   "metadata": {},
   "outputs": [
    {
     "name": "stdout",
     "output_type": "stream",
     "text": [
      "[0.5        0.25       0.125      0.0625     0.03125    0.015625\n",
      " 0.0078125  0.00390625 0.00195312 0.00097656]\n"
     ]
    },
    {
     "data": {
      "text/plain": [
       "array([0.47167969, 0.16308594, 0.67675781, 0.0234375 , 0.27636719,\n",
       "       0.88867188, 0.44824219, 0.83007812, 0.91796875, 0.05664062,\n",
       "       0.69726562, 0.85742188, 0.52148438, 0.21875   , 0.2265625 ,\n",
       "       0.01953125, 0.63378906, 0.97265625, 0.20214844, 0.90234375,\n",
       "       0.234375  , 0.29785156, 0.24121094, 0.75976562, 0.81738281,\n",
       "       0.12988281, 0.04394531, 0.58789062, 0.14648438, 0.12792969,\n",
       "       0.98046875, 0.25683594, 0.57324219, 0.76074219, 0.37304688,\n",
       "       0.61328125, 0.72558594, 0.29394531, 0.29296875, 0.36523438,\n",
       "       0.83300781, 0.74511719, 0.31152344, 0.17382812, 0.62988281,\n",
       "       0.57324219, 0.02246094, 0.24316406, 0.30761719, 0.15234375,\n",
       "       0.09667969, 0.06640625, 0.63085938, 0.36035156, 0.91210938,\n",
       "       0.44433594, 0.93457031, 0.81835938, 0.50097656, 0.77050781,\n",
       "       0.12695312, 0.31640625, 0.07421875, 0.39160156, 0.71777344,\n",
       "       0.91308594, 0.82421875, 0.25683594, 0.67871094, 0.24023438,\n",
       "       0.37597656, 0.44726562, 0.3828125 , 0.08496094, 0.73242188,\n",
       "       0.97460938, 0.29785156, 0.2265625 , 0.10742188, 0.44140625,\n",
       "       0.82617188, 0.48242188, 0.11425781, 0.67089844, 0.75683594,\n",
       "       0.109375  , 0.96484375, 0.56738281, 0.17285156, 0.41894531,\n",
       "       0.04492188, 0.76074219, 0.70019531, 0.15625   , 0.64648438,\n",
       "       0.94726562, 0.93164062, 0.26074219, 0.29199219, 0.25585938])"
      ]
     },
     "execution_count": 43,
     "metadata": {},
     "output_type": "execute_result"
    }
   ],
   "source": [
    "uniform(100, 10)"
   ]
  },
  {
   "cell_type": "code",
   "execution_count": null,
   "id": "1afed939",
   "metadata": {},
   "outputs": [],
   "source": []
  }
 ],
 "metadata": {
  "kernelspec": {
   "display_name": "Python 3 (ipykernel)",
   "language": "python",
   "name": "python3"
  },
  "language_info": {
   "codemirror_mode": {
    "name": "ipython",
    "version": 3
   },
   "file_extension": ".py",
   "mimetype": "text/x-python",
   "name": "python",
   "nbconvert_exporter": "python",
   "pygments_lexer": "ipython3",
   "version": "3.9.12"
  }
 },
 "nbformat": 4,
 "nbformat_minor": 5
}
