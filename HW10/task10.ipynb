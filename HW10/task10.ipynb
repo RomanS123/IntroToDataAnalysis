{
  "cells": [
    {
      "cell_type": "markdown",
      "metadata": {
        "id": "phFK6Y7u2dAG"
      },
      "source": [
        "# <a href=\"https://miptstats.github.io/courses/ad_fivt.html\">Введение в анализ данных</a>\n",
        "## Домашнее задание 10. Анализ вакансий.\n"
      ]
    },
    {
      "cell_type": "markdown",
      "metadata": {
        "id": "RKN_jIxj2dAI"
      },
      "source": [
        "**Правила, <font color=\"red\">прочитайте внимательно</font>:**\n",
        "\n",
        "* Выполненную работу нужно отправить телеграм-боту `@miptstats_ds24_bot`. Для начала работы с ботом каждый раз отправляйте `/start`. Дождитесь подтверждения от бота, что он принял файл. Если подтверждения нет, то что-то не так. **Работы, присланные иным способом, не принимаются.**\n",
        "* Дедлайн см. в боте. После дедлайна работы не принимаются кроме случаев наличия уважительной причины.\n",
        "* Прислать нужно **ноутбук в формате `ipynb` и полученные данные** (подробности далее). Если вы строите интерактивные графики, их стоит прислать в формате html.\n",
        "* Следите за размером файлов. **Бот не может принимать файлы весом более 20 Мб.** Если файл получается больше, заранее разделите его на несколько.\n",
        "* Будьте внимательны при работе со сбором данных. Ответственность за корректность ваших действий лежит на вас. Не нагружайте сервера, *делайте паузы между запросами*. Как следствие, начинайте выполнять задание заранее. **Если вас где-то забаннили и т.п., то это не является уважительной причиной продления дедлайна.**\n",
        "* Выполнять задание необходимо полностью самостоятельно. **При обнаружении списывания все участники списывания будут сдавать устный зачет.**\n",
        "* Решения, размещенные на каких-либо интернет-ресурсах, не принимаются. Кроме того, публикация решения в открытом доступе может быть приравнена к предоставлении возможности списать.\n",
        "* Для выполнения задания используйте этот ноутбук в качестве основы, ничего не удаляя из него. Можно добавлять необходимое количество ячеек.\n",
        "* Комментарии к решению пишите в markdown-ячейках.\n",
        "* Выполнение задания (ход решения, выводы и пр.) должно быть осуществлено на русском языке.\n",
        "* Если код будет не понятен проверяющему, оценка может быть снижена.\n",
        "* Никакой код из данного задания при проверке запускаться не будет. *Если код студента не выполнен, недописан и т.д., то он не оценивается.*\n",
        "\n",
        "\n",
        "---\n",
        "\n",
        "**Баллы за задание:**\n",
        "\n",
        "<b><a href=\"#Сложная-часть\" style=\"text-decoration: none;\"><font color=\"orange\">Сложная часть</font></a></b> (учитывается только в основной части курса, необходимо на \"отл\"):\n",
        "* Задача 1 &mdash; 70 баллов\n",
        "\n",
        "<b><a href=\"#Факультативная-часть\" style=\"text-decoration: none;\"><font color=\"green\">Факультативная часть</font></a></b> (учитывается только в факультативной части курса):\n",
        "* Задача 2 &mdash; 30 баллов\n",
        "* Задача 3 &mdash; 70 баллов\n",
        "\n",
        "**Внимание!** Указанные баллы являются бонусными. Они не учитываются в максимальных суммах баллов в знаменателе при вычислении процента выполненных заданий. Но все полученные вами баллы будут учтены в числителе. Тем самым, выполняя или не выполняя домашку, вы не сможете понизить оценку, но сможете ее повысить."
      ]
    },
    {
      "cell_type": "code",
      "execution_count": null,
      "metadata": {
        "ExecuteTime": {
          "end_time": "2024-05-02T18:37:22.803984Z",
          "start_time": "2024-05-02T18:37:22.800522Z"
        },
        "id": "zfcuD0Q72dAK"
      },
      "outputs": [],
      "source": [
        "# Bot check\n",
        "\n",
        "# HW_ID: fpmi_ad10\n",
        "# Бот проверит этот ID и предупредит, если случайно сдать что-то не то.\n",
        "\n",
        "# Status: not final\n",
        "# Перед отправкой в финальном решении удали \"not\" в строчке выше.\n",
        "# Так бот проверит, что ты отправляешь финальную версию, а не промежуточную.\n",
        "# Никакие значения в этой ячейке не влияют на факт сдачи работы."
      ]
    },
    {
      "cell_type": "code",
      "execution_count": 1,
      "metadata": {
        "ExecuteTime": {
          "end_time": "2024-05-02T18:37:23.761610Z",
          "start_time": "2024-05-02T18:37:22.805684Z"
        },
        "colab": {
          "base_uri": "https://localhost:8080/"
        },
        "id": "ht9Xm0EucoAr",
        "outputId": "cad20446-b543-4f19-d320-9a79f5479aa9"
      },
      "outputs": [
        {
          "output_type": "stream",
          "name": "stderr",
          "text": [
            "[nltk_data] Downloading package stopwords to /root/nltk_data...\n",
            "[nltk_data]   Package stopwords is already up-to-date!\n"
          ]
        }
      ],
      "source": [
        "import requests\n",
        "from time import sleep\n",
        "import json\n",
        "\n",
        "import numpy as np\n",
        "import pandas as pd\n",
        "import matplotlib.pyplot as plt\n",
        "import seaborn as sns\n",
        "\n",
        "import nltk\n",
        "\n",
        "nltk.download(\"stopwords\")\n",
        "\n",
        "from string import punctuation\n",
        "\n",
        "sns.set(style=\"whitegrid\", font_scale=1.3, palette=\"Set2\")"
      ]
    },
    {
      "cell_type": "code",
      "execution_count": 24,
      "metadata": {
        "id": "hALcKN8-2dAL"
      },
      "outputs": [],
      "source": [
        "stop_words = nltk.corpus.stopwords.words(\"english\") + nltk.corpus.stopwords.words(\"russian\")"
      ]
    },
    {
      "cell_type": "markdown",
      "metadata": {
        "id": "KFjM9aNs2dAM"
      },
      "source": [
        "\n",
        "Второй курс &mdash; самое время задуматься о будущей профессии и проанализировать существующие предложения. Дело тут даже не в том, чтобы найти интересную стажировку. В первую очередь сейчас стоит подумать о том, в какую сторону развиваться дальше. Например, если вы хотите работать в какой-либо конкретной профессии, то наверняка стоит развивать какие-то определенные навыки, и даже выбрать подходящую кафедру. Анализ существующих вакансий поможет определить, какие навыки вам нужны.\n",
        "\n",
        "**Внимание!**\n",
        "В первую очередь задание призвано помочь вам понять, какие навыки стоит развивать, и может быть даже выбрать подходящую кафедру. Однако, не стоит идти на работу/стажировку раньше времени. Даже только летнюю, абсолютное большинство людей не могут работать круглый год без перерыва. У всех из вас 3 курс достаточно нагруженный, а на DS-потоке нагрузка с первой недели сентября. И если вы идете на стажировку, то каникул у вас может просто не остаться. Даже если вам сейчас/летом/в сентябре кажется \"я же справлюсь\", к ноябрю-декабрю с большой вероятностью вы выдохнетесь. Таких примеров *очень много*. Не все, кто-то успешно справляется совмещать работу и учебу, но таких *очень мало*. Берегите себя и свое здоровье :)\n",
        "\n",
        "---\n",
        "\n",
        "Задание предполагает вариативность исследуемых данных. Вы можете выбрать один из следующих вариантов.\n",
        "1. Стандартный вариант &mdash; проанализировать вакансии на сайте <a target=\"_blank\" href=\"https://hh.ru/\">hh.ru</a> с использованием <a target=\"_blank\" href=\"https://dev.hh.ru/\">официального API</a>. Далее приведен пример работы с этим API. *Если вы не достаточно уверены в своих силах, рекомендуется выбрать этот вариант.*\n",
        "2. Разобраться с API других сервисов по поиску вакансий, например, <a target=\"_blank\" href=\"https://career.habr.com/\">Хабр.Карьера</a> или <a target=\"_blank\" href=\"https://www.superjob.ru/\">SuperJob</a>.\n",
        "3. Извлечение данных с помощью <a target=\"_blank\" href=\"https://miptstats.github.io/courses/ad_fivt/data_parsing.html#2.-Парсинг-HTML-напрямую\">парсинга HTML напрямую</a> некоторых сайтов. Например, вы можете попробовать напрямую распарсить пул вакансий из тех источников, которые не предоставляют API. **Внимание! Обращайте внимание на пользовательские соглашения и на <a target=\"_blank\" href=\"https://miptstats.github.io/courses/ad_fivt/data_parsing.html#Сбор-данных-из-открытых-источников\">эти рекомендации</a>.**\n",
        "4. Комбинирование нескольких подходов. В этом случае нужно понимать, как находить одинаковые вакансии из разных источников для избежания их двойного учета.\n",
        "5. Можно также *дополнительно* брать архивные данные из недавнего прошлого, например, из <a target=\"_blank\" href=\"https://boosters.pro/championship/HeadHunter/overview/description\">этого соревнования</a>.\n",
        "\n",
        "Перед выполнением задания ознакомьтесь с <a target=\"_blank\" href=\"https://miptstats.github.io/courses/ad_fivt/data_parsing.html\">материалом</a> о сборе данных из открытых источников.\n",
        "\n",
        "Для получения максимального балла за задание достаточно выполнить все задание по стандартному варианту. Альтернативные варианты, даже более сложные, не дают больше баллов, чем максимальное количество баллов по стандартному варианту.\n",
        "\n",
        "Работа в некоторой степени творческая, поэтому конкретные детали решения в основном остаются на усмотрение автора решения. Например, если в вакансии зарплата укзана \"*от ...*\" или  \"*до ...*\", то вы сами решаете, как это обрабатывать, но не забывайте про четкую аргументацию. Не забывайте также заглядывать в презентацию по выполнению и оформлению домашних заданий с занятия 2."
      ]
    },
    {
      "cell_type": "markdown",
      "metadata": {
        "id": "DkSlolF32dAM"
      },
      "source": [
        " ---\n",
        "### Справка по работе с API сервиса hh.ru.   \n",
        "\n",
        "<b><font color=\"red\">Внимание!</font> При работе с API не забывайте делать паузы между запросами, чтобы не задудосить сервер. Если вас заблокируют, это не будет являться уважительной причиной переноса дедлайна.</b>\n",
        "\n",
        "Мы будем работать только с вакансиями. Для этого не требуется регистрироваться и получать токен. Ниже приведен краткий пример работы с API. Подробное описание работы с вакансиями, включая параметры запросов и формат ответа можно почитать в <a target=\"_blank\" href=\"https://github.com/hhru/api/blob/master/docs/vacancies.md#search\">документации</a>.\n",
        "\n",
        "Например, мы хотим найти вакансии по запросу `Data Scientist` в Москве. Тогда первую страницу поиска из 10 вакансий на страницу мы можем получить с запроса к API:"
      ]
    },
    {
      "cell_type": "code",
      "execution_count": null,
      "metadata": {
        "ExecuteTime": {
          "end_time": "2024-05-02T18:37:25.378457Z",
          "start_time": "2024-05-02T18:37:23.769505Z"
        },
        "id": "gT2DTKgt2dAN"
      },
      "outputs": [],
      "source": [
        "URL = \"https://api.hh.ru/vacancies\"\n",
        "\n",
        "params = {\n",
        "    \"text\": \"Data Scientist\",\n",
        "    \"area\": 1,\n",
        "    \"page\": 0,\n",
        "    \"per_page\": 10,\n",
        "}\n",
        "\n",
        "req = requests.get(URL, params)\n",
        "data = json.loads(req.content.decode())"
      ]
    },
    {
      "cell_type": "markdown",
      "metadata": {
        "id": "lMULb2Qe2dAN"
      },
      "source": [
        "Если все прошло успешно, полученный словарь будет иметь следующие ключи"
      ]
    },
    {
      "cell_type": "code",
      "execution_count": null,
      "metadata": {
        "ExecuteTime": {
          "end_time": "2024-05-02T18:37:25.386082Z",
          "start_time": "2024-05-02T18:37:25.379910Z"
        },
        "id": "bKp2DL7T2dAN",
        "outputId": "dfef25d3-d9a3-46d5-e5d3-cc9621477d33"
      },
      "outputs": [
        {
          "data": {
            "text/plain": [
              "dict_keys(['items', 'found', 'pages', 'page', 'per_page', 'clusters', 'arguments', 'fixes', 'suggests', 'alternate_url'])"
            ]
          },
          "execution_count": 61,
          "metadata": {},
          "output_type": "execute_result"
        }
      ],
      "source": [
        "data.keys()"
      ]
    },
    {
      "cell_type": "code",
      "execution_count": null,
      "metadata": {
        "id": "RaEDe1qR2dAO"
      },
      "outputs": [],
      "source": []
    },
    {
      "cell_type": "markdown",
      "metadata": {
        "id": "B92rB6-B2dAO"
      },
      "source": [
        "Можем посмотреть на краткое описание первой вакансии"
      ]
    },
    {
      "cell_type": "code",
      "execution_count": null,
      "metadata": {
        "ExecuteTime": {
          "end_time": "2024-05-02T18:37:25.402771Z",
          "start_time": "2024-05-02T18:37:25.387537Z"
        },
        "scrolled": false,
        "id": "CSilkCRX2dAO",
        "outputId": "d0716f48-28d9-4ead-a949-9e70af30ecc5"
      },
      "outputs": [
        {
          "data": {
            "text/plain": [
              "{'id': '98612984',\n",
              " 'premium': False,\n",
              " 'name': 'Petroleum Engineer (Baku)',\n",
              " 'department': None,\n",
              " 'has_test': False,\n",
              " 'response_letter_required': False,\n",
              " 'area': {'id': '1', 'name': 'Москва', 'url': 'https://api.hh.ru/areas/1'},\n",
              " 'salary': None,\n",
              " 'type': {'id': 'open', 'name': 'Открытая'},\n",
              " 'address': None,\n",
              " 'response_url': None,\n",
              " 'sort_point_distance': None,\n",
              " 'published_at': '2024-05-08T13:10:45+0300',\n",
              " 'created_at': '2024-05-08T13:10:45+0300',\n",
              " 'archived': False,\n",
              " 'apply_alternate_url': 'https://hh.ru/applicant/vacancy_response?vacancyId=98612984',\n",
              " 'show_logo_in_search': None,\n",
              " 'insider_interview': None,\n",
              " 'url': 'https://api.hh.ru/vacancies/98612984?host=hh.ru',\n",
              " 'alternate_url': 'https://hh.ru/vacancy/98612984',\n",
              " 'relations': [],\n",
              " 'employer': {'id': '1068',\n",
              "  'name': 'Cornerstone Russia',\n",
              "  'url': 'https://api.hh.ru/employers/1068',\n",
              "  'alternate_url': 'https://hh.ru/employer/1068',\n",
              "  'logo_urls': {'240': 'https://img.hhcdn.ru/employer-logo/1643847.jpeg',\n",
              "   'original': 'https://img.hhcdn.ru/employer-logo-original/300368.jpg',\n",
              "   '90': 'https://img.hhcdn.ru/employer-logo/1643846.jpeg'},\n",
              "  'vacancies_url': 'https://api.hh.ru/vacancies?employer_id=1068',\n",
              "  'accredited_it_employer': False,\n",
              "  'trusted': True},\n",
              " 'snippet': {'requirement': 'Fluent usage of professional software – PETEX (Prosper, MBal), Ecrin (Saphir, Topaze), WellFlow, FracproPT, PanSystem, Tempest, NGT Smart Basic <highlighttext>data</highlighttext> manipulation...',\n",
              "  'responsibility': 'Performing Inflow Performance Relationship (IPR) analysis. Setting up surface well production facilities. Keeping track of the well production history. '},\n",
              " 'contacts': None,\n",
              " 'schedule': {'id': 'fullDay', 'name': 'Полный день'},\n",
              " 'working_days': [],\n",
              " 'working_time_intervals': [],\n",
              " 'working_time_modes': [],\n",
              " 'accept_temporary': False,\n",
              " 'professional_roles': [{'id': '40', 'name': 'Другое'}],\n",
              " 'accept_incomplete_resumes': False,\n",
              " 'experience': {'id': 'between3And6', 'name': 'От 3 до 6 лет'},\n",
              " 'employment': {'id': 'full', 'name': 'Полная занятость'},\n",
              " 'adv_response_url': None,\n",
              " 'is_adv_vacancy': False,\n",
              " 'adv_context': None}"
            ]
          },
          "execution_count": 62,
          "metadata": {},
          "output_type": "execute_result"
        }
      ],
      "source": [
        "data[\"items\"][0]"
      ]
    },
    {
      "cell_type": "markdown",
      "metadata": {
        "id": "DEe03w8f2dAP"
      },
      "source": [
        "Сколько всего найдено вакансий"
      ]
    },
    {
      "cell_type": "code",
      "execution_count": null,
      "metadata": {
        "ExecuteTime": {
          "end_time": "2024-05-02T18:37:25.414494Z",
          "start_time": "2024-05-02T18:37:25.404875Z"
        },
        "id": "1LHBpINE2dAP",
        "outputId": "694cea58-6d97-4f93-8a31-3bc6700fd250"
      },
      "outputs": [
        {
          "data": {
            "text/plain": [
              "359"
            ]
          },
          "execution_count": 63,
          "metadata": {},
          "output_type": "execute_result"
        }
      ],
      "source": [
        "data[\"found\"]"
      ]
    },
    {
      "cell_type": "markdown",
      "metadata": {
        "id": "CYbjCWf22dAQ"
      },
      "source": [
        "Количество страниц в результатах поиска"
      ]
    },
    {
      "cell_type": "code",
      "execution_count": null,
      "metadata": {
        "ExecuteTime": {
          "end_time": "2024-05-02T18:37:25.426241Z",
          "start_time": "2024-05-02T18:37:25.415941Z"
        },
        "id": "5TOY97BS2dAQ",
        "outputId": "d572c968-0255-4c01-f6d9-a45f994c2bd8"
      },
      "outputs": [
        {
          "data": {
            "text/plain": [
              "36"
            ]
          },
          "execution_count": 64,
          "metadata": {},
          "output_type": "execute_result"
        }
      ],
      "source": [
        "data[\"pages\"]"
      ]
    },
    {
      "cell_type": "markdown",
      "metadata": {
        "id": "DjiQCZlC2dAQ"
      },
      "source": [
        "Из результатов можем сделать удобную таблицу, причем в дальнейшем можно оставить только те колонки, которые необходимы для анализа."
      ]
    },
    {
      "cell_type": "code",
      "execution_count": null,
      "metadata": {
        "ExecuteTime": {
          "end_time": "2024-05-02T18:37:25.455125Z",
          "start_time": "2024-05-02T18:37:25.428160Z"
        },
        "id": "oOOJ9bSk2dAQ",
        "outputId": "38cd9b9d-f8ce-44bc-9ca3-42bec57ce6e8"
      },
      "outputs": [
        {
          "data": {
            "text/html": [
              "<div>\n",
              "<style scoped>\n",
              "    .dataframe tbody tr th:only-of-type {\n",
              "        vertical-align: middle;\n",
              "    }\n",
              "\n",
              "    .dataframe tbody tr th {\n",
              "        vertical-align: top;\n",
              "    }\n",
              "\n",
              "    .dataframe thead th {\n",
              "        text-align: right;\n",
              "    }\n",
              "</style>\n",
              "<table border=\"1\" class=\"dataframe\">\n",
              "  <thead>\n",
              "    <tr style=\"text-align: right;\">\n",
              "      <th></th>\n",
              "      <th>id</th>\n",
              "      <th>premium</th>\n",
              "      <th>name</th>\n",
              "      <th>department</th>\n",
              "      <th>has_test</th>\n",
              "      <th>response_letter_required</th>\n",
              "      <th>salary</th>\n",
              "      <th>address</th>\n",
              "      <th>response_url</th>\n",
              "      <th>sort_point_distance</th>\n",
              "      <th>...</th>\n",
              "      <th>address.metro.line_name</th>\n",
              "      <th>address.metro.station_id</th>\n",
              "      <th>address.metro.line_id</th>\n",
              "      <th>address.metro.lat</th>\n",
              "      <th>address.metro.lng</th>\n",
              "      <th>branding.type</th>\n",
              "      <th>branding.tariff</th>\n",
              "      <th>employer.logo_urls</th>\n",
              "      <th>department.id</th>\n",
              "      <th>department.name</th>\n",
              "    </tr>\n",
              "  </thead>\n",
              "  <tbody>\n",
              "    <tr>\n",
              "      <th>0</th>\n",
              "      <td>98612984</td>\n",
              "      <td>False</td>\n",
              "      <td>Petroleum Engineer (Baku)</td>\n",
              "      <td>NaN</td>\n",
              "      <td>False</td>\n",
              "      <td>False</td>\n",
              "      <td>NaN</td>\n",
              "      <td>NaN</td>\n",
              "      <td>None</td>\n",
              "      <td>None</td>\n",
              "      <td>...</td>\n",
              "      <td>NaN</td>\n",
              "      <td>NaN</td>\n",
              "      <td>NaN</td>\n",
              "      <td>NaN</td>\n",
              "      <td>NaN</td>\n",
              "      <td>NaN</td>\n",
              "      <td>NaN</td>\n",
              "      <td>NaN</td>\n",
              "      <td>NaN</td>\n",
              "      <td>NaN</td>\n",
              "    </tr>\n",
              "    <tr>\n",
              "      <th>1</th>\n",
              "      <td>98594437</td>\n",
              "      <td>False</td>\n",
              "      <td>Data Scientist</td>\n",
              "      <td>NaN</td>\n",
              "      <td>False</td>\n",
              "      <td>False</td>\n",
              "      <td>NaN</td>\n",
              "      <td>NaN</td>\n",
              "      <td>None</td>\n",
              "      <td>None</td>\n",
              "      <td>...</td>\n",
              "      <td>NaN</td>\n",
              "      <td>NaN</td>\n",
              "      <td>NaN</td>\n",
              "      <td>NaN</td>\n",
              "      <td>NaN</td>\n",
              "      <td>NaN</td>\n",
              "      <td>NaN</td>\n",
              "      <td>NaN</td>\n",
              "      <td>NaN</td>\n",
              "      <td>NaN</td>\n",
              "    </tr>\n",
              "    <tr>\n",
              "      <th>2</th>\n",
              "      <td>97821551</td>\n",
              "      <td>False</td>\n",
              "      <td>Chief data officer</td>\n",
              "      <td>NaN</td>\n",
              "      <td>False</td>\n",
              "      <td>False</td>\n",
              "      <td>NaN</td>\n",
              "      <td>NaN</td>\n",
              "      <td>None</td>\n",
              "      <td>None</td>\n",
              "      <td>...</td>\n",
              "      <td>Замоскворецкая</td>\n",
              "      <td>2.2</td>\n",
              "      <td>2</td>\n",
              "      <td>55.706634</td>\n",
              "      <td>37.657008</td>\n",
              "      <td>MAKEUP</td>\n",
              "      <td>None</td>\n",
              "      <td>NaN</td>\n",
              "      <td>NaN</td>\n",
              "      <td>NaN</td>\n",
              "    </tr>\n",
              "    <tr>\n",
              "      <th>3</th>\n",
              "      <td>98592181</td>\n",
              "      <td>False</td>\n",
              "      <td>Аналитик данных/Junior DATA SCIENTIST</td>\n",
              "      <td>NaN</td>\n",
              "      <td>False</td>\n",
              "      <td>False</td>\n",
              "      <td>NaN</td>\n",
              "      <td>NaN</td>\n",
              "      <td>None</td>\n",
              "      <td>None</td>\n",
              "      <td>...</td>\n",
              "      <td>Филевская</td>\n",
              "      <td>4.73</td>\n",
              "      <td>4</td>\n",
              "      <td>55.740544</td>\n",
              "      <td>37.534100</td>\n",
              "      <td>MAKEUP</td>\n",
              "      <td>None</td>\n",
              "      <td>NaN</td>\n",
              "      <td>NaN</td>\n",
              "      <td>NaN</td>\n",
              "    </tr>\n",
              "    <tr>\n",
              "      <th>4</th>\n",
              "      <td>97615359</td>\n",
              "      <td>False</td>\n",
              "      <td>Junior Data Scientist / Младший аналитик данных</td>\n",
              "      <td>NaN</td>\n",
              "      <td>False</td>\n",
              "      <td>False</td>\n",
              "      <td>NaN</td>\n",
              "      <td>NaN</td>\n",
              "      <td>None</td>\n",
              "      <td>None</td>\n",
              "      <td>...</td>\n",
              "      <td>NaN</td>\n",
              "      <td>NaN</td>\n",
              "      <td>NaN</td>\n",
              "      <td>NaN</td>\n",
              "      <td>NaN</td>\n",
              "      <td>MAKEUP</td>\n",
              "      <td>None</td>\n",
              "      <td>NaN</td>\n",
              "      <td>NaN</td>\n",
              "      <td>NaN</td>\n",
              "    </tr>\n",
              "  </tbody>\n",
              "</table>\n",
              "<p>5 rows × 77 columns</p>\n",
              "</div>"
            ],
            "text/plain": [
              "         id  premium                                             name  \\\n",
              "0  98612984    False                        Petroleum Engineer (Baku)   \n",
              "1  98594437    False                                   Data Scientist   \n",
              "2  97821551    False                               Chief data officer   \n",
              "3  98592181    False            Аналитик данных/Junior DATA SCIENTIST   \n",
              "4  97615359    False  Junior Data Scientist / Младший аналитик данных   \n",
              "\n",
              "   department  has_test  response_letter_required  salary  address  \\\n",
              "0         NaN     False                     False     NaN      NaN   \n",
              "1         NaN     False                     False     NaN      NaN   \n",
              "2         NaN     False                     False     NaN      NaN   \n",
              "3         NaN     False                     False     NaN      NaN   \n",
              "4         NaN     False                     False     NaN      NaN   \n",
              "\n",
              "  response_url sort_point_distance  ... address.metro.line_name  \\\n",
              "0         None                None  ...                     NaN   \n",
              "1         None                None  ...                     NaN   \n",
              "2         None                None  ...          Замоскворецкая   \n",
              "3         None                None  ...               Филевская   \n",
              "4         None                None  ...                     NaN   \n",
              "\n",
              "  address.metro.station_id  address.metro.line_id address.metro.lat  \\\n",
              "0                      NaN                    NaN               NaN   \n",
              "1                      NaN                    NaN               NaN   \n",
              "2                      2.2                      2         55.706634   \n",
              "3                     4.73                      4         55.740544   \n",
              "4                      NaN                    NaN               NaN   \n",
              "\n",
              "  address.metro.lng branding.type branding.tariff employer.logo_urls  \\\n",
              "0               NaN           NaN             NaN                NaN   \n",
              "1               NaN           NaN             NaN                NaN   \n",
              "2         37.657008        MAKEUP            None                NaN   \n",
              "3         37.534100        MAKEUP            None                NaN   \n",
              "4               NaN        MAKEUP            None                NaN   \n",
              "\n",
              "  department.id department.name  \n",
              "0           NaN             NaN  \n",
              "1           NaN             NaN  \n",
              "2           NaN             NaN  \n",
              "3           NaN             NaN  \n",
              "4           NaN             NaN  \n",
              "\n",
              "[5 rows x 77 columns]"
            ]
          },
          "execution_count": 65,
          "metadata": {},
          "output_type": "execute_result"
        }
      ],
      "source": [
        "df = pd.json_normalize(data[\"items\"])\n",
        "df.head()"
      ]
    },
    {
      "cell_type": "markdown",
      "metadata": {
        "id": "blEmlgiR2dAR"
      },
      "source": [
        "Для получения полного описания вакансии потребуется задать отдельный запрос, используя ее `id`."
      ]
    },
    {
      "cell_type": "code",
      "execution_count": null,
      "metadata": {
        "ExecuteTime": {
          "end_time": "2024-05-02T18:37:25.564865Z",
          "start_time": "2024-05-02T18:37:25.457599Z"
        },
        "id": "MHsos3aq2dAR"
      },
      "outputs": [],
      "source": [
        "vacancy = df[\"id\"].iloc[0]\n",
        "vacancy_url = f\"https://api.hh.ru/vacancies/{vacancy}\"\n",
        "\n",
        "req = requests.get(vacancy_url)\n",
        "vacancy_info = json.loads(req.content.decode())"
      ]
    },
    {
      "cell_type": "code",
      "execution_count": null,
      "metadata": {
        "ExecuteTime": {
          "end_time": "2024-05-02T18:37:25.573084Z",
          "start_time": "2024-05-02T18:37:25.566564Z"
        },
        "scrolled": false,
        "id": "2n3-2aw22dAR",
        "outputId": "a8b1c2c6-b13a-474d-e528-b8bbdd67b40e"
      },
      "outputs": [
        {
          "data": {
            "text/plain": [
              "{'id': '98612984',\n",
              " 'premium': False,\n",
              " 'billing_type': {'id': 'standard', 'name': 'Стандарт'},\n",
              " 'relations': [],\n",
              " 'name': 'Petroleum Engineer (Baku)',\n",
              " 'insider_interview': None,\n",
              " 'response_letter_required': False,\n",
              " 'area': {'id': '1', 'name': 'Москва', 'url': 'https://api.hh.ru/areas/1'},\n",
              " 'salary': None,\n",
              " 'type': {'id': 'open', 'name': 'Открытая'},\n",
              " 'address': None,\n",
              " 'allow_messages': True,\n",
              " 'experience': {'id': 'between3And6', 'name': 'От 3 до 6 лет'},\n",
              " 'schedule': {'id': 'fullDay', 'name': 'Полный день'},\n",
              " 'employment': {'id': 'full', 'name': 'Полная занятость'},\n",
              " 'department': None,\n",
              " 'contacts': None,\n",
              " 'description': '<p><strong>PE Specialist will be working with Data Scientists to solve complex Petroleum Engineering problems by development of digital solutions and automation techniques.</strong></p> <p><strong>Responsibilities for this position may include but are not limited to:</strong></p> <ul> <li> <p>Performing Inflow Performance Relationship (IPR) analysis;</p> </li> <li> <p>Setting up surface well production facilities;</p> </li> <li> <p>Keeping track of the well production history;</p> </li> <li> <p>Working with completion engineers to design completion systems and stimulation techniques to maximize the production;</p> </li> <li> <p>Managing fluid treatment and disposal;</p> </li> <li> <p>Performing nodal analysis to ensure the optimal design for well production equipment is used;</p> </li> <li> <p>Designing and optimizing artificial lift systems to increase production rates. This involves working with sucker rod pumps, gas lifts, ESPs, PCPs, and hydraulic pumps;</p> </li> <li> <p>Forecasting well production and performing economic analysis</p> </li> <li> <p>Monitoring production performance and addressing any problems when the wells are not producing as expected;</p> </li> <li> <p>Designing workover well operations to improve production. This includes writing procedures and performing economic evaluations of the proposed operations;</p> </li> <li> <p>Planning Enhanced Oil Recovery (EOR) operations such as water flooding, CO2 injection, and chemical flooding.</p> </li> </ul> <p><strong>Required Qualifications:</strong></p> <ul> <li> <p>Bachelor’s or Master’s degree in Petroleum Engineering or related field;</p> </li> <li> <p>5+ years’ experience as a production engineer in an upstream oil and gas industry;</p> </li> <li> <p>An intensive knowledge on different type of well stimulations from planning, designing and execution point of view;</p> </li> <li> <p>Expertise of the different fluid systems/stimulation completions;</p> </li> <li> <p>Skills in evaluating well performance pre - and post stimulation;</p> </li> <li> <p>Depth theoretical and hands-on knowledge of productivity enhancement performance evaluation techniques ;</p> </li> <li> <p>Ability to apply knowledge gained from industry and academia to generate practical solutions in upstream oil and gas production;</p> </li> <li> <p>Knowledge of reservoir characterization and geologic modeling, petro-physical evaluation, core analysis, reservoir management, and production engineering;</p> </li> <li> <p>Good communication, report writing and presentation skills in English, ability to deliver his/her ideas to the R&amp;D team, the collaborators, and proponents;</p> </li> <li> <p>Fluent usage of professional software – PETEX (Prosper, MBal), Ecrin (Saphir, Topaze), WellFlow, FracproPT, PanSystem, Tempest, NGT Smart Basic data manipulation techniques (Python, etc.) is a plus.</p> </li> </ul> <p> </p>',\n",
              " 'branded_description': None,\n",
              " 'vacancy_constructor_template': None,\n",
              " 'key_skills': [],\n",
              " 'accept_handicapped': False,\n",
              " 'accept_kids': False,\n",
              " 'archived': False,\n",
              " 'response_url': None,\n",
              " 'specializations': [],\n",
              " 'professional_roles': [{'id': '40', 'name': 'Другое'}],\n",
              " 'code': None,\n",
              " 'hidden': False,\n",
              " 'quick_responses_allowed': False,\n",
              " 'driver_license_types': [],\n",
              " 'accept_incomplete_resumes': False,\n",
              " 'employer': {'id': '1068',\n",
              "  'name': 'Cornerstone Russia',\n",
              "  'url': 'https://api.hh.ru/employers/1068',\n",
              "  'alternate_url': 'https://hh.ru/employer/1068',\n",
              "  'logo_urls': {'240': 'https://img.hhcdn.ru/employer-logo/1643847.jpeg',\n",
              "   'original': 'https://img.hhcdn.ru/employer-logo-original/300368.jpg',\n",
              "   '90': 'https://img.hhcdn.ru/employer-logo/1643846.jpeg'},\n",
              "  'vacancies_url': 'https://api.hh.ru/vacancies?employer_id=1068',\n",
              "  'accredited_it_employer': False,\n",
              "  'trusted': True},\n",
              " 'published_at': '2024-05-08T13:10:45+0300',\n",
              " 'created_at': '2024-05-08T13:10:45+0300',\n",
              " 'initial_created_at': '2024-05-08T13:10:45+0300',\n",
              " 'negotiations_url': None,\n",
              " 'suitable_resumes_url': None,\n",
              " 'apply_alternate_url': 'https://hh.ru/applicant/vacancy_response?vacancyId=98612984',\n",
              " 'has_test': False,\n",
              " 'test': None,\n",
              " 'alternate_url': 'https://hh.ru/vacancy/98612984',\n",
              " 'working_days': [],\n",
              " 'working_time_intervals': [],\n",
              " 'working_time_modes': [],\n",
              " 'accept_temporary': False,\n",
              " 'languages': [],\n",
              " 'approved': True}"
            ]
          },
          "execution_count": 12,
          "metadata": {},
          "output_type": "execute_result"
        }
      ],
      "source": [
        "vacancy_info"
      ]
    },
    {
      "cell_type": "markdown",
      "metadata": {
        "id": "GJs79keG2dAR"
      },
      "source": [
        "---\n",
        "\n",
        "### <font color=\"orange\"><i>Сложная часть</i></font>"
      ]
    },
    {
      "cell_type": "markdown",
      "metadata": {
        "id": "yFQLFUw12dAS"
      },
      "source": [
        " ---\n",
        "### Задача 1.   \n",
        "\n",
        "Исследуем профессию Data Scientist. Найдите как можно больше вакансий по этой профессии в Москве. Учтите, что имеет смысл искать также по другим ключевым словам, например, `аналитик данных`."
      ]
    },
    {
      "cell_type": "code",
      "execution_count": null,
      "metadata": {
        "id": "qJfuxI6_2dAS"
      },
      "outputs": [],
      "source": [
        "import time\n",
        "from scipy import stats as sts"
      ]
    },
    {
      "cell_type": "code",
      "execution_count": null,
      "metadata": {
        "id": "GoJBIUO12dAS"
      },
      "outputs": [],
      "source": [
        "def get_one_page(params, page_number):\n",
        "    params[\"page\"] = page_number;\n",
        "\n",
        "    req = requests.get(URL, params)\n",
        "    data = json.loads(req.content.decode())\n",
        "\n",
        "    return data;"
      ]
    },
    {
      "cell_type": "code",
      "execution_count": null,
      "metadata": {
        "id": "p75XcIwe2dAS",
        "outputId": "80dfbce8-e79c-4ef7-df96-462b97a72009"
      },
      "outputs": [
        {
          "name": "stdout",
          "output_type": "stream",
          "text": [
            "20\n",
            "Found:9065\n",
            "Page:1\n",
            "Page:2\n",
            "Page:3\n",
            "Page:4\n",
            "Page:5\n",
            "Page:6\n",
            "Page:7\n",
            "Page:8\n",
            "Page:9\n",
            "Page:10\n",
            "Page:11\n",
            "Page:12\n",
            "Page:13\n",
            "Page:14\n",
            "Page:15\n",
            "Page:16\n",
            "Page:17\n",
            "Page:18\n",
            "Page:19\n",
            "10\n",
            "Found:908\n",
            "Page:1\n",
            "Page:2\n",
            "Page:3\n",
            "Page:4\n",
            "Page:5\n",
            "Page:6\n",
            "Page:7\n",
            "Page:8\n",
            "Page:9\n",
            "2\n",
            "Found:111\n",
            "Page:1\n",
            "20\n",
            "Found:3532\n",
            "Page:1\n",
            "Page:2\n",
            "Page:3\n",
            "Page:4\n",
            "Page:5\n",
            "Page:6\n",
            "Page:7\n",
            "Page:8\n",
            "Page:9\n",
            "Page:10\n",
            "Page:11\n",
            "Page:12\n",
            "Page:13\n",
            "Page:14\n",
            "Page:15\n",
            "Page:16\n",
            "Page:17\n",
            "Page:18\n",
            "Page:19\n",
            "20\n",
            "Found:14669\n",
            "Page:1\n",
            "Page:2\n",
            "Page:3\n",
            "Page:4\n",
            "Page:5\n",
            "Page:6\n",
            "Page:7\n",
            "Page:8\n",
            "Page:9\n",
            "Page:10\n",
            "Page:11\n",
            "Page:12\n",
            "Page:13\n",
            "Page:14\n",
            "Page:15\n",
            "Page:16\n",
            "Page:17\n",
            "Page:18\n",
            "Page:19\n",
            "4\n",
            "Found:359\n",
            "Page:1\n",
            "Page:2\n",
            "Page:3\n"
          ]
        }
      ],
      "source": [
        "synonyms = [\"аналитик данных\", \"data engineer\", \"Machine Learning Engineer\", \"Статистика\", \"анализ данных\", \"Data Scientist\"]\n",
        "\n",
        "URL = \"https://api.hh.ru/vacancies\"\n",
        "main_df = df;\n",
        "set_df = False;\n",
        "for vacancy in synonyms:\n",
        "    params = {\n",
        "        \"text\": vacancy,\n",
        "        \"area\": 1,\n",
        "        \"page\": 0,\n",
        "        \"per_page\": 100,\n",
        "    }\n",
        "\n",
        "    data = get_one_page(params, 0);\n",
        "    print(data[\"pages\"])\n",
        "    print(f\"Found:{data['found']}\");\n",
        "    number_of_pages = data[\"pages\"];\n",
        "\n",
        "    data = pd.json_normalize(data[\"items\"])\n",
        "    main_df = pd.concat([main_df, data], axis=0);\n",
        "    for i in range(1, number_of_pages):\n",
        "        print(f\"Page:{i}\")\n",
        "        data = get_one_page(params, i);\n",
        "        data = pd.json_normalize(data[\"items\"])\n",
        "        main_df = pd.concat([main_df, data], axis=0);\n",
        "\n",
        "        time.sleep(round(sts.uniform(loc=1, scale=2).rvs(1)[0], 3));"
      ]
    },
    {
      "cell_type": "code",
      "execution_count": null,
      "metadata": {
        "id": "ReeH3aLi2dAT",
        "outputId": "5a1df609-e53f-4c8e-93ea-ce13ebb8c62f"
      },
      "outputs": [
        {
          "name": "stdout",
          "output_type": "stream",
          "text": [
            "7388\n",
            "         id  premium                                             name  \\\n",
            "0  98612984    False                        Petroleum Engineer (Baku)   \n",
            "1  98594437    False                                   Data Scientist   \n",
            "2  97821551    False                               Chief data officer   \n",
            "3  98592181    False            Аналитик данных/Junior DATA SCIENTIST   \n",
            "4  97615359    False  Junior Data Scientist / Младший аналитик данных   \n",
            "5  98467232    False                            Junior data scientist   \n",
            "6  97153868    False           Junior Data Scientist (Ranking&Search)   \n",
            "7  98621186    False                                   Data Scientist   \n",
            "8  98562382    False                                   Data Scientist   \n",
            "9  97099282    False           Стажер Java разработчик, Верхний Поиск   \n",
            "\n",
            "   department  has_test  response_letter_required salary  address  \\\n",
            "0         NaN     False                     False    NaN      NaN   \n",
            "1         NaN     False                     False    NaN      NaN   \n",
            "2         NaN     False                     False    NaN      NaN   \n",
            "3         NaN     False                     False    NaN      NaN   \n",
            "4         NaN     False                     False    NaN      NaN   \n",
            "5         NaN     False                     False    NaN      NaN   \n",
            "6         NaN      True                     False    NaN      NaN   \n",
            "7         NaN     False                     False    NaN      NaN   \n",
            "8         NaN     False                     False    NaN      NaN   \n",
            "9         NaN      True                     False    NaN      NaN   \n",
            "\n",
            "  response_url sort_point_distance  ... address.metro.line_id  \\\n",
            "0         None                None  ...                   NaN   \n",
            "1         None                None  ...                   NaN   \n",
            "2         None                None  ...                     2   \n",
            "3         None                None  ...                     4   \n",
            "4         None                None  ...                   NaN   \n",
            "5         None                None  ...                     4   \n",
            "6         None                None  ...                   NaN   \n",
            "7         None                None  ...                   NaN   \n",
            "8         None                None  ...                     2   \n",
            "9         None                None  ...                    97   \n",
            "\n",
            "  address.metro.lat  address.metro.lng branding.type branding.tariff  \\\n",
            "0               NaN                NaN           NaN             NaN   \n",
            "1               NaN                NaN           NaN             NaN   \n",
            "2         55.706634          37.657008        MAKEUP            None   \n",
            "3         55.740544          37.534100        MAKEUP            None   \n",
            "4               NaN                NaN        MAKEUP            None   \n",
            "5         55.743168          37.565425   CONSTRUCTOR           BASIC   \n",
            "6               NaN                NaN        MAKEUP            None   \n",
            "7               NaN                NaN           NaN             NaN   \n",
            "8         55.729741          37.638693           NaN             NaN   \n",
            "9         55.749100          37.539500        MAKEUP            None   \n",
            "\n",
            "  employer.logo_urls    department.id                 department.name  \\\n",
            "0                NaN              NaN                             NaN   \n",
            "1                NaN              NaN                             NaN   \n",
            "2                NaN              NaN                             NaN   \n",
            "3                NaN              NaN                             NaN   \n",
            "4                NaN              NaN                             NaN   \n",
            "5                NaN              NaN                             NaN   \n",
            "6                NaN              NaN                             NaN   \n",
            "7                NaN              NaN                             NaN   \n",
            "8                NaN              NaN                             NaN   \n",
            "9                NaN  ozonru-2180-dev  Ozon Информационные технологии   \n",
            "\n",
            "  insider_interview.id insider_interview.url  \n",
            "0                  NaN                   NaN  \n",
            "1                  NaN                   NaN  \n",
            "2                  NaN                   NaN  \n",
            "3                  NaN                   NaN  \n",
            "4                  NaN                   NaN  \n",
            "5                  NaN                   NaN  \n",
            "6                  NaN                   NaN  \n",
            "7                  NaN                   NaN  \n",
            "8                  NaN                   NaN  \n",
            "9                  NaN                   NaN  \n",
            "\n",
            "[10 rows x 79 columns]\n"
          ]
        }
      ],
      "source": [
        "print(len(main_df.index));\n",
        "print(main_df.head(10))"
      ]
    },
    {
      "cell_type": "markdown",
      "metadata": {
        "id": "Q2lbUYGp2dAT"
      },
      "source": [
        "В полученную выборку некоторые вакансии могли попасть несколько раз. Удалите дубликаты."
      ]
    },
    {
      "cell_type": "code",
      "execution_count": null,
      "metadata": {
        "id": "kDoU2NjB2dAT",
        "outputId": "b8ad0747-a76c-4a29-ddfa-4ac736e91c69"
      },
      "outputs": [
        {
          "name": "stdout",
          "output_type": "stream",
          "text": [
            "5779\n"
          ]
        }
      ],
      "source": [
        "main_df = main_df.drop_duplicates(subset=['id'])\n",
        "main_df = main_df.reset_index();\n",
        "print(len(main_df.index))"
      ]
    },
    {
      "cell_type": "markdown",
      "metadata": {
        "id": "EYS2YcNw2dAU"
      },
      "source": [
        "Загрузите подробное описание каждой вакансии и создайте удобную для дальнейших действий таблицу данных."
      ]
    },
    {
      "cell_type": "code",
      "execution_count": null,
      "metadata": {
        "id": "kMm2_7IS2dAU",
        "outputId": "3f7d1622-740a-4956-9e93-d8d11f29d5ef"
      },
      "outputs": [
        {
          "name": "stdout",
          "output_type": "stream",
          "text": [
            "0\n",
            "10\n",
            "20\n",
            "30\n",
            "40\n",
            "50\n",
            "60\n",
            "70\n",
            "80\n",
            "90\n",
            "100\n",
            "110\n",
            "120\n",
            "130\n",
            "140\n",
            "150\n",
            "160\n",
            "170\n",
            "180\n",
            "190\n",
            "200\n",
            "210\n",
            "220\n",
            "230\n",
            "240\n",
            "250\n",
            "260\n",
            "270\n",
            "280\n",
            "290\n",
            "300\n",
            "310\n",
            "320\n",
            "330\n",
            "340\n",
            "350\n",
            "360\n",
            "370\n",
            "380\n",
            "390\n",
            "400\n",
            "410\n",
            "420\n",
            "430\n",
            "440\n",
            "450\n",
            "460\n",
            "470\n",
            "480\n",
            "490\n",
            "500\n",
            "510\n",
            "520\n",
            "530\n",
            "540\n",
            "550\n",
            "560\n",
            "570\n",
            "580\n",
            "590\n",
            "600\n",
            "610\n",
            "620\n",
            "630\n",
            "640\n",
            "650\n",
            "660\n",
            "670\n",
            "680\n",
            "690\n",
            "700\n",
            "710\n",
            "720\n",
            "730\n",
            "740\n",
            "750\n",
            "760\n",
            "770\n",
            "780\n",
            "790\n",
            "800\n",
            "810\n",
            "820\n",
            "830\n",
            "840\n",
            "850\n",
            "860\n",
            "870\n",
            "880\n",
            "890\n",
            "900\n",
            "910\n",
            "920\n",
            "930\n",
            "940\n",
            "950\n",
            "960\n",
            "970\n",
            "980\n",
            "990\n",
            "1000\n",
            "1010\n",
            "1020\n",
            "1030\n",
            "1040\n",
            "1050\n",
            "1060\n",
            "1070\n",
            "1080\n",
            "1090\n",
            "1100\n",
            "1110\n",
            "1120\n",
            "1130\n",
            "1140\n",
            "1150\n",
            "1160\n",
            "1170\n",
            "1180\n",
            "1190\n",
            "1200\n",
            "1210\n",
            "1220\n",
            "1230\n",
            "1240\n",
            "1250\n",
            "1260\n",
            "1270\n",
            "1280\n",
            "1290\n",
            "1300\n",
            "1310\n",
            "1320\n",
            "1330\n",
            "1340\n",
            "1350\n",
            "1360\n",
            "1370\n",
            "1380\n",
            "1390\n",
            "1400\n",
            "1410\n",
            "1420\n",
            "1430\n",
            "1440\n",
            "1450\n",
            "1460\n",
            "1470\n",
            "1480\n",
            "1490\n",
            "1500\n",
            "1510\n",
            "1520\n",
            "1530\n",
            "1540\n",
            "1550\n",
            "1560\n",
            "1570\n",
            "1580\n",
            "1590\n",
            "1600\n",
            "1610\n",
            "1620\n",
            "1630\n",
            "1640\n",
            "1650\n",
            "1660\n",
            "1670\n",
            "1680\n",
            "1690\n",
            "1700\n",
            "1710\n",
            "1720\n",
            "1730\n",
            "1740\n",
            "1750\n",
            "1760\n",
            "1770\n",
            "1780\n",
            "1790\n",
            "1800\n",
            "1810\n",
            "1820\n",
            "1830\n",
            "1840\n",
            "1850\n",
            "1860\n",
            "1870\n",
            "1880\n",
            "1890\n",
            "1900\n",
            "1910\n",
            "1920\n",
            "1930\n",
            "1940\n",
            "1950\n",
            "1960\n",
            "1970\n",
            "1980\n",
            "1990\n",
            "2000\n",
            "2010\n",
            "2020\n",
            "2030\n",
            "2040\n",
            "2050\n",
            "2060\n",
            "2070\n",
            "2080\n",
            "2090\n",
            "2100\n",
            "2110\n",
            "2120\n",
            "2130\n",
            "2140\n",
            "2150\n",
            "2160\n",
            "2170\n",
            "2180\n",
            "2190\n",
            "2200\n",
            "2210\n",
            "2220\n",
            "2230\n",
            "2240\n",
            "2250\n",
            "2260\n",
            "2270\n",
            "2280\n",
            "2290\n",
            "2300\n",
            "2310\n",
            "2320\n",
            "2330\n",
            "2340\n",
            "2350\n",
            "2360\n",
            "2370\n",
            "2380\n",
            "2390\n",
            "2400\n",
            "2410\n",
            "2420\n",
            "2430\n",
            "2440\n",
            "2450\n",
            "2460\n",
            "2470\n",
            "2480\n",
            "2490\n",
            "2500\n",
            "2510\n",
            "2520\n",
            "2530\n",
            "2540\n",
            "2550\n",
            "2560\n",
            "2570\n",
            "2580\n",
            "2590\n",
            "2600\n",
            "2610\n",
            "2620\n",
            "2630\n",
            "2640\n",
            "2650\n",
            "2660\n",
            "2670\n",
            "2680\n",
            "2690\n",
            "2700\n",
            "2710\n",
            "2720\n",
            "2730\n",
            "2740\n",
            "2750\n",
            "2760\n",
            "2770\n",
            "2780\n",
            "2790\n",
            "2800\n",
            "2810\n",
            "2820\n",
            "2830\n",
            "2840\n",
            "2850\n",
            "2860\n",
            "2870\n",
            "2880\n",
            "2890\n",
            "2900\n",
            "2910\n",
            "2920\n",
            "2930\n",
            "2940\n",
            "2950\n",
            "2960\n",
            "2970\n",
            "2980\n",
            "2990\n",
            "3000\n",
            "3010\n",
            "3020\n",
            "3030\n",
            "3040\n",
            "3050\n",
            "3060\n",
            "3070\n",
            "3080\n",
            "3090\n",
            "3100\n",
            "3110\n",
            "3120\n",
            "3130\n",
            "3140\n",
            "3150\n",
            "3160\n",
            "3170\n",
            "3180\n",
            "3190\n",
            "3200\n",
            "3210\n",
            "3220\n",
            "3230\n",
            "3240\n",
            "3250\n",
            "3260\n",
            "3270\n",
            "3280\n",
            "3290\n",
            "3300\n",
            "3310\n",
            "3320\n",
            "3330\n",
            "3340\n",
            "3350\n",
            "3360\n",
            "3370\n",
            "3380\n",
            "3390\n",
            "3400\n",
            "3410\n",
            "3420\n",
            "3430\n",
            "3440\n",
            "3450\n",
            "3460\n",
            "3470\n",
            "3480\n",
            "3490\n",
            "3500\n",
            "3510\n",
            "3520\n",
            "3530\n",
            "3540\n",
            "3550\n",
            "3560\n",
            "3570\n",
            "3580\n",
            "3590\n",
            "3600\n",
            "3610\n",
            "3620\n",
            "3630\n",
            "3640\n",
            "3650\n",
            "3660\n",
            "3670\n",
            "3680\n",
            "3690\n",
            "3700\n",
            "3710\n",
            "3720\n",
            "3730\n",
            "3740\n",
            "3750\n",
            "3760\n",
            "3770\n",
            "3780\n",
            "3790\n",
            "3800\n",
            "3810\n",
            "3820\n",
            "3830\n",
            "3840\n",
            "3850\n",
            "3860\n",
            "3870\n",
            "3880\n",
            "3890\n",
            "3900\n",
            "3910\n",
            "3920\n",
            "3930\n",
            "3940\n",
            "3950\n",
            "3960\n",
            "3970\n",
            "3980\n",
            "3990\n",
            "4000\n",
            "4010\n",
            "4020\n",
            "4030\n",
            "4040\n",
            "4050\n",
            "4060\n",
            "4070\n",
            "4080\n",
            "4090\n",
            "4100\n",
            "4110\n",
            "4120\n",
            "4130\n",
            "4140\n",
            "4150\n",
            "4160\n",
            "4170\n",
            "4180\n",
            "4190\n",
            "4200\n",
            "4210\n",
            "4220\n",
            "4230\n",
            "4240\n",
            "4250\n",
            "4260\n",
            "4270\n",
            "4280\n",
            "4290\n",
            "4300\n",
            "4310\n",
            "4320\n",
            "4330\n",
            "4340\n",
            "4350\n",
            "4360\n",
            "4370\n",
            "4380\n",
            "4390\n",
            "4400\n",
            "4410\n",
            "4420\n",
            "4430\n",
            "4440\n",
            "4450\n",
            "4460\n",
            "4470\n",
            "4480\n",
            "4490\n",
            "4500\n",
            "4510\n",
            "4520\n",
            "4530\n",
            "4540\n",
            "4550\n",
            "4560\n",
            "4570\n",
            "4580\n",
            "4590\n",
            "4600\n",
            "4610\n",
            "4620\n",
            "4630\n",
            "4640\n",
            "4650\n",
            "4660\n",
            "4670\n",
            "4680\n",
            "4690\n",
            "4700\n",
            "4710\n",
            "4720\n",
            "4730\n",
            "4740\n",
            "4750\n",
            "4760\n",
            "4770\n",
            "4780\n",
            "4790\n",
            "4800\n",
            "4810\n",
            "4820\n",
            "4830\n",
            "4840\n",
            "4850\n",
            "4860\n",
            "4870\n",
            "4880\n",
            "4890\n",
            "4900\n",
            "4910\n",
            "4920\n",
            "4930\n",
            "4940\n",
            "4950\n",
            "4960\n",
            "4970\n",
            "4980\n",
            "4990\n",
            "5000\n",
            "5010\n",
            "5020\n",
            "5030\n",
            "5040\n",
            "5050\n",
            "5060\n",
            "5070\n",
            "5080\n",
            "5090\n",
            "5100\n",
            "5110\n",
            "5120\n",
            "5130\n",
            "5140\n",
            "5150\n",
            "5160\n",
            "5170\n",
            "5180\n",
            "5190\n",
            "5200\n",
            "5210\n",
            "5220\n",
            "5230\n",
            "5240\n",
            "5250\n",
            "5260\n",
            "5270\n",
            "5280\n",
            "5290\n",
            "5300\n",
            "5310\n",
            "5320\n",
            "5330\n",
            "5340\n",
            "5350\n",
            "5360\n",
            "5370\n",
            "5380\n",
            "5390\n",
            "5400\n",
            "5410\n",
            "5420\n",
            "5430\n",
            "5440\n",
            "5450\n",
            "5460\n",
            "5470\n",
            "5480\n",
            "5490\n",
            "5500\n",
            "5510\n",
            "5520\n",
            "5530\n",
            "5540\n",
            "5550\n",
            "5560\n",
            "5570\n",
            "5580\n",
            "5590\n",
            "5600\n",
            "5610\n",
            "5620\n",
            "5630\n",
            "5640\n",
            "5650\n",
            "5660\n",
            "5670\n",
            "5680\n",
            "5690\n",
            "5700\n",
            "5710\n",
            "5720\n",
            "5730\n",
            "5740\n",
            "5750\n",
            "5760\n",
            "5770\n"
          ]
        }
      ],
      "source": [
        "additional_data = None;\n",
        "df_set = False;\n",
        "for i in range(len(main_df.index)):\n",
        "    vacancy = main_df[\"id\"].iloc[i]\n",
        "    vacancy_url = f\"https://api.hh.ru/vacancies/{vacancy}\"\n",
        "\n",
        "    req = requests.get(vacancy_url)\n",
        "    vacancy_info = json.loads(req.content.decode())\n",
        "    vacancy_info = pd.json_normalize(vacancy_info)\n",
        "\n",
        "    if not df_set:\n",
        "        additional_data = vacancy_info;\n",
        "        df_set = True;\n",
        "    else:\n",
        "        additional_data = pd.concat([additional_data, vacancy_info], axis=0);\n",
        "    if i % 10 == 0:\n",
        "        time.sleep(round(sts.uniform(loc=1, scale=1).rvs(1)[0], 3));\n",
        "    if i % 10 == 0:\n",
        "        print(i);"
      ]
    },
    {
      "cell_type": "code",
      "execution_count": null,
      "metadata": {
        "id": "RIGcUr2s2dAV",
        "outputId": "677c7bbb-853c-4d73-c415-d51d7b821a66"
      },
      "outputs": [
        {
          "data": {
            "text/html": [
              "<div>\n",
              "<style scoped>\n",
              "    .dataframe tbody tr th:only-of-type {\n",
              "        vertical-align: middle;\n",
              "    }\n",
              "\n",
              "    .dataframe tbody tr th {\n",
              "        vertical-align: top;\n",
              "    }\n",
              "\n",
              "    .dataframe thead th {\n",
              "        text-align: right;\n",
              "    }\n",
              "</style>\n",
              "<table border=\"1\" class=\"dataframe\">\n",
              "  <thead>\n",
              "    <tr style=\"text-align: right;\">\n",
              "      <th></th>\n",
              "      <th>id</th>\n",
              "      <th>premium</th>\n",
              "      <th>relations</th>\n",
              "      <th>name</th>\n",
              "      <th>insider_interview</th>\n",
              "      <th>response_letter_required</th>\n",
              "      <th>salary</th>\n",
              "      <th>address</th>\n",
              "      <th>allow_messages</th>\n",
              "      <th>department</th>\n",
              "      <th>...</th>\n",
              "      <th>test.required</th>\n",
              "      <th>employer.logo_urls</th>\n",
              "      <th>department.id</th>\n",
              "      <th>department.name</th>\n",
              "      <th>vacancy_constructor_template.bottom_picture.height</th>\n",
              "      <th>vacancy_constructor_template.bottom_picture.width</th>\n",
              "      <th>vacancy_constructor_template.bottom_picture.path</th>\n",
              "      <th>vacancy_constructor_template.bottom_picture.blurred_path</th>\n",
              "      <th>insider_interview.id</th>\n",
              "      <th>insider_interview.url</th>\n",
              "    </tr>\n",
              "  </thead>\n",
              "  <tbody>\n",
              "    <tr>\n",
              "      <th>0</th>\n",
              "      <td>98612984</td>\n",
              "      <td>False</td>\n",
              "      <td>[]</td>\n",
              "      <td>Petroleum Engineer (Baku)</td>\n",
              "      <td>None</td>\n",
              "      <td>False</td>\n",
              "      <td>None</td>\n",
              "      <td>None</td>\n",
              "      <td>True</td>\n",
              "      <td>None</td>\n",
              "      <td>...</td>\n",
              "      <td>NaN</td>\n",
              "      <td>NaN</td>\n",
              "      <td>NaN</td>\n",
              "      <td>NaN</td>\n",
              "      <td>NaN</td>\n",
              "      <td>NaN</td>\n",
              "      <td>NaN</td>\n",
              "      <td>NaN</td>\n",
              "      <td>NaN</td>\n",
              "      <td>NaN</td>\n",
              "    </tr>\n",
              "    <tr>\n",
              "      <th>0</th>\n",
              "      <td>98594437</td>\n",
              "      <td>False</td>\n",
              "      <td>[]</td>\n",
              "      <td>Data Scientist</td>\n",
              "      <td>None</td>\n",
              "      <td>False</td>\n",
              "      <td>NaN</td>\n",
              "      <td>NaN</td>\n",
              "      <td>True</td>\n",
              "      <td>None</td>\n",
              "      <td>...</td>\n",
              "      <td>NaN</td>\n",
              "      <td>NaN</td>\n",
              "      <td>NaN</td>\n",
              "      <td>NaN</td>\n",
              "      <td>NaN</td>\n",
              "      <td>NaN</td>\n",
              "      <td>NaN</td>\n",
              "      <td>NaN</td>\n",
              "      <td>NaN</td>\n",
              "      <td>NaN</td>\n",
              "    </tr>\n",
              "    <tr>\n",
              "      <th>0</th>\n",
              "      <td>97821551</td>\n",
              "      <td>False</td>\n",
              "      <td>[]</td>\n",
              "      <td>Chief data officer</td>\n",
              "      <td>None</td>\n",
              "      <td>False</td>\n",
              "      <td>None</td>\n",
              "      <td>NaN</td>\n",
              "      <td>True</td>\n",
              "      <td>None</td>\n",
              "      <td>...</td>\n",
              "      <td>NaN</td>\n",
              "      <td>NaN</td>\n",
              "      <td>NaN</td>\n",
              "      <td>NaN</td>\n",
              "      <td>NaN</td>\n",
              "      <td>NaN</td>\n",
              "      <td>NaN</td>\n",
              "      <td>NaN</td>\n",
              "      <td>NaN</td>\n",
              "      <td>NaN</td>\n",
              "    </tr>\n",
              "    <tr>\n",
              "      <th>0</th>\n",
              "      <td>98592181</td>\n",
              "      <td>False</td>\n",
              "      <td>[]</td>\n",
              "      <td>Аналитик данных/Junior DATA SCIENTIST</td>\n",
              "      <td>None</td>\n",
              "      <td>False</td>\n",
              "      <td>None</td>\n",
              "      <td>NaN</td>\n",
              "      <td>True</td>\n",
              "      <td>None</td>\n",
              "      <td>...</td>\n",
              "      <td>NaN</td>\n",
              "      <td>NaN</td>\n",
              "      <td>NaN</td>\n",
              "      <td>NaN</td>\n",
              "      <td>NaN</td>\n",
              "      <td>NaN</td>\n",
              "      <td>NaN</td>\n",
              "      <td>NaN</td>\n",
              "      <td>NaN</td>\n",
              "      <td>NaN</td>\n",
              "    </tr>\n",
              "    <tr>\n",
              "      <th>0</th>\n",
              "      <td>97615359</td>\n",
              "      <td>False</td>\n",
              "      <td>[]</td>\n",
              "      <td>Junior Data Scientist / Младший аналитик данных</td>\n",
              "      <td>None</td>\n",
              "      <td>False</td>\n",
              "      <td>None</td>\n",
              "      <td>None</td>\n",
              "      <td>True</td>\n",
              "      <td>None</td>\n",
              "      <td>...</td>\n",
              "      <td>NaN</td>\n",
              "      <td>NaN</td>\n",
              "      <td>NaN</td>\n",
              "      <td>NaN</td>\n",
              "      <td>NaN</td>\n",
              "      <td>NaN</td>\n",
              "      <td>NaN</td>\n",
              "      <td>NaN</td>\n",
              "      <td>NaN</td>\n",
              "      <td>NaN</td>\n",
              "    </tr>\n",
              "    <tr>\n",
              "      <th>...</th>\n",
              "      <td>...</td>\n",
              "      <td>...</td>\n",
              "      <td>...</td>\n",
              "      <td>...</td>\n",
              "      <td>...</td>\n",
              "      <td>...</td>\n",
              "      <td>...</td>\n",
              "      <td>...</td>\n",
              "      <td>...</td>\n",
              "      <td>...</td>\n",
              "      <td>...</td>\n",
              "      <td>...</td>\n",
              "      <td>...</td>\n",
              "      <td>...</td>\n",
              "      <td>...</td>\n",
              "      <td>...</td>\n",
              "      <td>...</td>\n",
              "      <td>...</td>\n",
              "      <td>...</td>\n",
              "      <td>...</td>\n",
              "      <td>...</td>\n",
              "    </tr>\n",
              "    <tr>\n",
              "      <th>0</th>\n",
              "      <td>97825857</td>\n",
              "      <td>False</td>\n",
              "      <td>[]</td>\n",
              "      <td>Data Scientist (CVM)</td>\n",
              "      <td>None</td>\n",
              "      <td>False</td>\n",
              "      <td>None</td>\n",
              "      <td>None</td>\n",
              "      <td>True</td>\n",
              "      <td>NaN</td>\n",
              "      <td>...</td>\n",
              "      <td>NaN</td>\n",
              "      <td>NaN</td>\n",
              "      <td>bil-4934-it</td>\n",
              "      <td>билайн: ИТ, Data, Digital</td>\n",
              "      <td>NaN</td>\n",
              "      <td>NaN</td>\n",
              "      <td>NaN</td>\n",
              "      <td>NaN</td>\n",
              "      <td>NaN</td>\n",
              "      <td>NaN</td>\n",
              "    </tr>\n",
              "    <tr>\n",
              "      <th>0</th>\n",
              "      <td>93943297</td>\n",
              "      <td>False</td>\n",
              "      <td>[]</td>\n",
              "      <td>Менеджер по продажам курсов в сфере IT и Digit...</td>\n",
              "      <td>None</td>\n",
              "      <td>False</td>\n",
              "      <td>NaN</td>\n",
              "      <td>NaN</td>\n",
              "      <td>True</td>\n",
              "      <td>None</td>\n",
              "      <td>...</td>\n",
              "      <td>NaN</td>\n",
              "      <td>NaN</td>\n",
              "      <td>NaN</td>\n",
              "      <td>NaN</td>\n",
              "      <td>NaN</td>\n",
              "      <td>NaN</td>\n",
              "      <td>NaN</td>\n",
              "      <td>NaN</td>\n",
              "      <td>NaN</td>\n",
              "      <td>NaN</td>\n",
              "    </tr>\n",
              "    <tr>\n",
              "      <th>0</th>\n",
              "      <td>94697153</td>\n",
              "      <td>False</td>\n",
              "      <td>[]</td>\n",
              "      <td>Senior Data Scientist</td>\n",
              "      <td>None</td>\n",
              "      <td>False</td>\n",
              "      <td>None</td>\n",
              "      <td>NaN</td>\n",
              "      <td>True</td>\n",
              "      <td>NaN</td>\n",
              "      <td>...</td>\n",
              "      <td>NaN</td>\n",
              "      <td>NaN</td>\n",
              "      <td>3529-3529-it</td>\n",
              "      <td>Сбер. IT</td>\n",
              "      <td>NaN</td>\n",
              "      <td>NaN</td>\n",
              "      <td>NaN</td>\n",
              "      <td>NaN</td>\n",
              "      <td>NaN</td>\n",
              "      <td>NaN</td>\n",
              "    </tr>\n",
              "    <tr>\n",
              "      <th>0</th>\n",
              "      <td>94604984</td>\n",
              "      <td>False</td>\n",
              "      <td>[]</td>\n",
              "      <td>Senior Data Scientist в Trust &amp; Safety</td>\n",
              "      <td>None</td>\n",
              "      <td>False</td>\n",
              "      <td>None</td>\n",
              "      <td>NaN</td>\n",
              "      <td>True</td>\n",
              "      <td>NaN</td>\n",
              "      <td>...</td>\n",
              "      <td>NaN</td>\n",
              "      <td>NaN</td>\n",
              "      <td>hh-1455-ds</td>\n",
              "      <td>HeadHunter::Analytics/Data Science</td>\n",
              "      <td>NaN</td>\n",
              "      <td>NaN</td>\n",
              "      <td>NaN</td>\n",
              "      <td>NaN</td>\n",
              "      <td>NaN</td>\n",
              "      <td>NaN</td>\n",
              "    </tr>\n",
              "    <tr>\n",
              "      <th>0</th>\n",
              "      <td>92696064</td>\n",
              "      <td>False</td>\n",
              "      <td>[]</td>\n",
              "      <td>Senior Data Scientist в b2c направление</td>\n",
              "      <td>None</td>\n",
              "      <td>False</td>\n",
              "      <td>None</td>\n",
              "      <td>NaN</td>\n",
              "      <td>True</td>\n",
              "      <td>NaN</td>\n",
              "      <td>...</td>\n",
              "      <td>NaN</td>\n",
              "      <td>NaN</td>\n",
              "      <td>hh-1455-ds</td>\n",
              "      <td>HeadHunter::Analytics/Data Science</td>\n",
              "      <td>NaN</td>\n",
              "      <td>NaN</td>\n",
              "      <td>NaN</td>\n",
              "      <td>NaN</td>\n",
              "      <td>NaN</td>\n",
              "      <td>NaN</td>\n",
              "    </tr>\n",
              "  </tbody>\n",
              "</table>\n",
              "<p>5779 rows × 100 columns</p>\n",
              "</div>"
            ],
            "text/plain": [
              "          id  premium relations  \\\n",
              "0   98612984    False        []   \n",
              "0   98594437    False        []   \n",
              "0   97821551    False        []   \n",
              "0   98592181    False        []   \n",
              "0   97615359    False        []   \n",
              "..       ...      ...       ...   \n",
              "0   97825857    False        []   \n",
              "0   93943297    False        []   \n",
              "0   94697153    False        []   \n",
              "0   94604984    False        []   \n",
              "0   92696064    False        []   \n",
              "\n",
              "                                                 name insider_interview  \\\n",
              "0                           Petroleum Engineer (Baku)              None   \n",
              "0                                      Data Scientist              None   \n",
              "0                                  Chief data officer              None   \n",
              "0               Аналитик данных/Junior DATA SCIENTIST              None   \n",
              "0     Junior Data Scientist / Младший аналитик данных              None   \n",
              "..                                                ...               ...   \n",
              "0                                Data Scientist (CVM)              None   \n",
              "0   Менеджер по продажам курсов в сфере IT и Digit...              None   \n",
              "0                               Senior Data Scientist              None   \n",
              "0              Senior Data Scientist в Trust & Safety              None   \n",
              "0             Senior Data Scientist в b2c направление              None   \n",
              "\n",
              "    response_letter_required salary address  allow_messages department  ...  \\\n",
              "0                      False   None    None            True       None  ...   \n",
              "0                      False    NaN     NaN            True       None  ...   \n",
              "0                      False   None     NaN            True       None  ...   \n",
              "0                      False   None     NaN            True       None  ...   \n",
              "0                      False   None    None            True       None  ...   \n",
              "..                       ...    ...     ...             ...        ...  ...   \n",
              "0                      False   None    None            True        NaN  ...   \n",
              "0                      False    NaN     NaN            True       None  ...   \n",
              "0                      False   None     NaN            True        NaN  ...   \n",
              "0                      False   None     NaN            True        NaN  ...   \n",
              "0                      False   None     NaN            True        NaN  ...   \n",
              "\n",
              "   test.required employer.logo_urls department.id  \\\n",
              "0            NaN                NaN           NaN   \n",
              "0            NaN                NaN           NaN   \n",
              "0            NaN                NaN           NaN   \n",
              "0            NaN                NaN           NaN   \n",
              "0            NaN                NaN           NaN   \n",
              "..           ...                ...           ...   \n",
              "0            NaN                NaN   bil-4934-it   \n",
              "0            NaN                NaN           NaN   \n",
              "0            NaN                NaN  3529-3529-it   \n",
              "0            NaN                NaN    hh-1455-ds   \n",
              "0            NaN                NaN    hh-1455-ds   \n",
              "\n",
              "                       department.name  \\\n",
              "0                                  NaN   \n",
              "0                                  NaN   \n",
              "0                                  NaN   \n",
              "0                                  NaN   \n",
              "0                                  NaN   \n",
              "..                                 ...   \n",
              "0            билайн: ИТ, Data, Digital   \n",
              "0                                  NaN   \n",
              "0                             Сбер. IT   \n",
              "0   HeadHunter::Analytics/Data Science   \n",
              "0   HeadHunter::Analytics/Data Science   \n",
              "\n",
              "   vacancy_constructor_template.bottom_picture.height  \\\n",
              "0                                                 NaN   \n",
              "0                                                 NaN   \n",
              "0                                                 NaN   \n",
              "0                                                 NaN   \n",
              "0                                                 NaN   \n",
              "..                                                ...   \n",
              "0                                                 NaN   \n",
              "0                                                 NaN   \n",
              "0                                                 NaN   \n",
              "0                                                 NaN   \n",
              "0                                                 NaN   \n",
              "\n",
              "    vacancy_constructor_template.bottom_picture.width  \\\n",
              "0                                                 NaN   \n",
              "0                                                 NaN   \n",
              "0                                                 NaN   \n",
              "0                                                 NaN   \n",
              "0                                                 NaN   \n",
              "..                                                ...   \n",
              "0                                                 NaN   \n",
              "0                                                 NaN   \n",
              "0                                                 NaN   \n",
              "0                                                 NaN   \n",
              "0                                                 NaN   \n",
              "\n",
              "    vacancy_constructor_template.bottom_picture.path  \\\n",
              "0                                                NaN   \n",
              "0                                                NaN   \n",
              "0                                                NaN   \n",
              "0                                                NaN   \n",
              "0                                                NaN   \n",
              "..                                               ...   \n",
              "0                                                NaN   \n",
              "0                                                NaN   \n",
              "0                                                NaN   \n",
              "0                                                NaN   \n",
              "0                                                NaN   \n",
              "\n",
              "    vacancy_constructor_template.bottom_picture.blurred_path  \\\n",
              "0                                                 NaN          \n",
              "0                                                 NaN          \n",
              "0                                                 NaN          \n",
              "0                                                 NaN          \n",
              "0                                                 NaN          \n",
              "..                                                ...          \n",
              "0                                                 NaN          \n",
              "0                                                 NaN          \n",
              "0                                                 NaN          \n",
              "0                                                 NaN          \n",
              "0                                                 NaN          \n",
              "\n",
              "   insider_interview.id insider_interview.url  \n",
              "0                   NaN                   NaN  \n",
              "0                   NaN                   NaN  \n",
              "0                   NaN                   NaN  \n",
              "0                   NaN                   NaN  \n",
              "0                   NaN                   NaN  \n",
              "..                  ...                   ...  \n",
              "0                   NaN                   NaN  \n",
              "0                   NaN                   NaN  \n",
              "0                   NaN                   NaN  \n",
              "0                   NaN                   NaN  \n",
              "0                   NaN                   NaN  \n",
              "\n",
              "[5779 rows x 100 columns]"
            ]
          },
          "execution_count": 96,
          "metadata": {},
          "output_type": "execute_result"
        }
      ],
      "source": [
        "additional_data"
      ]
    },
    {
      "cell_type": "code",
      "execution_count": null,
      "metadata": {
        "id": "FnWuQX_o2dAV"
      },
      "outputs": [],
      "source": [
        "def Intersection(lst1, lst2):\n",
        "    return set(lst1).intersection(lst2)"
      ]
    },
    {
      "cell_type": "code",
      "execution_count": null,
      "metadata": {
        "id": "IIl_RQKF2dAV",
        "outputId": "ebf8bdf5-9eed-4144-da37-f107c0733633"
      },
      "outputs": [
        {
          "name": "stdout",
          "output_type": "stream",
          "text": [
            "['relations', 'schedule.id', 'employer.alternate_url', 'employer.url', 'id', 'working_time_intervals', 'type.name', 'insider_interview', 'alternate_url', 'experience.name', 'employer.logo_urls.240', 'salary.to', 'insider_interview.url', 'address.building', 'area.url', 'employment.id', 'address.metro.line_name', 'address.city', 'archived', 'address.metro.line_id', 'employer.logo_urls.original', 'department.id', 'address.metro_stations', 'insider_interview.id', 'experience.id', 'schedule.name', 'address.metro.station_name', 'employer.vacancies_url', 'address.lng', 'address.raw', 'working_time_modes', 'department.name', 'apply_alternate_url', 'working_days', 'employer.name', 'accept_temporary', 'department', 'salary.currency', 'address.metro.lng', 'premium', 'address.metro', 'address.lat', 'created_at', 'area.id', 'response_letter_required', 'address', 'employer.accredited_it_employer', 'salary', 'has_test', 'employer.id', 'address.description', 'address.street', 'contacts', 'employer.trusted', 'employer.logo_urls.90', 'address.metro.station_id', 'professional_roles', 'address.metro.lat', 'type.id', 'employment.name', 'response_url', 'salary.from', 'employer.logo_urls', 'name', 'salary.gross', 'published_at', 'area.name', 'accept_incomplete_resumes']\n",
            "[]\n"
          ]
        }
      ],
      "source": [
        "columns_list1 = main_df.columns.tolist()\n",
        "columns_list2 = additional_data.columns.tolist();\n",
        "intersection = list(Intersection(columns_list1, columns_list2) )\n",
        "print(intersection);\n",
        "main_df_tmp = main_df.copy(deep=True)\n",
        "additional_tmp = additional_data.copy(deep=True)\n",
        "main_df_tmp = main_df_tmp.drop(intersection, axis=1)\n",
        "\n",
        "main_df_tmp.reset_index(drop=True, inplace=True)\n",
        "additional_tmp.reset_index(drop=True, inplace=True)\n",
        "print(list(Intersection(main_df_tmp.columns.tolist(), columns_list2)))\n",
        "main_df_tmp = pd.concat([main_df_tmp, additional_tmp], axis=1);\n",
        "main_df_tmp.to_excel(\"data.xlsx\")"
      ]
    },
    {
      "cell_type": "markdown",
      "metadata": {
        "id": "J5yuZdO62dAW"
      },
      "source": [
        "**Полученную таблицу необходимо сохранить в формате xlsx и отправить боту вместе с решением.**"
      ]
    },
    {
      "cell_type": "markdown",
      "metadata": {
        "id": "DCbn3Xo82dAW"
      },
      "source": [
        "**Вопрос 1.** Сколько сейчас доступно вакансий по вашему запросу?"
      ]
    },
    {
      "cell_type": "code",
      "execution_count": 2,
      "metadata": {
        "id": "Hwpq5mVC2dAW"
      },
      "outputs": [],
      "source": [
        "data = pd.read_excel('data.xlsx')"
      ]
    },
    {
      "cell_type": "code",
      "execution_count": null,
      "metadata": {
        "id": "5slh5-LW2dAX",
        "outputId": "8f3370f2-0d25-4bf3-abef-a22ad06082c0"
      },
      "outputs": [
        {
          "name": "stdout",
          "output_type": "stream",
          "text": [
            "Количество собранных вакансий: 5779\n"
          ]
        }
      ],
      "source": [
        "print(f\"Количество собранных вакансий: {len(data.index)}\")"
      ]
    },
    {
      "cell_type": "markdown",
      "metadata": {
        "id": "oehL8k522dAY"
      },
      "source": [
        "**Вопрос 2.** Какие навыки чаще всего встречаются в вакансиях по данной специальности?\n",
        "\n",
        "Для этого найдите соответствующее поле в данных из полного описания вакансий, проанализируйте его и составьте список навыков и количество упоминаний каждого. Визуализируйте полученную информацию по топ-15 навыков."
      ]
    },
    {
      "cell_type": "code",
      "execution_count": 3,
      "metadata": {
        "id": "PTq8_duN2dAY"
      },
      "outputs": [],
      "source": [
        "def RemoveWords(string, words):\n",
        "    for word in words:\n",
        "        string = string.replace(word, \"\");\n",
        "    return string;"
      ]
    },
    {
      "cell_type": "code",
      "execution_count": 22,
      "metadata": {
        "colab": {
          "base_uri": "https://localhost:8080/"
        },
        "id": "IlzTRfY82dAY",
        "outputId": "5830f3a8-bc20-4b70-ac2e-d9630c54c0aa"
      },
      "outputs": [
        {
          "output_type": "stream",
          "name": "stdout",
          "text": [
            "Requirement already satisfied: fasttext in /usr/local/lib/python3.10/dist-packages (0.9.2)\n",
            "Requirement already satisfied: pybind11>=2.2 in /usr/local/lib/python3.10/dist-packages (from fasttext) (2.12.0)\n",
            "Requirement already satisfied: setuptools>=0.7.0 in /usr/local/lib/python3.10/dist-packages (from fasttext) (67.7.2)\n",
            "Requirement already satisfied: numpy in /usr/local/lib/python3.10/dist-packages (from fasttext) (1.25.2)\n"
          ]
        },
        {
          "output_type": "stream",
          "name": "stderr",
          "text": [
            "Warning : `load_model` does not return WordVectorModel or SupervisedModel any more, but a `FastText` object which is very similar.\n"
          ]
        }
      ],
      "source": [
        "import itertools\n",
        "!pip install fasttext\n",
        "import fasttext\n",
        "\n",
        "detect_language = fasttext.load_model('./models/lid.176.ftz')"
      ]
    },
    {
      "cell_type": "code",
      "execution_count": 4,
      "metadata": {
        "id": "w4ervybs2dAZ"
      },
      "outputs": [],
      "source": [
        "def DetectLang(string):\n",
        "    return detect_language.predict(string, k=1)[0][0].replace(\"__label__\", \"\");"
      ]
    },
    {
      "cell_type": "code",
      "execution_count": 5,
      "metadata": {
        "id": "_kIob1fu2dAZ"
      },
      "outputs": [],
      "source": [
        "def FilterStopWords(word):\n",
        "    if word in stop_words:\n",
        "        return False;\n",
        "    else:\n",
        "        return True;"
      ]
    },
    {
      "cell_type": "code",
      "source": [
        "#fasttext embeddings for my dataset that lay in one emb space\n",
        "\n",
        "en_dict = pd.read_csv(\"en_embed.csv\");\n",
        "ru_dict = pd.read_csv(\"ru_embed.csv\");"
      ],
      "metadata": {
        "id": "eqi1SRwDLHIC"
      },
      "execution_count": 6,
      "outputs": []
    },
    {
      "cell_type": "code",
      "source": [
        "en_dict = en_dict.set_index(\"word.1\")\n",
        "ru_dict = ru_dict.set_index(\"word.1\")\n",
        "\n",
        "global_dict = pd.concat([en_dict, ru_dict], axis=0);"
      ],
      "metadata": {
        "id": "2syU8NyQLuas"
      },
      "execution_count": 7,
      "outputs": []
    },
    {
      "cell_type": "code",
      "source": [
        "\n",
        "# If you want to keep only the first occurrence of each duplicate index value, you can use:\n",
        "#global_dict = global_dict.reset_index()\n",
        "    # If you want to keep only the first occurrence of each duplicate index value, you can use:\n",
        "global_dict = global_dict.drop_duplicates(subset='word.1', keep='first')\n",
        "global_dict = global_dict.set_index(\"word.1\");\n",
        "global_dict = global_dict.drop(columns=[\"level_0\"]);\n",
        "print(global_dict)"
      ],
      "metadata": {
        "colab": {
          "base_uri": "https://localhost:8080/"
        },
        "id": "nB4myPjkOWQr",
        "outputId": "3d6e0ce5-2d39-4f09-bb1c-9d4fbd6a20ca"
      },
      "execution_count": 17,
      "outputs": [
        {
          "output_type": "stream",
          "name": "stdout",
          "text": [
            "                      index    word       1       2       3       4       5  \\\n",
            "word.1                                                                        \n",
            "pe                        0 -0.0162  0.0249  0.0018  0.0262 -0.0042  0.0565   \n",
            "specialist                1  0.0108 -0.0064 -0.0071  0.0239 -0.0423  0.0113   \n",
            "working                   2  0.0752 -0.0083 -0.1308 -0.0180 -0.0999  0.0400   \n",
            "data                      3 -0.0444 -0.0142  0.0231  0.0618  0.0051  0.0651   \n",
            "scientists                4 -0.0449  0.0738 -0.0340  0.0231 -0.0442  0.0043   \n",
            "...                     ...     ...     ...     ...     ...     ...     ...   \n",
            "конструктивным        51191 -0.0858  0.0185  0.0312  0.0349  0.0515 -0.0243   \n",
            "времяпрепровождением  51192  0.1067  0.0846  0.0723 -0.0601  0.0777  0.0163   \n",
            "стрессом              51193  0.0345 -0.0033  0.0004  0.0198 -0.0198  0.0367   \n",
            "таксономию            51194 -0.0637  0.0594  0.0293  0.0282 -0.0054  0.0121   \n",
            "рекомендуемую         51195  0.0101  0.0402  0.0010 -0.0474 -0.0130  0.0099   \n",
            "\n",
            "                           6       7       8  ...     290     291     292  \\\n",
            "word.1                                        ...                           \n",
            "pe                    0.0066 -0.0146 -0.0477  ... -0.0067  0.1312 -0.0054   \n",
            "specialist            0.0360  0.0163  0.0191  ... -0.0157 -0.0245  0.0888   \n",
            "working              -0.0044  0.0024  0.0513  ...  0.0119 -0.0186  0.0426   \n",
            "data                  0.0847 -0.0790 -0.0295  ...  0.1060 -0.0616 -0.0338   \n",
            "scientists            0.0015 -0.0997  0.0006  ... -0.0774 -0.0281  0.0221   \n",
            "...                      ...     ...     ...  ...     ...     ...     ...   \n",
            "конструктивным       -0.0190 -0.0677  0.0430  ... -0.0352  0.0572 -0.0330   \n",
            "времяпрепровождением -0.0088  0.0290 -0.0064  ... -0.0282  0.0361 -0.0879   \n",
            "стрессом             -0.0220  0.0006  0.0060  ...  0.0145 -0.0080  0.0218   \n",
            "таксономию           -0.0335 -0.0306  0.0185  ... -0.0436 -0.0631  0.1169   \n",
            "рекомендуемую        -0.1032 -0.0239  0.0532  ...  0.0119 -0.0431  0.0310   \n",
            "\n",
            "                         293     294     295     296     297     298     299  \n",
            "word.1                                                                        \n",
            "pe                    0.0388  0.0540 -0.0787  0.0326 -0.0346  0.0388 -0.0516  \n",
            "specialist           -0.0284  0.0248 -0.1100  0.0476  0.0874  0.0739  0.0195  \n",
            "working               0.0548  0.1180  0.0461 -0.0524  0.1147  0.0650 -0.0357  \n",
            "data                  0.0135  0.0854 -0.0507 -0.0365  0.0640 -0.0019  0.0044  \n",
            "scientists            0.0369 -0.0126 -0.0610 -0.0045  0.1392  0.0266  0.0427  \n",
            "...                      ...     ...     ...     ...     ...     ...     ...  \n",
            "конструктивным        0.0718 -0.0167 -0.0157  0.0171 -0.0123 -0.1035 -0.0288  \n",
            "времяпрепровождением -0.1101 -0.0408  0.0261  0.0950 -0.0298  0.0132 -0.0548  \n",
            "стрессом             -0.0776 -0.0313  0.0116  0.0569 -0.0674 -0.0530 -0.1357  \n",
            "таксономию           -0.0217  0.0755 -0.0712  0.0055  0.0202 -0.0723  0.0330  \n",
            "рекомендуемую        -0.0991 -0.0761 -0.1320  0.0337 -0.0990 -0.0263  0.0001  \n",
            "\n",
            "[49366 rows x 301 columns]\n"
          ]
        }
      ]
    },
    {
      "cell_type": "code",
      "source": [
        "global_dict = global_dict.drop(columns=[\"index\"])"
      ],
      "metadata": {
        "id": "JmYtHxAKSd0r"
      },
      "execution_count": 34,
      "outputs": []
    },
    {
      "cell_type": "code",
      "source": [
        "word_to_vec = {};\n",
        "available_words = global_dict.index.to_list();\n",
        "\n",
        "for word in available_words:\n",
        "  embed = global_dict.loc[word];\n",
        "  word_to_vec[word] = embed.to_list();\n",
        "  #print(embed.to_list())"
      ],
      "metadata": {
        "id": "yQDibHp6Lcft"
      },
      "execution_count": 35,
      "outputs": []
    },
    {
      "cell_type": "code",
      "source": [
        "print(len(word_to_vec[\"engineering\"]))\n",
        "print(len(word_to_vec))"
      ],
      "metadata": {
        "colab": {
          "base_uri": "https://localhost:8080/"
        },
        "id": "2ZAvhMQ7QCK4",
        "outputId": "e4b08251-41fd-41c8-d74d-36452a0e24d8"
      },
      "execution_count": 36,
      "outputs": [
        {
          "output_type": "stream",
          "name": "stdout",
          "text": [
            "300\n",
            "49366\n"
          ]
        }
      ]
    },
    {
      "cell_type": "code",
      "source": [
        "arr_of_arrs = [];\n",
        "\n",
        "for i in range(len(data.index)):\n",
        "  arr_of_arrs.append(data.iloc[i][\"description\"].split(\"</p>\"))\n",
        "\n",
        "punctuation = punctuation.replace(\",\", \"\").replace(\";\", \"\");\n",
        "\n",
        "to_remove = [\"<p>\", \"<strong>\", \"</p>\", \"</strong>\", \"<ul>\", \"<li>\", \"</li>\", \"</ul>\"];\n",
        "to_remove = to_remove + [*punctuation];\n",
        "\n",
        "#words_and_occ = {};\n",
        "results = [];\n",
        "used_sentences = [];\n",
        "\n",
        "for sentences in arr_of_arrs:\n",
        "  for sentence in sentences:\n",
        "    sentence = RemoveWords(sentence, to_remove).strip();\n",
        "    if sentence == None:\n",
        "        continue;\n",
        "    #lang = DetectLang(sentence);\n",
        "    #print(lang)\n",
        "    arr = sentence.split(\";\")\n",
        "    arr = [item.strip().lower() for item in arr];\n",
        "    arr = list(filter(None, arr))\n",
        "\n",
        "    #split by comma\n",
        "    arr = [item.split(\",\") for item in arr];\n",
        "    #turn 2d list to 1d list\n",
        "    arr = list(itertools.chain(*arr))\n",
        "\n",
        "    #clean whitespaces\n",
        "    arr = [item.strip() for item in arr]\n",
        "\n",
        "    #split sentences into words\n",
        "    arr = [item.split(\" \") for item in arr];\n",
        "    #remove stopwords\n",
        "    arr = list(filter(FilterStopWords, list(itertools.chain(*arr))));\n",
        "\n",
        "    avg_vec = np.zeros(300);\n",
        "    i = 0;\n",
        "    for word in arr:\n",
        "      try:\n",
        "        avg_vec += np.array(word_to_vec[word]);\n",
        "        i = i + 1;\n",
        "      except KeyError:\n",
        "        i = i\n",
        "    if i != 0:\n",
        "      avg_vec /= i\n",
        "      results.append(avg_vec);\n",
        "      used_sentences.append(sentence)"
      ],
      "metadata": {
        "collapsed": true,
        "id": "wiNPJooQ74bW"
      },
      "execution_count": 63,
      "outputs": []
    },
    {
      "cell_type": "code",
      "source": [
        "results = np.array(results);\n",
        "print(results)"
      ],
      "metadata": {
        "colab": {
          "base_uri": "https://localhost:8080/"
        },
        "id": "amgwbLuOTvg9",
        "outputId": "f4e158bf-6251-451f-a59b-4dd530f5eea0"
      },
      "execution_count": 64,
      "outputs": [
        {
          "output_type": "stream",
          "name": "stdout",
          "text": [
            "[[-0.01336     0.0097     -0.0327     ...  0.07862667  0.04661333\n",
            "  -0.01862   ]\n",
            " [-0.04866     0.00254    -0.01826    ...  0.02242     0.04854\n",
            "   0.02362   ]\n",
            " [-0.02183333 -0.02615    -0.04983333 ...  0.07683333  0.03076667\n",
            "  -0.03061667]\n",
            " ...\n",
            " [ 0.031325    0.061625    0.049675   ... -0.07625    -0.010725\n",
            "  -0.006375  ]\n",
            " [-0.00384324  0.0319973   0.03148649 ... -0.04217297 -0.02094189\n",
            "   0.00925   ]\n",
            " [-0.01866     0.0147      0.05238    ... -0.08504    -0.03062\n",
            "   0.00682   ]]\n"
          ]
        }
      ]
    },
    {
      "cell_type": "code",
      "source": [
        "from sklearn.decomposition import PCA\n",
        "\n",
        "pca = PCA(n_components=20);\n",
        "pca.fit(results)"
      ],
      "metadata": {
        "colab": {
          "base_uri": "https://localhost:8080/",
          "height": 75
        },
        "id": "pw2N7OQTTkzf",
        "outputId": "a719d58b-85e9-4282-f84d-33809041176f"
      },
      "execution_count": 65,
      "outputs": [
        {
          "output_type": "execute_result",
          "data": {
            "text/plain": [
              "PCA(n_components=20)"
            ],
            "text/html": [
              "<style>#sk-container-id-2 {color: black;background-color: white;}#sk-container-id-2 pre{padding: 0;}#sk-container-id-2 div.sk-toggleable {background-color: white;}#sk-container-id-2 label.sk-toggleable__label {cursor: pointer;display: block;width: 100%;margin-bottom: 0;padding: 0.3em;box-sizing: border-box;text-align: center;}#sk-container-id-2 label.sk-toggleable__label-arrow:before {content: \"▸\";float: left;margin-right: 0.25em;color: #696969;}#sk-container-id-2 label.sk-toggleable__label-arrow:hover:before {color: black;}#sk-container-id-2 div.sk-estimator:hover label.sk-toggleable__label-arrow:before {color: black;}#sk-container-id-2 div.sk-toggleable__content {max-height: 0;max-width: 0;overflow: hidden;text-align: left;background-color: #f0f8ff;}#sk-container-id-2 div.sk-toggleable__content pre {margin: 0.2em;color: black;border-radius: 0.25em;background-color: #f0f8ff;}#sk-container-id-2 input.sk-toggleable__control:checked~div.sk-toggleable__content {max-height: 200px;max-width: 100%;overflow: auto;}#sk-container-id-2 input.sk-toggleable__control:checked~label.sk-toggleable__label-arrow:before {content: \"▾\";}#sk-container-id-2 div.sk-estimator input.sk-toggleable__control:checked~label.sk-toggleable__label {background-color: #d4ebff;}#sk-container-id-2 div.sk-label input.sk-toggleable__control:checked~label.sk-toggleable__label {background-color: #d4ebff;}#sk-container-id-2 input.sk-hidden--visually {border: 0;clip: rect(1px 1px 1px 1px);clip: rect(1px, 1px, 1px, 1px);height: 1px;margin: -1px;overflow: hidden;padding: 0;position: absolute;width: 1px;}#sk-container-id-2 div.sk-estimator {font-family: monospace;background-color: #f0f8ff;border: 1px dotted black;border-radius: 0.25em;box-sizing: border-box;margin-bottom: 0.5em;}#sk-container-id-2 div.sk-estimator:hover {background-color: #d4ebff;}#sk-container-id-2 div.sk-parallel-item::after {content: \"\";width: 100%;border-bottom: 1px solid gray;flex-grow: 1;}#sk-container-id-2 div.sk-label:hover label.sk-toggleable__label {background-color: #d4ebff;}#sk-container-id-2 div.sk-serial::before {content: \"\";position: absolute;border-left: 1px solid gray;box-sizing: border-box;top: 0;bottom: 0;left: 50%;z-index: 0;}#sk-container-id-2 div.sk-serial {display: flex;flex-direction: column;align-items: center;background-color: white;padding-right: 0.2em;padding-left: 0.2em;position: relative;}#sk-container-id-2 div.sk-item {position: relative;z-index: 1;}#sk-container-id-2 div.sk-parallel {display: flex;align-items: stretch;justify-content: center;background-color: white;position: relative;}#sk-container-id-2 div.sk-item::before, #sk-container-id-2 div.sk-parallel-item::before {content: \"\";position: absolute;border-left: 1px solid gray;box-sizing: border-box;top: 0;bottom: 0;left: 50%;z-index: -1;}#sk-container-id-2 div.sk-parallel-item {display: flex;flex-direction: column;z-index: 1;position: relative;background-color: white;}#sk-container-id-2 div.sk-parallel-item:first-child::after {align-self: flex-end;width: 50%;}#sk-container-id-2 div.sk-parallel-item:last-child::after {align-self: flex-start;width: 50%;}#sk-container-id-2 div.sk-parallel-item:only-child::after {width: 0;}#sk-container-id-2 div.sk-dashed-wrapped {border: 1px dashed gray;margin: 0 0.4em 0.5em 0.4em;box-sizing: border-box;padding-bottom: 0.4em;background-color: white;}#sk-container-id-2 div.sk-label label {font-family: monospace;font-weight: bold;display: inline-block;line-height: 1.2em;}#sk-container-id-2 div.sk-label-container {text-align: center;}#sk-container-id-2 div.sk-container {/* jupyter's `normalize.less` sets `[hidden] { display: none; }` but bootstrap.min.css set `[hidden] { display: none !important; }` so we also need the `!important` here to be able to override the default hidden behavior on the sphinx rendered scikit-learn.org. See: https://github.com/scikit-learn/scikit-learn/issues/21755 */display: inline-block !important;position: relative;}#sk-container-id-2 div.sk-text-repr-fallback {display: none;}</style><div id=\"sk-container-id-2\" class=\"sk-top-container\"><div class=\"sk-text-repr-fallback\"><pre>PCA(n_components=20)</pre><b>In a Jupyter environment, please rerun this cell to show the HTML representation or trust the notebook. <br />On GitHub, the HTML representation is unable to render, please try loading this page with nbviewer.org.</b></div><div class=\"sk-container\" hidden><div class=\"sk-item\"><div class=\"sk-estimator sk-toggleable\"><input class=\"sk-toggleable__control sk-hidden--visually\" id=\"sk-estimator-id-2\" type=\"checkbox\" checked><label for=\"sk-estimator-id-2\" class=\"sk-toggleable__label sk-toggleable__label-arrow\">PCA</label><div class=\"sk-toggleable__content\"><pre>PCA(n_components=20)</pre></div></div></div></div></div>"
            ]
          },
          "metadata": {},
          "execution_count": 65
        }
      ]
    },
    {
      "cell_type": "code",
      "source": [
        "embed_to_sentence = {};\n",
        "\n",
        "results_transformed = pca.transform(results);\n",
        "for i in range(results_transformed.shape[0]):\n",
        "  embed_to_sentence[results_transformed[i].sum()] = used_sentences[i]"
      ],
      "metadata": {
        "id": "e6kxL9EcUi-l"
      },
      "execution_count": 66,
      "outputs": []
    },
    {
      "cell_type": "code",
      "source": [
        "from sklearn.cluster import KMeans\n",
        "\n",
        "kmeans = KMeans(n_clusters=15, random_state=0, n_init=\"auto\").fit(results_transformed);"
      ],
      "metadata": {
        "id": "diVC8z8CU9CP"
      },
      "execution_count": 68,
      "outputs": []
    },
    {
      "cell_type": "code",
      "source": [
        "print(list(embed_to_sentence.keys())[:100])"
      ],
      "metadata": {
        "colab": {
          "base_uri": "https://localhost:8080/"
        },
        "id": "JbMs-fUpWWIN",
        "outputId": "e23eab68-d61f-43b9-d45d-5e0d8a81efe5"
      },
      "execution_count": 73,
      "outputs": [
        {
          "output_type": "stream",
          "name": "stdout",
          "text": [
            "[0.1187486282719428, 0.2993877195652035, -0.028930718715685123, 0.049027067322761485, -0.07552912596237214, 0.09367239710188512, 0.059596734436025534, 0.015105014010286619, 0.17227691024020408, -0.057207130728952615, 0.14175358734741017, 0.1453873280343972, -0.013846094102637412, 0.39863553721320005, -0.08031945102543708, 0.028045598206086972, 0.05868050935606164, 0.3779686225928551, 0.12149371501189549, 0.038765949328035954, 0.0779731682045634, -0.014018087007222124, 0.1328695009437037, 0.2131711711666764, -0.11342343843167503, -0.03225310730963883, 0.12793334535878484, -0.15143114048470782, -0.021371695290362216, -0.2636787560123072, -0.33622468838346364, -0.20776384734564696, 0.5152613405349007, 0.705275583682337, 0.28436976348231385, 0.08507035932780813, -0.009667883710968394, -0.018084225931340035, 0.06757641691312698, -0.14674829585554777, 0.0544788733425445, 0.03067832252261331, 1.232456182417272, 0.08485427291398259, -0.09240766114027958, 0.22692759542246724, 0.03467130983668967, -0.3585143696951119, 0.010779747306543332, 0.16388133157721685, 0.2140296842091622, 0.8494250875277445, -0.3050221379849046, -0.01778185811598268, 0.02422896574565321, 1.2984810187085416, -0.07447881141463168, -0.16874265954934464, 0.14982459338437354, -0.1941043468724247, -0.0316323077971495, 0.1516420888554924, 0.20288014514033414, -0.2580927993868748, 0.4593240591534071, 0.21418735580470744, -0.12923294799568147, 0.4048422759067019, 0.2494031003747598, 0.14482096648201673, 0.21091030652348983, 0.3141499693781637, 0.5057186753869988, 0.46034187781007674, 0.18503648141539303, 0.2588439908189362, 0.18548530689998008, -0.005957477189404658, 0.06624702094469878, -0.1646535833868935, -0.13574114273128923, 0.28456887426713434, 0.20350994734668565, -0.11832205167182006, -0.18028817732468644, 1.0285197784827607, 0.1445774481055172, 0.3571341262093886, -0.32237644951723304, -0.05824915411357304, 0.27802305819141043, 0.4801818414147343, -0.19221370507193541, -0.06878179045473759, 0.08830430753131129, -0.1996110200088983, 0.0657184240945998, -0.22868383915107462, 0.09433033037330522, -0.0632379974592903]\n"
          ]
        }
      ]
    },
    {
      "cell_type": "code",
      "source": [],
      "metadata": {
        "colab": {
          "base_uri": "https://localhost:8080/"
        },
        "id": "-OxorWukVGGt",
        "outputId": "52dab18b-8d53-48d6-baa5-41acb4ab1e7c"
      },
      "execution_count": 81,
      "outputs": [
        {
          "output_type": "stream",
          "name": "stdout",
          "text": [
            "[]\n"
          ]
        }
      ]
    },
    {
      "cell_type": "markdown",
      "metadata": {
        "id": "hxhVhVj62dAa"
      },
      "source": [
        "**Вопрос 3.** Какую зарплату готовы платить работодатели? Соберите некоторым образом статистику и постройте гистограмму.\n",
        "\n",
        "При работе с данными о заработной плате обратите внимание на валюту и <a target=\"_blank\" href=\"https://yandex.ru/search/?text=gross%2Fnet&clid=1955455&win=446&lr=213&noreask=1\">gross/net</a>. Постоянно подгружать курс валюты не требуется, достаточно фиксировать какой-то один более менее актуальный."
      ]
    },
    {
      "cell_type": "code",
      "execution_count": null,
      "metadata": {
        "id": "UgdzM8RZ2dAa"
      },
      "outputs": [],
      "source": []
    },
    {
      "cell_type": "markdown",
      "metadata": {
        "id": "-DBmoTdz2dAb"
      },
      "source": [
        "**Вопрос 4.** Какой формат работы предлагается (в офисе / удаленно / ...)?"
      ]
    },
    {
      "cell_type": "code",
      "execution_count": null,
      "metadata": {
        "id": "-j1wzx6u2dAb"
      },
      "outputs": [],
      "source": []
    },
    {
      "cell_type": "markdown",
      "metadata": {
        "id": "UxwxCLmS2dAb"
      },
      "source": [
        "Проведите аналогичный анализ для наиболее привлекательной для вас профессии в любом регионе. Если это Data Scientist, то для анализа выберите другую. В данном пункте спокойно можно сделать копипасту кода."
      ]
    },
    {
      "cell_type": "code",
      "execution_count": null,
      "metadata": {
        "id": "UmR-qB222dAb"
      },
      "outputs": [],
      "source": []
    },
    {
      "cell_type": "markdown",
      "metadata": {
        "id": "jbQT4HAZ2dAb"
      },
      "source": [
        "Не забывайте про выводы."
      ]
    },
    {
      "cell_type": "markdown",
      "metadata": {
        "id": "iRMbfANM2dAc"
      },
      "source": [
        "\n",
        "---\n",
        "\n",
        "### <font color=\"green\"><i>Факультативная часть</i></font>\n",
        "\n",
        "---\n",
        "\n",
        "### Задача 2.   \n",
        "\n",
        "Для *одной* из рассмотренных ранее профессий исследуйте, в каком районе Москвы данная вакансия пользуется наибольшим и наименьшим спросом.\n",
        "Не забудьте про визуализацию, в частности, постройте распределений вакансий на карте.\n",
        "\n",
        "*Напоминание.* Работа в некоторой степени творческая, поэтому конкретные детали решения в основном остаются на усмотрение автора решения.\n"
      ]
    },
    {
      "cell_type": "code",
      "execution_count": null,
      "metadata": {
        "id": "S2rQqraW2dAc"
      },
      "outputs": [],
      "source": []
    },
    {
      "cell_type": "markdown",
      "metadata": {
        "id": "YvxYY9em2dAc"
      },
      "source": [
        "Какие выводы можно сделать из построенных графиков?"
      ]
    },
    {
      "cell_type": "markdown",
      "metadata": {
        "id": "zJvaWJKm2dAd"
      },
      "source": [
        "---\n",
        "\n",
        "### Задача 3.   "
      ]
    },
    {
      "cell_type": "markdown",
      "metadata": {
        "id": "-5geigeQ2dAd"
      },
      "source": [
        "**1.** Проверьте, во скольких вакансиях среди выгруженных указана зарплата?\n"
      ]
    },
    {
      "cell_type": "code",
      "execution_count": null,
      "metadata": {
        "id": "aVIU9BqN2dAd"
      },
      "outputs": [],
      "source": []
    },
    {
      "cell_type": "markdown",
      "metadata": {
        "id": "LgJ1ZiYy2dAd"
      },
      "source": [
        "На основе описания вакансий с известной зарплатой попробуйте оценить ожидаемую зарплату для всех остальных вакансий. Для этого на основе текстового описания вакансии можно построить эмбеддинги (любые подходящие нейросетевые или просто one-hot кодирование). По этим эмбеддингам обучите некоторую модель предсказывать зарплату.\n",
        "\n",
        "Не забудьте по общий пайплайн ML-моделей, а также про применимость различных методов."
      ]
    },
    {
      "cell_type": "code",
      "execution_count": null,
      "metadata": {
        "id": "3FxyF-9_2dAe"
      },
      "outputs": [],
      "source": []
    },
    {
      "cell_type": "markdown",
      "metadata": {
        "ExecuteTime": {
          "end_time": "2024-05-02T07:12:06.576122Z",
          "start_time": "2024-05-02T07:12:06.569338Z"
        },
        "id": "0C2wvuQo2dAe"
      },
      "source": [
        "**2.** Выполните кластеризацию вакансий, используя построенные эмбеддинги. Визуализируйте результаты и проинтерпретируйте кластеры."
      ]
    },
    {
      "cell_type": "code",
      "execution_count": null,
      "metadata": {
        "id": "tJM83M_G2dAe"
      },
      "outputs": [],
      "source": []
    },
    {
      "cell_type": "markdown",
      "metadata": {
        "id": "4YpFLWHk2dAe"
      },
      "source": [
        "Не забывайте про выводы."
      ]
    }
  ],
  "metadata": {
    "colab": {
      "provenance": []
    },
    "hide_input": false,
    "kernelspec": {
      "display_name": "Python 3",
      "name": "python3"
    },
    "language_info": {
      "codemirror_mode": {
        "name": "ipython",
        "version": 3
      },
      "file_extension": ".py",
      "mimetype": "text/x-python",
      "name": "python",
      "nbconvert_exporter": "python",
      "pygments_lexer": "ipython3",
      "version": "3.9.12"
    }
  },
  "nbformat": 4,
  "nbformat_minor": 0
}