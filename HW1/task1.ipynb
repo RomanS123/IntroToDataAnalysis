{
 "cells": [
  {
   "cell_type": "code",
   "execution_count": null,
   "id": "a0ffb711",
   "metadata": {},
   "outputs": [],
   "source": [
    "import numpy as np\n",
    "import typing as tp\n",
    "\n",
    "def matrix_multiplication(A: np.ndarray, B: np.ndarray) -> np.ndarray:    \n",
    "    b_orig_shape = B.shape;\n",
    "    \n",
    "    A = A.T;\n",
    "    A = np.expand_dims(A, axis=-1)\n",
    "    \n",
    "    #prepare matrix B to multiplication\n",
    "\n",
    "    B = np.expand_dims(B, axis=1)\n",
    "    B = np.broadcast_to(B, (B.shape[0], A.shape[0], B.shape[2]))\n",
    "    \n",
    "    C = A * B;\n",
    "    C = np.reshape(C, (C.shape[0] * C.shape[1], C.shape[2]))\n",
    "    C = C.T\n",
    "    C = np.reshape(C, (b_orig_shape[1], A.shape[0], A.shape[1]), order='C');\n",
    "    C = np.sum(C, axis=1);\n",
    "    return C.TS"
   ]
  }
 ],
 "metadata": {
  "kernelspec": {
   "display_name": "Python 3 (ipykernel)",
   "language": "python",
   "name": "python3"
  },
  "language_info": {
   "codemirror_mode": {
    "name": "ipython",
    "version": 3
   },
   "file_extension": ".py",
   "mimetype": "text/x-python",
   "name": "python",
   "nbconvert_exporter": "python",
   "pygments_lexer": "ipython3",
   "version": "3.9.12"
  }
 },
 "nbformat": 4,
 "nbformat_minor": 5
}
