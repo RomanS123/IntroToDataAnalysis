{
 "cells": [
  {
   "cell_type": "code",
   "execution_count": 37,
   "id": "7430c51a",
   "metadata": {},
   "outputs": [],
   "source": [
    "import numpy as np\n",
    "import typing as tp\n",
    "\n",
    "def find_nearest_points(A: np.ndarray, B: np.ndarray, k: int) -> np.ndarray:    \n",
    "    B = np.expand_dims(B, axis=1);\n",
    "    C = A-B;\n",
    "    C = np.power(C, 2)\n",
    "    C = np.sum(C, axis=-1);\n",
    "    ind = np.argsort(C, axis=1)\n",
    "    print(ind)\n",
    "    return (ind[:, :k] + 1)\n",
    "\n",
    "def find_nearest_points2(A: np.ndarray, B: np.ndarray, k: int) -> np.ndarray:\n",
    "    dst = np.sum((A[:, np.newaxis] - B) **  2, axis=2)\n",
    "    C = np.argsort(dst, axis=0);\n",
    "    C = C[:k] +  1\n",
    "    return C.T"
   ]
  },
  {
   "cell_type": "code",
   "execution_count": 38,
   "id": "b46ae64c",
   "metadata": {},
   "outputs": [
    {
     "name": "stdout",
     "output_type": "stream",
     "text": [
      "[[0 1 2]\n",
      " [2 1 0]]\n",
      "[[1 2]\n",
      " [3 2]]\n",
      "[[0 2]\n",
      " [1 1]\n",
      " [2 0]]\n",
      "[[1 2]\n",
      " [3 2]]\n"
     ]
    }
   ],
   "source": [
    "A = np.array([\n",
    "    [0, 0],\n",
    "    [1, 0],\n",
    "    [2, 0]\n",
    "])\n",
    "\n",
    "B = np.array([\n",
    "    [0,1],\n",
    "    [2, 1]\n",
    "])\n",
    "\n",
    "\n",
    "print(find_nearest_points(A, B, 2));\n",
    "print(find_nearest_points2(A, B, 2));\n"
   ]
  },
  {
   "cell_type": "code",
   "execution_count": null,
   "id": "3ed94dfc",
   "metadata": {},
   "outputs": [],
   "source": []
  },
  {
   "cell_type": "code",
   "execution_count": null,
   "id": "41b9c66b",
   "metadata": {},
   "outputs": [],
   "source": []
  }
 ],
 "metadata": {
  "kernelspec": {
   "display_name": "Python 3 (ipykernel)",
   "language": "python",
   "name": "python3"
  },
  "language_info": {
   "codemirror_mode": {
    "name": "ipython",
    "version": 3
   },
   "file_extension": ".py",
   "mimetype": "text/x-python",
   "name": "python",
   "nbconvert_exporter": "python",
   "pygments_lexer": "ipython3",
   "version": "3.9.12"
  }
 },
 "nbformat": 4,
 "nbformat_minor": 5
}
