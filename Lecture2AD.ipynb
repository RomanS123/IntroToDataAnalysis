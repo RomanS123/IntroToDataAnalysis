{
 "cells": [
  {
   "cell_type": "code",
   "execution_count": 8,
   "id": "82955c23",
   "metadata": {},
   "outputs": [],
   "source": [
    "import numpy as np\n",
    "from tqdm.auto import tqdm"
   ]
  },
  {
   "cell_type": "code",
   "execution_count": 4,
   "id": "b0107eb7",
   "metadata": {},
   "outputs": [
    {
     "name": "stdout",
     "output_type": "stream",
     "text": [
      "[1 3 5 7]\n"
     ]
    }
   ],
   "source": [
    "arr = np.arange(1, 9, 2);\n",
    "print(arr)"
   ]
  },
  {
   "cell_type": "markdown",
   "id": "a5caa664",
   "metadata": {},
   "source": [
    "**tqdm позволяет измерять время занимаемое итерацией**"
   ]
  },
  {
   "cell_type": "code",
   "execution_count": 6,
   "id": "2a4ae291",
   "metadata": {
    "scrolled": true
   },
   "outputs": [
    {
     "name": "stdout",
     "output_type": "stream",
     "text": [
      "(4,)\n"
     ]
    }
   ],
   "source": [
    "print(arr.shape)"
   ]
  },
  {
   "cell_type": "code",
   "execution_count": 9,
   "id": "df045d99",
   "metadata": {},
   "outputs": [
    {
     "data": {
      "application/vnd.jupyter.widget-view+json": {
       "model_id": "ed025b1e547c428e81c791f52a029156",
       "version_major": 2,
       "version_minor": 0
      },
      "text/plain": [
       "  0%|          | 0/4 [00:00<?, ?it/s]"
      ]
     },
     "metadata": {},
     "output_type": "display_data"
    },
    {
     "name": "stdout",
     "output_type": "stream",
     "text": [
      "1\n",
      "3\n",
      "5\n",
      "7\n"
     ]
    }
   ],
   "source": [
    "for elem in tqdm(arr):\n",
    "    print(elem);"
   ]
  },
  {
   "cell_type": "code",
   "execution_count": 13,
   "id": "e5d7f731",
   "metadata": {},
   "outputs": [],
   "source": [
    "a = np.array([1, 10, 11, -2, 0, -3]);"
   ]
  },
  {
   "cell_type": "code",
   "execution_count": 15,
   "id": "12e611f6",
   "metadata": {},
   "outputs": [
    {
     "name": "stdout",
     "output_type": "stream",
     "text": [
      "[ 1 10 11]\n"
     ]
    }
   ],
   "source": [
    "print(a[a > 0])"
   ]
  },
  {
   "cell_type": "code",
   "execution_count": 17,
   "id": "9fc58286",
   "metadata": {},
   "outputs": [
    {
     "name": "stdout",
     "output_type": "stream",
     "text": [
      "[[3. 3. 3.]\n",
      " [3. 3. 3.]\n",
      " [3. 3. 3.]]\n"
     ]
    }
   ],
   "source": [
    "a = np.full((3,3), 3, dtype=np.float32);\n",
    "print(a)"
   ]
  },
  {
   "cell_type": "code",
   "execution_count": null,
   "id": "c58b04cf",
   "metadata": {},
   "outputs": [],
   "source": []
  },
  {
   "cell_type": "code",
   "execution_count": 19,
   "id": "1aaec788",
   "metadata": {},
   "outputs": [
    {
     "name": "stdout",
     "output_type": "stream",
     "text": [
      "[100.         109.75609756 119.51219512 129.26829268 139.02439024\n",
      " 148.7804878  158.53658537 168.29268293 178.04878049 187.80487805\n",
      " 197.56097561 207.31707317 217.07317073 226.82926829 236.58536585\n",
      " 246.34146341 256.09756098 265.85365854 275.6097561  285.36585366\n",
      " 295.12195122 304.87804878 314.63414634 324.3902439  334.14634146\n",
      " 343.90243902 353.65853659 363.41463415 373.17073171 382.92682927\n",
      " 392.68292683 402.43902439 412.19512195 421.95121951 431.70731707\n",
      " 441.46341463 451.2195122  460.97560976 470.73170732 480.48780488\n",
      " 490.24390244 500.        ]\n",
      "[ 100.          112.20184543  125.89254118  141.25375446  158.48931925\n",
      "  177.827941    199.5262315   223.87211386  251.18864315  281.83829313\n",
      "  316.22776602  354.81338923  398.10717055  446.68359215  501.18723363\n",
      "  562.34132519  630.95734448  707.94578438  794.32823472  891.25093813\n",
      " 1000.        ]\n"
     ]
    }
   ],
   "source": [
    "a = np.linspace(100, 500, 42);\n",
    "b = np.logspace(2, 3, 21);\n",
    "\n",
    "print(a);\n",
    "print(b);"
   ]
  },
  {
   "cell_type": "code",
   "execution_count": null,
   "id": "9ccfa0d6",
   "metadata": {},
   "outputs": [],
   "source": []
  },
  {
   "cell_type": "code",
   "execution_count": 26,
   "id": "b282f28e",
   "metadata": {},
   "outputs": [
    {
     "name": "stdout",
     "output_type": "stream",
     "text": [
      "[ 1  3  2  4  6 10]\n",
      "[ 1  3  4  6 10]\n"
     ]
    }
   ],
   "source": [
    "a = np.array([1,3,2])\n",
    "b = np.array([4,6,10])\n",
    "\n",
    "a = np.hstack((a, b))\n",
    "print(a)\n",
    "a = np.delete(a, 2);\n",
    "print(a)"
   ]
  },
  {
   "cell_type": "code",
   "execution_count": 29,
   "id": "e6e57ae6",
   "metadata": {},
   "outputs": [
    {
     "name": "stdout",
     "output_type": "stream",
     "text": [
      "[12  6  4  3  1]\n",
      "[ 1  3  4  6 12]\n"
     ]
    }
   ],
   "source": [
    "b = a[::-1]\n",
    "b[0] = 12;\n",
    "print(b)\n",
    "print(a) #массив изменятется"
   ]
  },
  {
   "cell_type": "code",
   "execution_count": 36,
   "id": "299fdf16",
   "metadata": {},
   "outputs": [
    {
     "name": "stdout",
     "output_type": "stream",
     "text": [
      "True\n"
     ]
    }
   ],
   "source": [
    "arr = np.linspace(-3*np.pi,3*np.pi, 10, dtype=np.float64);\n",
    "squares = np.sin(arr) ** 2 + np.cos(arr) ** 2 + np.exp(arr) ** 2;\n",
    "print(np.all(squares >= 1))"
   ]
  },
  {
   "cell_type": "code",
   "execution_count": 38,
   "id": "4afb4678",
   "metadata": {},
   "outputs": [
    {
     "name": "stdout",
     "output_type": "stream",
     "text": [
      "2400.0\n"
     ]
    }
   ],
   "source": [
    "prices = np.array([52000, 57000, 63500, 61500, 48000]);\n",
    "prices_from_rielt = np.array([50000, 51000, 62500, 64500, 48000]);\n",
    "\n",
    "print(np.sum(np.abs(prices - prices_from_rielt)) / prices.shape[0]);"
   ]
  },
  {
   "cell_type": "markdown",
   "id": "5c098f89",
   "metadata": {},
   "source": [
    "**Broadcasting**"
   ]
  },
  {
   "cell_type": "code",
   "execution_count": 39,
   "id": "7eb8d4b2",
   "metadata": {},
   "outputs": [
    {
     "name": "stdout",
     "output_type": "stream",
     "text": [
      "[3 6 9]\n"
     ]
    }
   ],
   "source": [
    "a = np.array([1,2,3]);\n",
    "print(a * [3])"
   ]
  },
  {
   "cell_type": "code",
   "execution_count": 42,
   "id": "372954ea",
   "metadata": {},
   "outputs": [
    {
     "name": "stdout",
     "output_type": "stream",
     "text": [
      "[[2 3 4]\n",
      " [3 4 5]\n",
      " [4 5 6]\n",
      " [5 6 7]]\n"
     ]
    }
   ],
   "source": [
    "a = np.array([1,2,3, 4]);\n",
    "b = np.array([1,2,3]);\n",
    "print(a.reshape(-1, 1) + b) #(4, 1) + (3)"
   ]
  },
  {
   "cell_type": "code",
   "execution_count": null,
   "id": "71799cff",
   "metadata": {},
   "outputs": [],
   "source": []
  }
 ],
 "metadata": {
  "kernelspec": {
   "display_name": "Python 3 (ipykernel)",
   "language": "python",
   "name": "python3"
  },
  "language_info": {
   "codemirror_mode": {
    "name": "ipython",
    "version": 3
   },
   "file_extension": ".py",
   "mimetype": "text/x-python",
   "name": "python",
   "nbconvert_exporter": "python",
   "pygments_lexer": "ipython3",
   "version": "3.9.12"
  }
 },
 "nbformat": 4,
 "nbformat_minor": 5
}
