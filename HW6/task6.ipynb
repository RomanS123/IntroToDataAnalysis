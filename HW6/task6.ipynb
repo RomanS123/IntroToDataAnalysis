{
  "cells": [
    {
      "cell_type": "markdown",
      "id": "6eaad4c7",
      "metadata": {
        "id": "6eaad4c7"
      },
      "source": [
        "# <a href=\"https://miptstats.github.io/courses/ad_fivt.html\">Введение в анализ данных</a>\n",
        "## Домашнее задание 6. Основы обработки текстов\n"
      ]
    },
    {
      "cell_type": "markdown",
      "id": "7622f90a",
      "metadata": {
        "id": "7622f90a"
      },
      "source": [
        "**Правила, <font color=\"red\">прочитайте внимательно</font>:**\n",
        "\n",
        "* Выполненную работу нужно отправить телеграм-боту `@miptstats_ds24_bot`. Для начала работы с ботом каждый раз отправляйте `/start`. **Работы, присланные иным способом, не принимаются.**\n",
        "* Дедлайн см. в боте. После дедлайна работы не принимаются кроме случаев наличия уважительной причины.\n",
        "* Прислать нужно **ноутбук в формате `ipynb`**.\n",
        "* Следите за размером файлов. **Бот не может принимать файлы весом более 20 Мб.** Если файл получается больше, заранее разделите его на несколько.\n",
        "* Выполнять задание необходимо полностью самостоятельно. **При обнаружении списывания все участники списывания будут сдавать устный зачет.**\n",
        "* Решения, размещенные на каких-либо интернет-ресурсах, не принимаются. Кроме того, публикация решения в открытом доступе может быть приравнена к предоставлении возможности списать.\n",
        "* Для выполнения задания используйте этот ноутбук в качестве основы, ничего не удаляя из него. Можно добавлять необходимое количество ячеек.\n",
        "* Комментарии к решению пишите в markdown-ячейках.\n",
        "* Выполнение задания (ход решения, выводы и пр.) должно быть осуществлено на русском языке.\n",
        "* Если код будет не понятен проверяющему, оценка может быть снижена.\n",
        "* Никакой код из данного задания при проверке запускаться не будет. *Если код студента не выполнен, недописан и т.д., то он не оценивается.*\n",
        "\n",
        "\n",
        "**Баллы за задание:**\n",
        "\n",
        "* Задача 1 &mdash; 100 баллов\n",
        "* Задача 2 &mdash; 50 баллов\n",
        "\n",
        "Баллы учитываются в <b><font color=\"green\">факультативной части</font></b> курса и не влияют на оценку по основной части."
      ]
    },
    {
      "cell_type": "code",
      "execution_count": null,
      "id": "3431050d",
      "metadata": {
        "id": "3431050d"
      },
      "outputs": [],
      "source": [
        "# Bot check\n",
        "\n",
        "# HW_ID: fpmi_ad6\n",
        "# Бот проверит этот ID и предупредит, если случайно сдать что-то не то.\n",
        "\n",
        "# Status: not final\n",
        "# Перед отправкой в финальном решении удали \"not\" в строчке выше.\n",
        "# Так бот проверит, что ты отправляешь финальную версию, а не промежуточную.\n",
        "# Никакие значения в этой ячейке не влияют на факт сдачи работы."
      ]
    },
    {
      "cell_type": "code",
      "execution_count": 1,
      "id": "2ee3e8d8",
      "metadata": {
        "colab": {
          "base_uri": "https://localhost:8080/"
        },
        "id": "2ee3e8d8",
        "outputId": "12fe7e99-0568-41bd-ccdb-b33eb98cf54d"
      },
      "outputs": [
        {
          "output_type": "stream",
          "name": "stdout",
          "text": [
            "Name: torchtext\n",
            "Version: 0.17.1\n",
            "Summary: Text utilities, models, transforms, and datasets for PyTorch.\n",
            "Home-page: https://github.com/pytorch/text\n",
            "Author: PyTorch Text Team\n",
            "Author-email: packages@pytorch.org\n",
            "License: BSD\n",
            "Location: /usr/local/lib/python3.10/dist-packages\n",
            "Requires: numpy, requests, torch, torchdata, tqdm\n",
            "Required-by: \n"
          ]
        },
        {
          "output_type": "stream",
          "name": "stderr",
          "text": [
            "[nltk_data] Downloading package stopwords to /root/nltk_data...\n",
            "[nltk_data]   Unzipping corpora/stopwords.zip.\n"
          ]
        }
      ],
      "source": [
        "import time\n",
        "import numpy as np\n",
        "import pandas as pd\n",
        "from tqdm import tqdm\n",
        "from string import punctuation\n",
        "import matplotlib.pyplot as plt\n",
        "from collections import Counter, OrderedDict\n",
        "from IPython.display import clear_output\n",
        "\n",
        "#!pip3 install torch torchvision torchaudio --index-url https://download.pytorch.org/whl/cu118\n",
        "\n",
        "import torch\n",
        "import torch.nn as nn\n",
        "import torch.nn.functional as F\n",
        "from torch.utils.data import DataLoader, Dataset\n",
        "from torch.nn.utils.rnn import pad_sequence\n",
        "\n",
        "from sklearn.model_selection import train_test_split\n",
        "from sklearn.preprocessing import MinMaxScaler\n",
        "from sklearn.model_selection import train_test_split\n",
        "\n",
        "import torchtext\n",
        "!pip show torchtext\n",
        "from torchtext.data.utils import get_tokenizer\n",
        "\n",
        "import seaborn as sns\n",
        "\n",
        "sns.set(palette=\"Set2\")\n",
        "sns.set_style(\"whitegrid\")\n",
        "\n",
        "import nltk\n",
        "\n",
        "nltk.download(\"stopwords\")\n",
        "\n",
        "device = (\n",
        "    \"mps\"\n",
        "    if torch.backends.mps.is_available()\n",
        "    else \"cuda\" if torch.cuda.is_available() else \"cpu\"\n",
        ")\n",
        "\n",
        "import warnings\n",
        "warnings.filterwarnings(\"ignore\", category=DeprecationWarning)"
      ]
    },
    {
      "cell_type": "code",
      "execution_count": null,
      "id": "BLEAKE2BaUTY",
      "metadata": {
        "colab": {
          "base_uri": "https://localhost:8080/"
        },
        "id": "BLEAKE2BaUTY",
        "outputId": "b36088a3-48b2-4898-cbed-e75d52492882"
      },
      "outputs": [
        {
          "data": {
            "text/plain": [
              "True"
            ]
          },
          "execution_count": 3,
          "metadata": {},
          "output_type": "execute_result"
        }
      ],
      "source": [
        "torch.cuda.is_available()"
      ]
    },
    {
      "cell_type": "markdown",
      "id": "f2a21b25",
      "metadata": {
        "id": "f2a21b25"
      },
      "source": [
        "Перед выполнением задания обязательно посмотрите <a href=\"https://miptstats.github.io/courses/ad_fivt/lecture6.pdf\" target=\"_blank\">презентацию</a>, [ноутбук](https://miptstats.github.io/courses/ad_fivt/nlp_sem.html) по RNN и [ноутбук](https://miptstats.github.io/courses/ad_fivt/nlp_sem_llama.html) по генерации текста."
      ]
    },
    {
      "cell_type": "markdown",
      "id": "9045cb13",
      "metadata": {
        "id": "9045cb13"
      },
      "source": [
        "---\n",
        "### Задача 1. Предсказание заработной платы\n"
      ]
    },
    {
      "cell_type": "markdown",
      "id": "66815083",
      "metadata": {
        "id": "66815083"
      },
      "source": [
        "В этой задаче вам предлагается решить задачу регрессии &mdash; по текстовому описанию вакансии определить заработную плату. Для решения такой задачи можно применять различные методы, в том числе и те, которые были рассмотрены на лекции.\n",
        "Мы будем решать эту задачу с помощью рекуррентной нейронной сети."
      ]
    },
    {
      "cell_type": "markdown",
      "id": "f1fc7637",
      "metadata": {
        "id": "f1fc7637"
      },
      "source": [
        "Датасет `salary_dataset.csv` лежит по <a target=\"_blank\" href=\"https://drive.google.com/file/d/1Q3lCw_8Uad_OzHCjvLeYRvamXR74UPbW/view?usp=sharing\">ссылке</a> (312.3 MB).\n",
        "\n",
        "Если вы работаете локально:\n",
        "\n",
        "> Просто скачайте этот файл и укажите пути к ним ниже.\n",
        "\n",
        "\n",
        "Если вы используете <a target=\"_blank\" href=\"https://colab.research.google.com/\">Colab</a>:\n",
        "> **Скачивать файл не обязательно**. Просто подключитесь к Google Drive:\n",
        ">\n",
        "> ```\n",
        "> from google.colab import drive\n",
        "> drive.mount('/content/drive/')\n",
        "> ```\n",
        ">\n",
        "> Перейдите по ссылке файла и добавьте shortcut на него в ваш собственный диск:\n",
        "> ![Screen Shot 2024-03-17 at 5.34.40 PM.png](data:image/png;base64,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)"
      ]
    },
    {
      "cell_type": "markdown",
      "id": "a2f8e4ae",
      "metadata": {
        "id": "a2f8e4ae"
      },
      "source": [
        "Скачаем данные для обучения и тестирования:"
      ]
    },
    {
      "cell_type": "code",
      "execution_count": 2,
      "id": "2oTsovSVeTL8",
      "metadata": {
        "colab": {
          "base_uri": "https://localhost:8080/"
        },
        "id": "2oTsovSVeTL8",
        "outputId": "8ef6093a-09a2-4d27-ce43-a9c5cf62f407"
      },
      "outputs": [
        {
          "output_type": "stream",
          "name": "stdout",
          "text": [
            "Mounted at /content/drive/\n"
          ]
        }
      ],
      "source": [
        "from google.colab import drive\n",
        "drive.mount('/content/drive/')"
      ]
    },
    {
      "cell_type": "code",
      "execution_count": 3,
      "id": "04bee2a7",
      "metadata": {
        "colab": {
          "base_uri": "https://localhost:8080/"
        },
        "id": "04bee2a7",
        "outputId": "be68bc0a-acbb-4347-8ba7-1ae37962693e"
      },
      "outputs": [
        {
          "output_type": "stream",
          "name": "stdout",
          "text": [
            "200000\n"
          ]
        }
      ],
      "source": [
        "dataset = pd.read_csv('/content/drive/MyDrive/salary_dataset.csv')\n",
        "dataset.head()\n",
        "print(len(dataset.index))"
      ]
    },
    {
      "cell_type": "markdown",
      "id": "62f7f530",
      "metadata": {
        "id": "62f7f530"
      },
      "source": [
        "Каждая строка содержит полное описание вакансии и соответствующую зарплату. При этом описания могут быть довольно длинными, например:"
      ]
    },
    {
      "cell_type": "code",
      "execution_count": null,
      "id": "7176a287",
      "metadata": {
        "colab": {
          "base_uri": "https://localhost:8080/",
          "height": 174
        },
        "id": "7176a287",
        "outputId": "b9c65989-d891-4c5e-f0bb-1c6f7a3ce723"
      },
      "outputs": [
        {
          "data": {
            "application/vnd.google.colaboratory.intrinsic+json": {
              "type": "string"
            },
            "text/plain": [
              "'This is an exciting opportunity for a Recruiter to join a rapidly growing online retailer. You will be responsible for developing and executing recruiting plans across the company. Your key accountabilities will include creating job descriptions, working closely with hiring managers, reducing recruitment costs, coordinating and implementing university recruitment initiatives and networking with industry contacts. You should be of graduate calibre with a track record in recruitment ideally gained in a fast moving start up environment. Experience of working in an online company would be a distinct advantage. Our client is an online retailer operating in the UK and in Continental Europe. This job was originally posted as www.totaljobs.com/JobSeeking/RecruitmentManager_job****'"
            ]
          },
          "execution_count": 6,
          "metadata": {},
          "output_type": "execute_result"
        }
      ],
      "source": [
        "dataset.iloc[0][\"FullDescription\"]"
      ]
    },
    {
      "cell_type": "markdown",
      "id": "da5b0061",
      "metadata": {
        "id": "da5b0061"
      },
      "source": [
        "Для данной задачи нам не будут нужны служебные части речи и знаки пунктуации. Зададим токенизатор, списки стоп-слов и пунктуации."
      ]
    },
    {
      "cell_type": "code",
      "execution_count": null,
      "id": "63fd6175",
      "metadata": {
        "colab": {
          "base_uri": "https://localhost:8080/"
        },
        "id": "63fd6175",
        "outputId": "0cba4cfe-1108-4328-d05f-78ae466b796b"
      },
      "outputs": [
        {
          "name": "stdout",
          "output_type": "stream",
          "text": [
            "<class 'functools.partial'>\n"
          ]
        }
      ],
      "source": [
        "# Зададим токенизаторы\n",
        "tokenizer = get_tokenizer(\"spacy\", language=\"en_core_web_sm\")\n",
        "print(type(tokenizer))\n",
        "stop_words = nltk.corpus.stopwords.words(\"english\")  # стоп-слова\n",
        "\n",
        "punc = list(punctuation)  # пунктуация\n",
        "punc.append(' ');"
      ]
    },
    {
      "cell_type": "markdown",
      "id": "34d7fa9a",
      "metadata": {
        "id": "34d7fa9a"
      },
      "source": [
        "Подготовьте словарь, оставив в нем только наиболее часто встречающиеся токены. Не забудьте предварительно убрать из предложений знаки пунктуации и стоп-слова.\n",
        "\n",
        "*Можно использовать код с [семинара](https://miptstats.github.io/courses/ad_fivt/nlp_sem.html).*"
      ]
    },
    {
      "cell_type": "code",
      "execution_count": null,
      "id": "a8185269",
      "metadata": {
        "id": "a8185269"
      },
      "outputs": [],
      "source": [
        "i = 0;\n",
        "ordered_dict = {};\n",
        "MAX_VOCAB_SIZE = 30000;\n",
        "\n",
        "for text in dataset.iterrows():\n",
        "  tokens = tokenizer(text[1][\"FullDescription\"]);\n",
        "  tokens = [w for w in tokens if not w.lower() in stop_words and not w in punc]\n",
        "\n",
        "  for token in tokens:\n",
        "    if token not in ordered_dict:\n",
        "      ordered_dict[token] = 1;\n",
        "    else:\n",
        "      ordered_dict[token] += 1;\n",
        "  i += 1;\n",
        "  if i >= 10000:\n",
        "    break\n",
        "ordered_dict = Counter(ordered_dict).most_common(MAX_VOCAB_SIZE)"
      ]
    },
    {
      "cell_type": "markdown",
      "id": "21506452",
      "metadata": {
        "id": "21506452"
      },
      "source": [
        "Этот упорядоченный словарь хранит слово и его встречаемость. Можно посмотреть на самые частые слова в датасете:"
      ]
    },
    {
      "cell_type": "code",
      "execution_count": null,
      "id": "1d305b88",
      "metadata": {
        "colab": {
          "base_uri": "https://localhost:8080/"
        },
        "id": "1d305b88",
        "outputId": "7cd68627-2dae-4bd9-ec38-797e33d9400f"
      },
      "outputs": [
        {
          "name": "stdout",
          "output_type": "stream",
          "text": [
            "30000\n"
          ]
        },
        {
          "data": {
            "text/plain": [
              "[('experience', 13698),\n",
              " ('role', 10716),\n",
              " ('work', 10341),\n",
              " ('team', 9601),\n",
              " ('within', 8919),\n",
              " ('skills', 8363),\n",
              " ('business', 7939),\n",
              " ('working', 7759),\n",
              " ('client', 6977),\n",
              " ('Manager', 6190)]"
            ]
          },
          "execution_count": 9,
          "metadata": {},
          "output_type": "execute_result"
        }
      ],
      "source": [
        "print(len(ordered_dict))\n",
        "ordered_dict = OrderedDict(ordered_dict);\n",
        "list(ordered_dict.items())[:10]"
      ]
    },
    {
      "cell_type": "markdown",
      "id": "4063d7b8",
      "metadata": {
        "id": "4063d7b8"
      },
      "source": [
        "Теперь изменим словарь, добавив в него специальные токены, которые необходимы для подготовки данных к обучению:"
      ]
    },
    {
      "cell_type": "code",
      "execution_count": null,
      "id": "4a63124e",
      "metadata": {
        "id": "4a63124e"
      },
      "outputs": [],
      "source": [
        "# зададим словарь\n",
        "\n",
        "vocab = torchtext.vocab.vocab(ordered_dict)\n",
        "\n",
        "unk_token = \"<unk>\"\n",
        "pad_token = \"<pad>\"\n",
        "\n",
        "\n",
        "def add_special_tokens(vocab):\n",
        "    \"\"\"Функция для добавления специальных токенов в словарь.\"\"\"\n",
        "    for special_token in [unk_token, pad_token]:\n",
        "        vocab.append_token(special_token)\n",
        "    vocab.set_default_index(vocab[unk_token])\n",
        "    UNK_IDX = vocab[unk_token]\n",
        "    PAD_IDX = vocab[pad_token]\n",
        "    return vocab, UNK_IDX, PAD_IDX\n",
        "\n",
        "\n",
        "vocab, UNK_IDX_EN, PAD_IDX_EN = add_special_tokens(vocab)\n",
        "num_tokens = len(vocab)"
      ]
    },
    {
      "cell_type": "markdown",
      "id": "91395e11",
      "metadata": {
        "id": "91395e11"
      },
      "source": [
        "Подготовим класс датасета:"
      ]
    },
    {
      "cell_type": "code",
      "execution_count": null,
      "id": "325a9927",
      "metadata": {
        "id": "325a9927"
      },
      "outputs": [],
      "source": [
        "class SalaryPredictionDataset(Dataset):\n",
        "    \"\"\"Класс датасета для предсказания зарплаты\"\"\"\n",
        "\n",
        "    def __init__(self, texts, target, smart_pad_collate=False):\n",
        "        \"\"\"\n",
        "        Параметры.\n",
        "        1) texts (list) — корпус токенизированных текстов, на котором будет\n",
        "                          происходить обучение\n",
        "        2) labels (list) — истинные метки текстов\n",
        "        \"\"\"\n",
        "        self.texts = texts\n",
        "        self.target = target\n",
        "\n",
        "        if smart_pad_collate:\n",
        "            self.texts.sort(key=len)\n",
        "    def __len__(self):\n",
        "        return len(self.target)\n",
        "\n",
        "    def __getitem__(self, idx):\n",
        "        return self.texts[idx], self.target[idx]"
      ]
    },
    {
      "cell_type": "markdown",
      "id": "83f538a8",
      "metadata": {
        "id": "83f538a8"
      },
      "source": [
        "Допишите функцию для дополнения текста до максимальной длины в батче. Снова воспользуйтесь кодом с [семинара](https://miptstats.github.io/courses/ad_fivt/nlp_sem.html).\n",
        "\n",
        "*Обратите внимание, что теперь вместо целочисленных меток мы используем вещественные таргеты. Если не поменять код с семинара, то вы можете решать неправильную задачу.*"
      ]
    },
    {
      "cell_type": "code",
      "execution_count": null,
      "id": "e404b6a9",
      "metadata": {
        "id": "e404b6a9"
      },
      "outputs": [],
      "source": [
        "def pad_collate(batch):\n",
        "    \"\"\"\n",
        "    Формирует тензоры из токенизированных текстов и меток, а также\n",
        "    дополняет последовательности токенов до максимальной длины в батче с UNK_IDX\n",
        "    \"\"\"\n",
        "    texts, labels = zip(*batch)\n",
        "\n",
        "    # сформируем тензоры\n",
        "    texts_tensors = [torch.LongTensor(t) for t in texts]\n",
        "    labels = torch.FloatTensor(labels)\n",
        "\n",
        "    # дополним до макс. длины в батче\n",
        "    texts_tensors = pad_sequence(\n",
        "        texts_tensors, padding_value=PAD_IDX_EN, batch_first=True\n",
        "    )\n",
        "\n",
        "    return texts_tensors, labels"
      ]
    },
    {
      "cell_type": "markdown",
      "id": "cda48bb6",
      "metadata": {
        "id": "cda48bb6"
      },
      "source": [
        "Токенизируем текст, а таргет переведем во `float`."
      ]
    },
    {
      "cell_type": "code",
      "execution_count": null,
      "id": "5ff3711b",
      "metadata": {
        "id": "5ff3711b"
      },
      "outputs": [],
      "source": [
        "tokens = [vocab(tokenizer(text)) for text in dataset[\"FullDescription\"]]\n",
        "target = [float(value) for value in dataset[\"SalaryNormalized\"]]"
      ]
    },
    {
      "cell_type": "markdown",
      "id": "9cd8fb68",
      "metadata": {
        "id": "9cd8fb68"
      },
      "source": [
        "Каждому из текстов в датасете сопоставляется последовательность токенов, причем везде разного размера:"
      ]
    },
    {
      "cell_type": "code",
      "execution_count": null,
      "id": "f5bf13aa",
      "metadata": {
        "colab": {
          "base_uri": "https://localhost:8080/"
        },
        "id": "f5bf13aa",
        "outputId": "ee790c74-5f1c-4bbc-b18e-d3058a6c74de"
      },
      "outputs": [
        {
          "name": "stdout",
          "output_type": "stream",
          "text": [
            "Количество токенов в 0-м тексте - 122:\n",
            "  30000, 30000, 30000, 131, 13, 30000, 30000, 3332, 30000, 28, ...\n",
            "Таргет: 55000.0 \n",
            "\n",
            "Количество токенов в 1-м тексте - 73:\n",
            "  30000, 8, 30000, 10, 30000, 30000, 4409, 379, 804, 30000, ...\n",
            "Таргет: 27500.0 \n",
            "\n",
            "Количество токенов в 2-м тексте - 309:\n",
            "  506, 167, 1463, 620, 30000, 9968, 30000, 9004, 14651, 89, ...\n",
            "Таргет: 72098.0 \n",
            "\n"
          ]
        }
      ],
      "source": [
        "for i in range(3):\n",
        "    print(f\"Количество токенов в {i}-м тексте - {len(tokens[i])}:\\n  \", end=\"\")\n",
        "    for token in tokens[i][:10]:\n",
        "        print(token, end=\", \")\n",
        "    print(\"...\\nТаргет:\", target[i], \"\\n\")"
      ]
    },
    {
      "cell_type": "markdown",
      "id": "dc98e576",
      "metadata": {
        "id": "dc98e576"
      },
      "source": [
        "При решении задач регрессии с помощью нейросетей удобнее всего бывает перевести предсказываемые значения в небольшой диапазон, например, от 0 до 1. Это нужно, чтобы повысить численную стабильность обучения &mdash; не нагружать модель большими значениями таргетов. В нашей задаче это важно, ведь зарплата может иметь большой разброс и принимать большие значения.\n",
        "\n",
        "Чтобы сделать это, воспользуемся преобразованием `MinMaxScaler` из библиотеки `sklearn`, которое мы рассматривали в [задаче 3 задания 3](https://miptstats.github.io/courses/ad_fivt/task3.html#%D0%97%D0%B0%D0%B4%D0%B0%D1%87%D0%B0-3.).\n",
        "Таким образом, мы получим значения, удобные для использования при обучении."
      ]
    },
    {
      "cell_type": "code",
      "execution_count": null,
      "id": "6e66978f",
      "metadata": {
        "colab": {
          "base_uri": "https://localhost:8080/"
        },
        "id": "6e66978f",
        "outputId": "04de3969-7632-4196-b511-d2840f3ebde3"
      },
      "outputs": [
        {
          "data": {
            "text/plain": [
              "(150000, 50000)"
            ]
          },
          "execution_count": 15,
          "metadata": {},
          "output_type": "execute_result"
        }
      ],
      "source": [
        "train_tokens, valid_tokens, train_target, valid_target = train_test_split(\n",
        "    tokens, target\n",
        ")\n",
        "\n",
        "scaler = MinMaxScaler()\n",
        "train_target_std = scaler.fit_transform(np.array(train_target).reshape(-1, 1))\n",
        "valid_target_std = scaler.transform(np.array(valid_target).reshape(-1, 1))\n",
        "\n",
        "train_data = SalaryPredictionDataset(train_tokens, train_target_std, True)\n",
        "valid_data = SalaryPredictionDataset(valid_tokens, valid_target_std, True)\n",
        "len(train_data), len(valid_data)"
      ]
    },
    {
      "cell_type": "markdown",
      "id": "c90113da",
      "metadata": {
        "id": "c90113da"
      },
      "source": [
        "Посмотрим на отмасштабированные значения зарплаты:"
      ]
    },
    {
      "cell_type": "code",
      "execution_count": null,
      "id": "c40d3904",
      "metadata": {
        "colab": {
          "base_uri": "https://localhost:8080/"
        },
        "id": "c40d3904",
        "outputId": "fa9703a1-052c-460f-b39e-61f84b487e78"
      },
      "outputs": [
        {
          "name": "stdout",
          "output_type": "stream",
          "text": [
            "Преобразованные таргеты:\n",
            "0.0876, 0.0769, 0.0949, ...\n"
          ]
        }
      ],
      "source": [
        "print(\"Преобразованные таргеты:\")\n",
        "for t in train_data[:3][1]:\n",
        "    print(round(t.item(), 4), end=\", \")\n",
        "print(\"...\")"
      ]
    },
    {
      "cell_type": "markdown",
      "id": "6ef5e780",
      "metadata": {
        "id": "6ef5e780"
      },
      "source": [
        "Сформируйте даталоадеры для обучения и валидации."
      ]
    },
    {
      "cell_type": "markdown",
      "id": "S8HXHssnAtZ2",
      "metadata": {
        "id": "S8HXHssnAtZ2"
      },
      "source": []
    },
    {
      "cell_type": "code",
      "execution_count": null,
      "id": "a42bd036",
      "metadata": {
        "id": "a42bd036"
      },
      "outputs": [],
      "source": [
        "from torch.utils.data import Sampler\n",
        "from typing import List, Iterator\n",
        "BATCH_SIZE = 128  # размер батча\n",
        "\n",
        "class AccedingSequenceLengthBatchSampler(Sampler[List[int]]):\n",
        "    def __init__(self, data: List[str], batch_size: int) -> None:\n",
        "         self.data = data\n",
        "         self.batch_size = batch_size\n",
        "\n",
        "    def __len__(self) -> int:\n",
        "         return (len(self.data) + self.batch_size - 1) // self.batch_size\n",
        "\n",
        "    def __iter__(self) -> Iterator[List[int]]:\n",
        "         sizes = torch.tensor([len(x) for x in self.data])\n",
        "         for batch in torch.chunk(torch.argsort(sizes), len(self)):\n",
        "             yield batch.tolist()\n",
        "\n",
        "# сформируем даталоадеры\n",
        "\n",
        "train_batch_sampler = AccedingSequenceLengthBatchSampler(train_data, BATCH_SIZE)\n",
        "valid_batch_sampler = AccedingSequenceLengthBatchSampler(valid_data, BATCH_SIZE)\n",
        "\n",
        "train_loader = DataLoader(\n",
        "    train_data, batch_sampler=train_batch_sampler, collate_fn=pad_collate\n",
        ")\n",
        "\n",
        "valid_loader = DataLoader(\n",
        "    valid_data, batch_sampler=valid_batch_sampler, collate_fn=pad_collate\n",
        ")\n"
      ]
    },
    {
      "cell_type": "markdown",
      "id": "6aeb78e0",
      "metadata": {
        "id": "6aeb78e0"
      },
      "source": [
        "Наконец, можем подготовить модель. Будем использовать рекуррентную архитектуру, подобную той, что была на [семинаре](https://miptstats.github.io/courses/ad_fivt/nlp_sem.ipynb).\n",
        "Отличие состоит в том, что теперь мы предсказываем не метку класса, а вещественный таргет. Подумайте, какую часть сети нужно изменить, чтобы адаптировать ее к нашей задаче."
      ]
    },
    {
      "cell_type": "code",
      "execution_count": null,
      "id": "bfcd2f4a",
      "metadata": {
        "id": "bfcd2f4a"
      },
      "outputs": [],
      "source": [
        "class SimpleRNNRegressor(nn.Module):\n",
        "    \"\"\" Модель для регрессии на основе LSTM\"\"\"\n",
        "\n",
        "    def __init__(\n",
        "        self,\n",
        "        num_tokens,\n",
        "        emb_size=512,\n",
        "        rnn_num_units=1,\n",
        "        output_dim=1\n",
        "    ):\n",
        "        \"\"\"\n",
        "        1) num_tokens — общее количество токенов,\n",
        "        2) emb_size — размер эмбеддингового пространства,\n",
        "        3) rnn_num_units - размер пространства скрытых представлений в rnn,\n",
        "        4) output_dim - размерность выхода-предсказания.\n",
        "        \"\"\"\n",
        "        super(self.__class__, self).__init__()\n",
        "\n",
        "        self.num_tokens = num_tokens;\n",
        "        self.emb_size = emb_size;\n",
        "        self.rnn_num_units = rnn_num_units;\n",
        "        self.output_dim = output_dim;\n",
        "\n",
        "        self.emb = nn.Embedding(num_tokens, emb_size);\n",
        "        self.rnn = nn.LSTM(emb_size, rnn_num_units, batch_first=True);\n",
        "        self.out = nn.Linear(in_features=rnn_num_units, out_features=output_dim);\n",
        "\n",
        "    def forward(self, x):\n",
        "        \"\"\"\n",
        "        x.shape = (batch_size, max_pad_len)\n",
        "\n",
        "        Возвращает:\n",
        "        * predictions - предсказания модели.\n",
        "        \"\"\"\n",
        "        embed = self.emb(x);\n",
        "\n",
        "        h_0 = torch.zeros((1, x.shape[0], self.rnn_num_units)).to(device);\n",
        "        c_0 = torch.zeros((1, x.shape[0], self.rnn_num_units)).to(device);\n",
        "        #print(x.shape)\n",
        "        _, (final_hidden, _) = self.rnn(embed, (h_0, c_0));\n",
        "\n",
        "        return self.out(final_hidden[-1]);"
      ]
    },
    {
      "cell_type": "code",
      "execution_count": null,
      "id": "umdx063eqyY0",
      "metadata": {
        "colab": {
          "base_uri": "https://localhost:8080/"
        },
        "id": "umdx063eqyY0",
        "outputId": "4937d5eb-6d1e-47c0-e45e-90d25c071687"
      },
      "outputs": [
        {
          "name": "stdout",
          "output_type": "stream",
          "text": [
            "Parameter containing:\n",
            "tensor([[-0.2936],\n",
            "        [ 0.7063],\n",
            "        [-0.4169]], requires_grad=True)\n"
          ]
        }
      ],
      "source": [
        "lin = nn.Linear(in_features=1, out_features=3);\n",
        "print(lin.weight);"
      ]
    },
    {
      "cell_type": "markdown",
      "id": "35d59151",
      "metadata": {
        "id": "35d59151"
      },
      "source": [
        "Так как теперь решаем задачу регрессии, вместо точности модели будем измерять среднеквадратичную ошибку:"
      ]
    },
    {
      "cell_type": "code",
      "execution_count": null,
      "id": "bbc77abf",
      "metadata": {
        "id": "bbc77abf"
      },
      "outputs": [],
      "source": [
        "def mse(preds, y):\n",
        "    \"\"\"\n",
        "    Возвращает среднеквадратичную ошибку модели.\n",
        "\n",
        "    Параметры.\n",
        "    1) preds — предсказания модели,\n",
        "    2) y — истинные значения таргета.\n",
        "    \"\"\"\n",
        "\n",
        "    return F.mse_loss(preds, y, reduction=\"mean\")"
      ]
    },
    {
      "cell_type": "markdown",
      "id": "0f5c892f",
      "metadata": {
        "id": "0f5c892f"
      },
      "source": [
        "Допишите функции для обучения и валидации. Они почти не будут отличаться от тех, что были на [семинаре](https://miptstats.github.io/courses/ad_fivt/nlp_sem.html)."
      ]
    },
    {
      "cell_type": "code",
      "execution_count": null,
      "id": "45f14b1d",
      "metadata": {
        "id": "45f14b1d"
      },
      "outputs": [],
      "source": [
        "def train(model, iterator, optimizer, criterion, train_loss_history):\n",
        "    \"\"\"\n",
        "    Функция для обучения модели на обучающем датасете и подсчёта\n",
        "    её ошибки.\n",
        "\n",
        "    Параметры.\n",
        "    1) model — модель,\n",
        "    2) iterator — итератор обучающего датасета,\n",
        "    3) optimizer — класс метода оптимизации,\n",
        "    4) criterion — функция потерь.\n",
        "    \"\"\"\n",
        "\n",
        "    epoch_loss = 0\n",
        "    epoch_mse = 0\n",
        "    model.train()\n",
        "\n",
        "    # Проход по всему датасету\n",
        "    for batch_id, batch in enumerate(iterator):\n",
        "        # чтобы градиент не накапливался, его нужно обнулить\n",
        "        optimizer.zero_grad()\n",
        "        # получим предсказания модели\n",
        "        texts, labels = batch\n",
        "        texts, labels = texts.to(device), labels.to(device)\n",
        "        predictions = model(texts).squeeze(1)\n",
        "        loss = criterion(predictions, labels.float())\n",
        "        err = mse(predictions, labels)\n",
        "\n",
        "        # сделаем back-propagation для подсчёта градиентов\n",
        "        loss.backward()\n",
        "        # выполним шаг оптимизатора\n",
        "        optimizer.step()\n",
        "        # обновим метрики\n",
        "        epoch_loss += loss.item()\n",
        "        epoch_mse += err.item()\n",
        "        train_loss_history.append(loss.item())\n",
        "\n",
        "    return epoch_loss / len(iterator), epoch_mse / len(iterator)\n",
        "\n",
        "\n",
        "def evaluate(model, iterator, criterion, val_loss_history=None):\n",
        "    \"\"\"\n",
        "    Функция для применения модели на валидационном/тестовом датасете и подсчёта\n",
        "    её точности.\n",
        "\n",
        "    Параметры.\n",
        "    1) model — модель,\n",
        "    2) iterator — итератор датасета,\n",
        "    3) criterion — функция потерь.\n",
        "    \"\"\"\n",
        "\n",
        "    epoch_loss = 0\n",
        "    epoch_mse = 0\n",
        "\n",
        "    model.eval()\n",
        "\n",
        "    with torch.no_grad(): # отключим подсчёт градиентов на валидации\n",
        "        # Проход по всему датасету\n",
        "        for batch_id, batch in enumerate(iterator):\n",
        "            # Обучение на 1 батче, подсчет метрики\n",
        "            texts, labels = batch\n",
        "            texts, labels = texts.to(device), labels.to(device)\n",
        "            # получим предсказания\n",
        "            predictions = model(texts).squeeze(1)\n",
        "            # посчитаем метрики\n",
        "            loss = criterion(predictions, labels.float())\n",
        "            m = mse(predictions, labels.squeeze(1))\n",
        "            # обновим метрики\n",
        "            epoch_loss += loss.item()\n",
        "            epoch_mse += m.item()\n",
        "            if val_loss_history is not None:\n",
        "                val_loss_history.append(loss.item())\n",
        "\n",
        "    return epoch_loss / len(iterator), epoch_mse / len(iterator)\n",
        "\n",
        "\n",
        "def epoch_time(start_time, end_time):\n",
        "    \"\"\"\n",
        "    Функция для подсчёта времени работы одной эпохи.\n",
        "\n",
        "    Параметры.\n",
        "    1) start_time — время начала запуска,\n",
        "    2) end_time — время завершения работы эпохи.\n",
        "    \"\"\"\n",
        "\n",
        "    elapsed_time = end_time - start_time\n",
        "    elapsed_mins = int(elapsed_time / 60)\n",
        "    elapsed_secs = int(elapsed_time - (elapsed_mins * 60))\n",
        "    return elapsed_mins, elapsed_secs"
      ]
    },
    {
      "cell_type": "markdown",
      "id": "c46419e8",
      "metadata": {
        "id": "c46419e8"
      },
      "source": [
        "Теперь определим итоговую функцию для всего цикла обучения:"
      ]
    },
    {
      "cell_type": "code",
      "execution_count": null,
      "id": "e4fa0a52",
      "metadata": {
        "id": "e4fa0a52"
      },
      "outputs": [],
      "source": [
        "def visualize_epoch(epoch, start_time, loss_history, mse_history):\n",
        "    \"\"\"\n",
        "    Функция для визуализации 1 эпохи.\n",
        "\n",
        "    Параметры.\n",
        "    1) epoch — номер эпохи,\n",
        "    2) start_time — время начала эпохи,\n",
        "    3) loss_history - tuple истории лосса на train и test,\n",
        "    4) mse_history - tuple истории MSE на train и test.\n",
        "    \"\"\"\n",
        "    # Посчитаем время работы одной эпохи\n",
        "    end_time = time.time()\n",
        "    epoch_mins, epoch_secs = epoch_time(start_time, end_time)\n",
        "\n",
        "    # Отобразим графики лоссов\n",
        "    clear_output(True)\n",
        "    plt.figure(figsize=(18, 6))\n",
        "\n",
        "    train_loss_history, val_loss_history = loss_history\n",
        "    plt.subplot(1, 3, 1)\n",
        "    plt.plot(train_loss_history)\n",
        "    plt.title(\"Train Loss\")\n",
        "    plt.xlabel(\"Номер батча\")\n",
        "    plt.subplot(1, 3, 2)\n",
        "    plt.plot(val_loss_history, color=\"tab:orange\")\n",
        "    plt.title(\"Valid Loss\")\n",
        "    plt.xlabel(\"Номер батча\")\n",
        "\n",
        "    # Отрисуем значение MSE от эпохи\n",
        "    train_mse_history, val_mse_history = mse_history\n",
        "    plt.subplot(1, 3, 3)\n",
        "    plt.plot(train_mse_history, label=\"Train\")\n",
        "    plt.plot(val_mse_history, label=\"Valid\")\n",
        "    plt.legend()\n",
        "    plt.title(\"MSE\")\n",
        "    plt.xlabel(\"Номер эпохи\")\n",
        "    plt.show()\n",
        "\n",
        "    print(\n",
        "        f\"Номер эпохи: {epoch+1:02} | Время обучения эпохи: {epoch_mins}m {epoch_secs}s\"\n",
        "    )\n",
        "\n",
        "\n",
        "def training_loop(model_instance, n_epochs=10):\n",
        "    \"\"\"\n",
        "    Функция для обучения нейронной сети.\n",
        "\n",
        "    Параметры.\n",
        "    1) model_instance — обучаемая модель,\n",
        "    2) n_epochs — количество эпох.\n",
        "    \"\"\"\n",
        "\n",
        "    best_valid_loss = float(\"inf\")\n",
        "    train_loss_history = []\n",
        "    val_loss_history = []\n",
        "    train_mse_history = []\n",
        "    val_mse_history = []\n",
        "\n",
        "    for epoch in range(n_epochs):\n",
        "        start_time = time.time()\n",
        "        # Обучим одну эпоху на обучающем датасете\n",
        "        train_loss, train_mse = train(\n",
        "            model_instance,\n",
        "            train_loader,\n",
        "            optimizer,\n",
        "            criterion,\n",
        "            train_loss_history,\n",
        "        )\n",
        "        train_mse_history.append(train_mse)\n",
        "\n",
        "        # Оценим ошибку модели на тестовом датасете\n",
        "        valid_loss, valid_mse = evaluate(\n",
        "            model_instance, valid_loader, criterion, val_loss_history\n",
        "        )\n",
        "        val_mse_history.append(valid_mse)\n",
        "\n",
        "        # Если значение функции потерь улучшилось, сохраним параметры модели\n",
        "        if valid_loss < best_valid_loss:\n",
        "            best_valid_loss = valid_loss\n",
        "            torch.save(model_instance.state_dict(), \"model_checkpoint.pt\")\n",
        "\n",
        "        # Визуализируем результаты эпохи\n",
        "        visualize_epoch(\n",
        "            epoch,\n",
        "            start_time,\n",
        "            (train_loss_history, val_loss_history),\n",
        "            (train_mse_history, val_mse_history),\n",
        "        )"
      ]
    },
    {
      "cell_type": "code",
      "execution_count": null,
      "id": "089f4846",
      "metadata": {
        "id": "089f4846"
      },
      "outputs": [],
      "source": [
        "def TestModel(model):\n",
        "  for_test = valid_data[0];\n",
        "  model_res = model(torch.tensor(for_test[0]).unsqueeze(0).to(device)).cpu().detach().numpy();\n",
        "\n",
        "  print(f\"Ground-truth: {scaler.inverse_transform(for_test[1].reshape(1, -1))}, model: {scaler.inverse_transform(model_res)}\");"
      ]
    },
    {
      "cell_type": "code",
      "source": [
        "# Задайте параметры сети\n",
        "model = SimpleRNNRegressor(len(vocab), 512, 1, 1).to(device)\n",
        "\n",
        "# У нас задача регрессии, будем использовать MSELoss\n",
        "criterion = nn.MSELoss()\n",
        "optimizer = torch.optim.Adam(model.parameters(), lr=0.05)\n",
        "loss_history = []\n",
        "\n",
        "\n",
        "# Посмотрите на получившуюся модель\n",
        "model\n",
        "\n",
        "training_loop(model, n_epochs=5)\n",
        "TestModel(model);"
      ],
      "metadata": {
        "colab": {
          "base_uri": "https://localhost:8080/",
          "height": 391
        },
        "id": "8hzIkJ8Jl95Z",
        "outputId": "63a638ed-73b9-4eb7-d1f3-93a3185becd4"
      },
      "id": "8hzIkJ8Jl95Z",
      "execution_count": null,
      "outputs": [
        {
          "output_type": "display_data",
          "data": {
            "text/plain": [
              "<Figure size 1800x600 with 3 Axes>"
            ],
            "image/png": "[encoded data removed]"
          },
          "metadata": {}
        },
        {
          "output_type": "stream",
          "name": "stdout",
          "text": [
            "Номер эпохи: 05 | Время обучения эпохи: 0m 22s\n",
            "Ground-truth: [[40000.]], model: [[33150.027]]\n"
          ]
        }
      ]
    },
    {
      "cell_type": "code",
      "source": [
        "# Задайте параметры сети\n",
        "model = SimpleRNNRegressor(len(vocab), 256, 1, 1).to(device)\n",
        "\n",
        "# У нас задача регрессии, будем использовать MSELoss\n",
        "criterion = nn.MSELoss()\n",
        "optimizer = torch.optim.Adam(model.parameters(), lr=0.001)\n",
        "loss_history = []\n",
        "\n",
        "\n",
        "# Посмотрите на получившуюся модель\n",
        "model\n",
        "\n",
        "training_loop(model, n_epochs=5)\n",
        "TestModel(model);"
      ],
      "metadata": {
        "colab": {
          "base_uri": "https://localhost:8080/",
          "height": 396
        },
        "id": "F0DZy00moo7r",
        "outputId": "699e1785-d60f-458b-85f4-47747beebb5f"
      },
      "id": "F0DZy00moo7r",
      "execution_count": null,
      "outputs": [
        {
          "output_type": "display_data",
          "data": {
            "text/plain": [
              "<Figure size 1800x600 with 3 Axes>"
            ],
            "image/png": "[encoded data removed]"
          },
          "metadata": {}
        },
        {
          "output_type": "stream",
          "name": "stdout",
          "text": [
            "Номер эпохи: 05 | Время обучения эпохи: 0m 18s\n",
            "Ground-truth: [[40000.]], model: [[34285.402]]\n"
          ]
        }
      ]
    },
    {
      "cell_type": "code",
      "source": [
        "# Задайте параметры сети\n",
        "model = SimpleRNNRegressor(len(vocab), 64, 1, 1).to(device)\n",
        "\n",
        "# У нас задача регрессии, будем использовать MSELoss\n",
        "criterion = nn.MSELoss()\n",
        "optimizer = torch.optim.Adam(model.parameters(), lr=0.03)\n",
        "loss_history = []\n",
        "\n",
        "\n",
        "# Посмотрите на получившуюся модель\n",
        "model_res = model(torch.tensor(for_test[0]).unsqueeze(0).to(device)).cpu().detach().numpy();\n",
        "\n",
        "training_loop(model, n_epochs=5)\n",
        "TestModel(model);"
      ],
      "metadata": {
        "colab": {
          "base_uri": "https://localhost:8080/",
          "height": 393
        },
        "id": "SuVWBc3fqbFQ",
        "outputId": "ee1454cf-8b1f-4b65-c26e-dfe514f6534b"
      },
      "id": "SuVWBc3fqbFQ",
      "execution_count": null,
      "outputs": [
        {
          "output_type": "display_data",
          "data": {
            "text/plain": [
              "<Figure size 1800x600 with 3 Axes>"
            ],
            "image/png": "[encoded data removed]"
          },
          "metadata": {}
        },
        {
          "output_type": "stream",
          "name": "stdout",
          "text": [
            "Номер эпохи: 05 | Время обучения эпохи: 0m 13s\n",
            "Ground-truth: [[40000.]], model: [[33556.59]]\n"
          ]
        }
      ]
    },
    {
      "cell_type": "markdown",
      "id": "38572121",
      "metadata": {
        "id": "38572121"
      },
      "source": [
        "Обучите несколько моделей с различными гиперпараметрами (например, шаг обучения, размер словаря, архитектура) и сравните их качество на тестовой выборке.\n",
        "\n",
        "*Не пугайтесь, если у вас не будет получаться хорошее качество на валидации: решаемая задача довольно сложная, а RNN &mdash; достаточно простая архитектура. Но постарайтесь, чтобы модель хотя бы не вырождалась в константу. Для этого следите за переобучением!*\n",
        "\n",
        "*На 3 курсе вы сможете познакомиться с моделями, которые решают такую задачу гораздо лучше.*"
      ]
    },
    {
      "cell_type": "markdown",
      "source": [],
      "metadata": {
        "id": "uDnmGWQekPpF"
      },
      "id": "uDnmGWQekPpF"
    },
    {
      "cell_type": "markdown",
      "id": "fea35795",
      "metadata": {
        "id": "fea35795"
      },
      "source": [
        "Выведите несколько примеров работы на тестовой выборке: текст вакансии, предсказание вашей модели и истинное значение зарплаты. Чтобы вернуть все значения к изначальным масштабам, используйте `scaler.inverse_transform(...)`. Также посчитайте MSE на всей тестовой выборке."
      ]
    },
    {
      "cell_type": "code",
      "execution_count": null,
      "id": "12629e3a",
      "metadata": {
        "id": "12629e3a",
        "colab": {
          "base_uri": "https://localhost:8080/"
        },
        "outputId": "ca3d18ec-fe55-4867-d0d7-c286595b73ef"
      },
      "outputs": [
        {
          "output_type": "stream",
          "name": "stderr",
          "text": [
            "/usr/local/lib/python3.10/dist-packages/torch/nn/modules/loss.py:535: UserWarning: Using a target size (torch.Size([128, 1])) that is different to the input size (torch.Size([128])). This will likely lead to incorrect results due to broadcasting. Please ensure they have the same size.\n",
            "  return F.mse_loss(input, target, reduction=self.reduction)\n"
          ]
        },
        {
          "output_type": "stream",
          "name": "stdout",
          "text": [
            "MSE on valid: 0.008269240957020266\n"
          ]
        },
        {
          "output_type": "stream",
          "name": "stderr",
          "text": [
            "/usr/local/lib/python3.10/dist-packages/torch/nn/modules/loss.py:535: UserWarning: Using a target size (torch.Size([80, 1])) that is different to the input size (torch.Size([80])). This will likely lead to incorrect results due to broadcasting. Please ensure they have the same size.\n",
            "  return F.mse_loss(input, target, reduction=self.reduction)\n"
          ]
        }
      ],
      "source": [
        "valid_loss, valid_mse = evaluate(\n",
        "            model, valid_loader, criterion, []\n",
        "        )\n",
        "\n",
        "print(f\"MSE on valid: {valid_mse}\")"
      ]
    },
    {
      "cell_type": "markdown",
      "id": "92a23329",
      "metadata": {
        "id": "92a23329"
      },
      "source": [
        "**Вывод:**: LSTM исправляет минусы RNN такие как exploding/vanishing gradient problem. На нашем датасете LSTM неплохо справился со своей задачей, его предсказания близки к реальным. Также можно заметить, что LSTM очень быстро обучается из-за своей структуры.\n"
      ]
    },
    {
      "cell_type": "markdown",
      "id": "3dc296de",
      "metadata": {
        "id": "3dc296de"
      },
      "source": [
        "---\n",
        "### Задача 2. Использование большой языковой модели\n"
      ]
    },
    {
      "cell_type": "markdown",
      "id": "8099f7ad",
      "metadata": {
        "id": "8099f7ad"
      },
      "source": [
        "Ваша задача &mdash; применить <a target=\"_blank\" href=\"https://llama-2.ai/\">Llama 2</a> к предыдущей задаче и заставить ее предсказать заработную плату по текстовому описанию. Существует мало русскоязычных моделей, способных решить такую задачу и помещающихся в <a target=\"_blank\" href=\"https://colab.research.google.com/\">Colab</a>, поэтому вам придется писать запросы на английском!"
      ]
    },
    {
      "cell_type": "code",
      "execution_count": 4,
      "id": "1a7d4592",
      "metadata": {
        "id": "1a7d4592"
      },
      "outputs": [],
      "source": [
        "!pip install bitsandbytes==0.41.1 transformers==4.34.1 accelerate==0.24.0 sentencepiece==0.1.99 optimum==1.13.2 auto-gptq==0.4.2  > null\n",
        "import transformers\n",
        "import bitsandbytes as bnb\n",
        "\n",
        "assert torch.cuda.is_available(), \"для этой части понадобится GPU\""
      ]
    },
    {
      "cell_type": "markdown",
      "id": "e154b2c4",
      "metadata": {
        "id": "e154b2c4"
      },
      "source": [
        "Дисклеймер: *использовать LLM в рамках ограничений Colab хоть и возможно, но очень трудно.*\n",
        "\n",
        "> Так как процесс генерации очень хрупкий и может сломаться при любом неверном движении, мы настоятельно рекомендуем **сохранить результаты предыдущего задания в отдельном файле** и приступать к этой задаче в самом конце. Решения задач можно сдавать в бот разными файлами.\n",
        "\n",
        "> Если у вас возникла ошибка `Out of memory`, перезапустите ноутбук и попробуйте снова. Да, языковые модели без своей GPU &mdash; это тяжело..."
      ]
    },
    {
      "cell_type": "markdown",
      "id": "f50fa96c",
      "metadata": {
        "id": "f50fa96c"
      },
      "source": [
        "\n",
        "\n",
        "\n",
        "\n",
        "От вас требуется подобрать такой промпт, который приводил бы к нужному выводу модели. Можете экспериментировать с параметрами генерации, список которых можно посмотреть в <a target=\"_blank\" href=\"https://github.com/huggingface/transformers/blob/c4d4e8bdbd25d9463d41de6398940329c89b7fb6/src/transformers/generation_utils.py#L101\">исходнике</a>.\n",
        "\n",
        "Существуют различные техники, которые могут помочь вам \"разговорить\" языковую модель. О многих из них вы сможете прочитать <a target=\"_blank\" href=\"https://docs.mistral.ai/guides/prompting-capabilities/\">здесь</a>. В нашем случае полезным может быть метод Few-Shot Learning, который заключается в предоставлении модели нескольких примеров."
      ]
    },
    {
      "cell_type": "code",
      "execution_count": 5,
      "id": "3d0ba8e1",
      "metadata": {
        "id": "3d0ba8e1",
        "colab": {
          "base_uri": "https://localhost:8080/",
          "height": 365,
          "referenced_widgets": [
            "49df640611134afba4311447951e66d5",
            "05c1da98f0bd4a52b05715ea21c7f8ee",
            "19db55aadf294164bc055b65ca9f3f73",
            "4a950b3d59f1447eb05bf801b4fcc9ba",
            "ec24343a2ebf4f08bb9ffd855984300f",
            "e91aa435fac747f3bc9430f756f90893",
            "1e9fd58badce47fdaedd489d82e9e0a0",
            "ad2a99e5ab8b4fc4b2f339b04638e147",
            "ae3dcd0c01824bef88e642c338a90b55",
            "feccdc1d46784d9d8e3ed094353e5b58",
            "2503b9aac3cd4052a6fcd50265ee6acd",
            "742d7544b6564f9ba4b04f726e880ed2",
            "5a4bbf53642a4e7484936b48afea358d",
            "debe9b8199c545849d36b30e105f850d",
            "ac9f3c07cfda40b6b9a24783fbf179ba",
            "118873448dc542f4ad29b52c7687ce8e",
            "cbe8873431b840be955e37b922c7d246",
            "1d516a724f36454ba52318d0c63a3e4a",
            "a8494ba0e00e43a6ad7dffb7905399f2",
            "5fbe861d2a6f447eb7286e25d984e8a9",
            "ea2e0360f79e4995b55b96e330bc72d1",
            "c37543e0d89342ab999b2194a4e14424",
            "4a184ec3e61e49718627466769216256",
            "ada3092f57e642f89a87d13005c55686",
            "13f52e8a1e76474c8e8a3495364db5b6",
            "9c8ceb9c12da4a70a5ced951061fc158",
            "1e505a0741e04bbcbd6fd23f1cddfcfc",
            "2657d8349f62423f9ad3ebb3fc6b46f9",
            "42c63b06f3f9472d83aee2cc5fb17906",
            "97a612435ce74a6c8db35d381890b241",
            "1a14dce16d294e9a900330c5f84e24cf",
            "37295629c0f4446b9b1e9631a34e46e5",
            "f98bcc542da64d6e8a89009d4f20cafa",
            "6958785c0b0f4708a8c5dc0a92e5acc4",
            "8c901a0c02c54cd3a23835bbb1f3af27",
            "edb9e891aa5245ee944150da24e2e48e",
            "417bca2367944ffda1e7fc6c275f55b7",
            "f29059429f814d4a96fa56276aa9ffd8",
            "d36c3d2d87024362ba211c9817c941e9",
            "f5263648877f420a961b199f13cc4d41",
            "d0b072c82d4140809a065aae6e91b369",
            "621a92344f664b9285b1b8794af41f64",
            "6d10f59d5ec14500982e56c3bf8c8dc0",
            "e242b9be12284e79acd97919d3d8bd16",
            "5a065aa43631477d9ba139791daaaac2",
            "2618bbfa5c884060a8839be564555e3f",
            "ae7ddff8a2b54c29a898e02b2e3efb60",
            "3c7539f4f6c44079a387175244a1529b",
            "baf87a2f1236486c8a5fb2b32bdeda85",
            "7a9146810e8e4b1f852f07864f67d27c",
            "9dab2cfba61343b394fa727a1672e72d",
            "380ac5637bde41988709efe61eaef639",
            "c7c952c298714478a172ef9ae4f11672",
            "fef82315f728461dbc150165edd20566",
            "5b3342d37cd5470288eb3b604b35a344",
            "123365a6820848b8b3c2d2739f991058",
            "d733db459a28405887412cf4f47d77fe",
            "426bae086d10429ebf14fde8c9c77ef0",
            "11604a8a586c48f4b499750305577b66",
            "c2e49cdce43541889a15d2ccbff61ce9",
            "fffdccd7578f41dba8522bb6c7ebaad5",
            "72d1a9134319444fa4a9a5cd388fe8ad",
            "b5312a1664094959b5c11c715e4d7b3d",
            "3c59651be16a4f90831b3b61eadee6b3",
            "31f8845f97a542dfb2fa133fc416e12e",
            "057764bd2d9b4dab841af35832ba123d",
            "6dd6ee715c1d42ed9bbfc767bb7f0894",
            "295546c1788f4a63b53f4e42d9c0cf28",
            "68f4207bf83240dda634da4825e84620",
            "78b57f3167524a0894e13511d5294c16",
            "92896875770e4d6ca1b55753c60222cb",
            "80652895d56340d1b2449ad968fa7ec4",
            "e6d3f9ac2c1244e5a438720d50c0004a",
            "3558244d4b28405db61ce77b0dc5bb22",
            "7ea654c1689f4452be0b7924ac6c7396",
            "a16bdfa2c2dc4bcea159149c2b85541d",
            "d311749bd86e4bdd9a361ad64631ea8f"
          ]
        },
        "outputId": "f55b8199-10e9-4411-d23a-b33eba115196"
      },
      "outputs": [
        {
          "output_type": "display_data",
          "data": {
            "text/plain": [
              "Downloading tokenizer_config.json:   0%|          | 0.00/727 [00:00<?, ?B/s]"
            ],
            "application/vnd.jupyter.widget-view+json": {
              "version_major": 2,
              "version_minor": 0,
              "model_id": "49df640611134afba4311447951e66d5"
            }
          },
          "metadata": {}
        },
        {
          "output_type": "display_data",
          "data": {
            "text/plain": [
              "Downloading tokenizer.model:   0%|          | 0.00/500k [00:00<?, ?B/s]"
            ],
            "application/vnd.jupyter.widget-view+json": {
              "version_major": 2,
              "version_minor": 0,
              "model_id": "742d7544b6564f9ba4b04f726e880ed2"
            }
          },
          "metadata": {}
        },
        {
          "output_type": "display_data",
          "data": {
            "text/plain": [
              "Downloading (…)cial_tokens_map.json:   0%|          | 0.00/411 [00:00<?, ?B/s]"
            ],
            "application/vnd.jupyter.widget-view+json": {
              "version_major": 2,
              "version_minor": 0,
              "model_id": "4a184ec3e61e49718627466769216256"
            }
          },
          "metadata": {}
        },
        {
          "output_type": "display_data",
          "data": {
            "text/plain": [
              "Downloading tokenizer.json:   0%|          | 0.00/1.84M [00:00<?, ?B/s]"
            ],
            "application/vnd.jupyter.widget-view+json": {
              "version_major": 2,
              "version_minor": 0,
              "model_id": "6958785c0b0f4708a8c5dc0a92e5acc4"
            }
          },
          "metadata": {}
        },
        {
          "output_type": "stream",
          "name": "stderr",
          "text": [
            "You are using the default legacy behaviour of the <class 'transformers.models.llama.tokenization_llama.LlamaTokenizer'>. This is expected, and simply means that the `legacy` (previous) behavior will be used so nothing changes for you. If you want to use the new behaviour, set `legacy=False`. This should only be set if you understand what it means, and thouroughly read the reason why this was added as explained in https://github.com/huggingface/transformers/pull/24565\n"
          ]
        },
        {
          "output_type": "display_data",
          "data": {
            "text/plain": [
              "Downloading config.json:   0%|          | 0.00/913 [00:00<?, ?B/s]"
            ],
            "application/vnd.jupyter.widget-view+json": {
              "version_major": 2,
              "version_minor": 0,
              "model_id": "5a065aa43631477d9ba139791daaaac2"
            }
          },
          "metadata": {}
        },
        {
          "output_type": "stream",
          "name": "stderr",
          "text": [
            "/usr/local/lib/python3.10/dist-packages/transformers/utils/generic.py:311: UserWarning: torch.utils._pytree._register_pytree_node is deprecated. Please use torch.utils._pytree.register_pytree_node instead.\n",
            "  torch.utils._pytree._register_pytree_node(\n",
            "/usr/local/lib/python3.10/dist-packages/transformers/utils/generic.py:311: UserWarning: torch.utils._pytree._register_pytree_node is deprecated. Please use torch.utils._pytree.register_pytree_node instead.\n",
            "  torch.utils._pytree._register_pytree_node(\n"
          ]
        },
        {
          "output_type": "display_data",
          "data": {
            "text/plain": [
              "Downloading model.safetensors:   0%|          | 0.00/7.26G [00:00<?, ?B/s]"
            ],
            "application/vnd.jupyter.widget-view+json": {
              "version_major": 2,
              "version_minor": 0,
              "model_id": "123365a6820848b8b3c2d2739f991058"
            }
          },
          "metadata": {}
        },
        {
          "output_type": "stream",
          "name": "stderr",
          "text": [
            "WARNING:auto_gptq.nn_modules.qlinear.qlinear_cuda_old:CUDA extension not installed.\n"
          ]
        },
        {
          "output_type": "display_data",
          "data": {
            "text/plain": [
              "Downloading generation_config.json:   0%|          | 0.00/132 [00:00<?, ?B/s]"
            ],
            "application/vnd.jupyter.widget-view+json": {
              "version_major": 2,
              "version_minor": 0,
              "model_id": "6dd6ee715c1d42ed9bbfc767bb7f0894"
            }
          },
          "metadata": {}
        }
      ],
      "source": [
        "model_name = \"TheBloke/Llama-2-13B-GPTQ\"\n",
        "\n",
        "# Загружаем Llama токенизатор\n",
        "tokenizer = transformers.LlamaTokenizer.from_pretrained(\n",
        "    model_name, device_map=device\n",
        ")\n",
        "tokenizer.pad_token_id = tokenizer.eos_token_id\n",
        "\n",
        "# И саму модель Llama\n",
        "model = transformers.AutoModelForCausalLM.from_pretrained(\n",
        "    model_name,\n",
        "    device_map=\"auto\",\n",
        "    torch_dtype=torch.float16,\n",
        "    low_cpu_mem_usage=True,\n",
        "    offload_state_dict=True,\n",
        ")"
      ]
    },
    {
      "cell_type": "code",
      "execution_count": 13,
      "id": "168d479a",
      "metadata": {
        "id": "168d479a",
        "colab": {
          "base_uri": "https://localhost:8080/"
        },
        "outputId": "be91b542-de8d-4206-9022-b381ffee3d73"
      },
      "outputs": [
        {
          "output_type": "stream",
          "name": "stdout",
          "text": [
            "\n",
            "Output: <s> \n",
            "Few-Shot Learning prompt:\n",
            "\n",
            "Few-shot learning task: Predicting salaries based on job descriptions.\n",
            "\n",
            "Job description examples:\n",
            "1. Financial Analyst: Analyze financial data, prepare reports; Bachelor's degree in finance, accounting, or related field, 3+ years of experience required. Proficiency in financial modeling tools, strong analytical skills; Certification such as CFA or CPA preferred, familiarity with industry regulations advantageous.\n",
            "\n",
            "2. Software Engineer: Develop software applications, debug code; Bachelor's degree in computer science, software engineering, or related field required. Proficiency in programming languages like Java, Python, or C++; Experience with software development methodologies like Agile or Scrum preferred, familiarity with version control systems advantageous.\n",
            "\n",
            "3. English Teacher: Teach English language skills, create lesson plans; Bachelor's degree in English, education, or related field, teaching certification required. Proficiency in English grammar and literature, effective communication skills; Experience teaching ESL or in a multicultural environment preferred, familiarity with educational technology tools advantageous.\n",
            "\n",
            "Instructions:\n",
            "- Given the job descriptions provided above, predict the expected salary range for each job.\n",
            "- Use the Few-Shot Learning method to generalize from the provided examples and predict salaries for similar job descriptions.\n",
            "\n",
            "Expected output format:\n",
            "Do not repeat my promt text in output. For each job description: Financial Analyst, Software Engineer, English Teacher, provide the predicted salary range.\n",
            "\n",
            "My answer:\n",
            "Financial Analyst: 60-80k\n",
            "Software Engineer: 100k+\n",
            "English teacher: 30-40k\n",
            "</s>\n",
            "Input batch (encoded): {'input_ids': tensor([[    1, 29871,    13, 29943,   809, 29899,  2713,   327, 29257,  9508,\n",
            "         29901,    13,    13, 29943,   809, 29899,  8962,  6509,  3414, 29901,\n",
            "         21099,   919,   292,  4497,  4314,  2729,   373,  4982,  2342,  1980,\n",
            "         29889,    13,    13, 11947,  6139,  6455, 29901,    13, 29896, 29889,\n",
            "          4231,   273,  1455, 11597,   858, 29901, 11597, 29891,   911, 18161,\n",
            "           848, 29892, 19012, 13676, 29936, 13620, 12779, 29915, 29879,  7426,\n",
            "           297,  1436,   749, 29892,  3633,   292, 29892,   470,  4475,  1746,\n",
            "         29892, 29871, 29941, 29974,  2440,   310,  7271,  3734, 29889,  6175,\n",
            "           293, 13396,   297, 18161,  1904,   292,  8492, 29892,  4549, 16114,\n",
            "           936, 25078, 29936, 18410,  2450,  1316,   408,   315,  4519,   470,\n",
            "           315,  7228, 16389, 29892,  9985,   537,   411, 13661,  1072,  8250,\n",
            "         10631,   681, 29889,    13,    13, 29906, 29889, 18540, 10863,   261,\n",
            "         29901, 10682,  7047,  8324, 29892,  4744,   775, 29936, 13620, 12779,\n",
            "         29915, 29879,  7426,   297,  6601, 10466, 29892,  7047, 21639, 29892,\n",
            "           470,  4475,  1746,  3734, 29889,  6175,   293, 13396,   297,  8720,\n",
            "         10276,   763,  3355, 29892,  5132, 29892,   470,   315,  9107, 28224,\n",
            "          5597,   411,  7047,  5849,  1158, 11763,   763,  4059,   488,   470,\n",
            "          2522,  5848, 16389, 29892,  9985,   537,   411,  1873,  2761,  6757,\n",
            "         10631,   681, 29889,    13,    13, 29941, 29889,  4223,  1920, 11665,\n",
            "         29901,  1920,   496,  4223,  4086, 25078, 29892,  1653,  3109,   265,\n",
            "         13900, 29936, 13620, 12779, 29915, 29879,  7426,   297,  4223, 29892,\n",
            "          9793, 29892,   470,  4475,  1746, 29892, 18819,  2284,  2450,  3734,\n",
            "         29889,  6175,   293, 13396,   297,  4223, 25437,   322, 12845, 29892,\n",
            "         11828, 12084, 25078, 29936, 28224,  5597, 18819,   382, 12750,   470,\n",
            "           297,   263,  1773,  3953,  3631,  5177, 16389, 29892,  9985,   537,\n",
            "           411, 28976, 15483,  8492, 10631,   681, 29889,    13,    13,  3379,\n",
            "           582,  1953, 29901,    13, 29899, 11221,   278,  4982,  2342,  1980,\n",
            "          4944,  2038, 29892,  8500,   278,  3806,  4497,   653,  3464,   363,\n",
            "          1269,  4982, 29889,    13, 29899,  4803,   278,   383,   809, 29899,\n",
            "          2713,   327, 29257,  1158,   304,  2498,   675,   515,   278,  4944,\n",
            "          6455,   322,  8500,  4497,  4314,   363,  2788,  4982,  2342,  1980,\n",
            "         29889,    13,    13,  1252,  6021,  1962,  3402, 29901,    13,  6132,\n",
            "           451, 12312,   590,  2504, 29873,  1426,   297,  1962, 29889,  1152,\n",
            "          1269,  4982,  6139, 29901,  4231,   273,  1455, 11597,   858, 29892,\n",
            "         18540, 10863,   261, 29892,  4223,  1920, 11665, 29892,  3867,   278,\n",
            "         25383,  4497,   653,  3464, 29889,    13]], device='cuda:0'), 'attention_mask': tensor([[1, 1, 1, 1, 1, 1, 1, 1, 1, 1, 1, 1, 1, 1, 1, 1, 1, 1, 1, 1, 1, 1, 1, 1,\n",
            "         1, 1, 1, 1, 1, 1, 1, 1, 1, 1, 1, 1, 1, 1, 1, 1, 1, 1, 1, 1, 1, 1, 1, 1,\n",
            "         1, 1, 1, 1, 1, 1, 1, 1, 1, 1, 1, 1, 1, 1, 1, 1, 1, 1, 1, 1, 1, 1, 1, 1,\n",
            "         1, 1, 1, 1, 1, 1, 1, 1, 1, 1, 1, 1, 1, 1, 1, 1, 1, 1, 1, 1, 1, 1, 1, 1,\n",
            "         1, 1, 1, 1, 1, 1, 1, 1, 1, 1, 1, 1, 1, 1, 1, 1, 1, 1, 1, 1, 1, 1, 1, 1,\n",
            "         1, 1, 1, 1, 1, 1, 1, 1, 1, 1, 1, 1, 1, 1, 1, 1, 1, 1, 1, 1, 1, 1, 1, 1,\n",
            "         1, 1, 1, 1, 1, 1, 1, 1, 1, 1, 1, 1, 1, 1, 1, 1, 1, 1, 1, 1, 1, 1, 1, 1,\n",
            "         1, 1, 1, 1, 1, 1, 1, 1, 1, 1, 1, 1, 1, 1, 1, 1, 1, 1, 1, 1, 1, 1, 1, 1,\n",
            "         1, 1, 1, 1, 1, 1, 1, 1, 1, 1, 1, 1, 1, 1, 1, 1, 1, 1, 1, 1, 1, 1, 1, 1,\n",
            "         1, 1, 1, 1, 1, 1, 1, 1, 1, 1, 1, 1, 1, 1, 1, 1, 1, 1, 1, 1, 1, 1, 1, 1,\n",
            "         1, 1, 1, 1, 1, 1, 1, 1, 1, 1, 1, 1, 1, 1, 1, 1, 1, 1, 1, 1, 1, 1, 1, 1,\n",
            "         1, 1, 1, 1, 1, 1, 1, 1, 1, 1, 1, 1, 1, 1, 1, 1, 1, 1, 1, 1, 1, 1, 1, 1,\n",
            "         1, 1, 1, 1, 1, 1, 1, 1, 1, 1, 1, 1, 1, 1, 1, 1, 1, 1, 1, 1, 1, 1, 1, 1,\n",
            "         1, 1, 1, 1, 1, 1, 1, 1, 1, 1, 1, 1, 1, 1, 1, 1, 1, 1, 1, 1, 1, 1, 1, 1,\n",
            "         1, 1, 1, 1, 1, 1, 1, 1, 1, 1, 1, 1, 1, 1, 1, 1, 1, 1, 1, 1]],\n",
            "       device='cuda:0')}\n"
          ]
        }
      ],
      "source": [
        "\n",
        "prompt = \"\"\"\n",
        "Few-Shot Learning prompt:\n",
        "\n",
        "Few-shot learning task: Predicting salaries based on job descriptions.\n",
        "\n",
        "Job description examples:\n",
        "1. Financial Analyst: Analyze financial data, prepare reports; Bachelor's degree in finance, accounting, or related field, 3+ years of experience required. Proficiency in financial modeling tools, strong analytical skills; Certification such as CFA or CPA preferred, familiarity with industry regulations advantageous.\n",
        "\n",
        "2. Software Engineer: Develop software applications, debug code; Bachelor's degree in computer science, software engineering, or related field required. Proficiency in programming languages like Java, Python, or C++; Experience with software development methodologies like Agile or Scrum preferred, familiarity with version control systems advantageous.\n",
        "\n",
        "3. English Teacher: Teach English language skills, create lesson plans; Bachelor's degree in English, education, or related field, teaching certification required. Proficiency in English grammar and literature, effective communication skills; Experience teaching ESL or in a multicultural environment preferred, familiarity with educational technology tools advantageous.\n",
        "\n",
        "Instructions:\n",
        "- Given the job descriptions provided above, predict the expected salary range for each job.\n",
        "- Use the Few-Shot Learning method to generalize from the provided examples and predict salaries for similar job descriptions.\n",
        "\n",
        "Expected output format:\n",
        "Do not repeat my promt text in output. For each job description: Financial Analyst, Software Engineer, English Teacher, provide the predicted salary range.\n",
        "\"\"\"\n",
        "\n",
        "batch = tokenizer(prompt, return_tensors='pt', return_token_type_ids=False).to(device)\n",
        "\n",
        "output_tokens = model.generate(**batch, max_new_tokens=64, do_sample=True, temperature=0.9)\n",
        "\n",
        "print(\"\\nOutput:\", tokenizer.decode(output_tokens[0].cpu()))\n",
        "\n",
        "print(\"Input batch (encoded):\", batch)"
      ]
    },
    {
      "cell_type": "markdown",
      "id": "44c5b71a",
      "metadata": {
        "id": "44c5b71a"
      },
      "source": [
        "Если почувствуете, что у вас не получается добиться от модели желаемого, вы можете попробовать воспользоваться любой другой языковой моделью на ваш выбор, но тогда вы получите **не больше 30 баллов**.\n",
        "\n",
        "В случае использования другой модели предоставьте скриншот ответа LLM и промпт, который вы использовали (в текстовом формате). Его можно вставить прямо в ноутбук или прислать в бот отдельным файлом."
      ]
    },
    {
      "cell_type": "code",
      "execution_count": null,
      "id": "3a570ad9",
      "metadata": {
        "id": "3a570ad9"
      },
      "outputs": [],
      "source": []
    },
    {
      "cell_type": "markdown",
      "id": "678a6737",
      "metadata": {
        "id": "678a6737"
      },
      "source": [
        "**Вывод:**"
      ]
    },
    {
      "cell_type": "markdown",
      "id": "020fee33",
      "metadata": {
        "id": "020fee33"
      },
      "source": [
        "---\n",
        "*Если хотите отточить навык написания промптов &mdash; **prompt-engineering** &mdash; можете попробовать сыграть в <a target=\"_blank\" href=\"https://gandalf.lakera.ai/\">игру</a>. В ней нужно заставить Гендальфа выдать пароль. Со временем уровни становятся все сложнее и требуют более хитрых приемов.*"
      ]
    }
  ],
  "metadata": {
    "accelerator": "GPU",
    "colab": {
      "gpuType": "T4",
      "provenance": []
    },
    "hide_input": false,
    "kernelspec": {
      "display_name": "Python 3",
      "name": "python3"
    },
    "language_info": {
      "codemirror_mode": {
        "name": "ipython",
        "version": 3
      },
      "file_extension": ".py",
      "mimetype": "text/x-python",
      "name": "python",
      "nbconvert_exporter": "python",
      "pygments_lexer": "ipython3",
      "version": "3.9.12"
    },
    "widgets": {
      "application/vnd.jupyter.widget-state+json": {
        "49df640611134afba4311447951e66d5": {
          "model_module": "@jupyter-widgets/controls",
          "model_name": "HBoxModel",
          "model_module_version": "1.5.0",
          "state": {
            "_dom_classes": [],
            "_model_module": "@jupyter-widgets/controls",
            "_model_module_version": "1.5.0",
            "_model_name": "HBoxModel",
            "_view_count": null,
            "_view_module": "@jupyter-widgets/controls",
            "_view_module_version": "1.5.0",
            "_view_name": "HBoxView",
            "box_style": "",
            "children": [
              "IPY_MODEL_05c1da98f0bd4a52b05715ea21c7f8ee",
              "IPY_MODEL_19db55aadf294164bc055b65ca9f3f73",
              "IPY_MODEL_4a950b3d59f1447eb05bf801b4fcc9ba"
            ],
            "layout": "IPY_MODEL_ec24343a2ebf4f08bb9ffd855984300f"
          }
        },
        "05c1da98f0bd4a52b05715ea21c7f8ee": {
          "model_module": "@jupyter-widgets/controls",
          "model_name": "HTMLModel",
          "model_module_version": "1.5.0",
          "state": {
            "_dom_classes": [],
            "_model_module": "@jupyter-widgets/controls",
            "_model_module_version": "1.5.0",
            "_model_name": "HTMLModel",
            "_view_count": null,
            "_view_module": "@jupyter-widgets/controls",
            "_view_module_version": "1.5.0",
            "_view_name": "HTMLView",
            "description": "",
            "description_tooltip": null,
            "layout": "IPY_MODEL_e91aa435fac747f3bc9430f756f90893",
            "placeholder": "​",
            "style": "IPY_MODEL_1e9fd58badce47fdaedd489d82e9e0a0",
            "value": "Downloading tokenizer_config.json: 100%"
          }
        },
        "19db55aadf294164bc055b65ca9f3f73": {
          "model_module": "@jupyter-widgets/controls",
          "model_name": "FloatProgressModel",
          "model_module_version": "1.5.0",
          "state": {
            "_dom_classes": [],
            "_model_module": "@jupyter-widgets/controls",
            "_model_module_version": "1.5.0",
            "_model_name": "FloatProgressModel",
            "_view_count": null,
            "_view_module": "@jupyter-widgets/controls",
            "_view_module_version": "1.5.0",
            "_view_name": "ProgressView",
            "bar_style": "success",
            "description": "",
            "description_tooltip": null,
            "layout": "IPY_MODEL_ad2a99e5ab8b4fc4b2f339b04638e147",
            "max": 727,
            "min": 0,
            "orientation": "horizontal",
            "style": "IPY_MODEL_ae3dcd0c01824bef88e642c338a90b55",
            "value": 727
          }
        },
        "4a950b3d59f1447eb05bf801b4fcc9ba": {
          "model_module": "@jupyter-widgets/controls",
          "model_name": "HTMLModel",
          "model_module_version": "1.5.0",
          "state": {
            "_dom_classes": [],
            "_model_module": "@jupyter-widgets/controls",
            "_model_module_version": "1.5.0",
            "_model_name": "HTMLModel",
            "_view_count": null,
            "_view_module": "@jupyter-widgets/controls",
            "_view_module_version": "1.5.0",
            "_view_name": "HTMLView",
            "description": "",
            "description_tooltip": null,
            "layout": "IPY_MODEL_feccdc1d46784d9d8e3ed094353e5b58",
            "placeholder": "​",
            "style": "IPY_MODEL_2503b9aac3cd4052a6fcd50265ee6acd",
            "value": " 727/727 [00:00&lt;00:00, 36.3kB/s]"
          }
        },
        "ec24343a2ebf4f08bb9ffd855984300f": {
          "model_module": "@jupyter-widgets/base",
          "model_name": "LayoutModel",
          "model_module_version": "1.2.0",
          "state": {
            "_model_module": "@jupyter-widgets/base",
            "_model_module_version": "1.2.0",
            "_model_name": "LayoutModel",
            "_view_count": null,
            "_view_module": "@jupyter-widgets/base",
            "_view_module_version": "1.2.0",
            "_view_name": "LayoutView",
            "align_content": null,
            "align_items": null,
            "align_self": null,
            "border": null,
            "bottom": null,
            "display": null,
            "flex": null,
            "flex_flow": null,
            "grid_area": null,
            "grid_auto_columns": null,
            "grid_auto_flow": null,
            "grid_auto_rows": null,
            "grid_column": null,
            "grid_gap": null,
            "grid_row": null,
            "grid_template_areas": null,
            "grid_template_columns": null,
            "grid_template_rows": null,
            "height": null,
            "justify_content": null,
            "justify_items": null,
            "left": null,
            "margin": null,
            "max_height": null,
            "max_width": null,
            "min_height": null,
            "min_width": null,
            "object_fit": null,
            "object_position": null,
            "order": null,
            "overflow": null,
            "overflow_x": null,
            "overflow_y": null,
            "padding": null,
            "right": null,
            "top": null,
            "visibility": null,
            "width": null
          }
        },
        "e91aa435fac747f3bc9430f756f90893": {
          "model_module": "@jupyter-widgets/base",
          "model_name": "LayoutModel",
          "model_module_version": "1.2.0",
          "state": {
            "_model_module": "@jupyter-widgets/base",
            "_model_module_version": "1.2.0",
            "_model_name": "LayoutModel",
            "_view_count": null,
            "_view_module": "@jupyter-widgets/base",
            "_view_module_version": "1.2.0",
            "_view_name": "LayoutView",
            "align_content": null,
            "align_items": null,
            "align_self": null,
            "border": null,
            "bottom": null,
            "display": null,
            "flex": null,
            "flex_flow": null,
            "grid_area": null,
            "grid_auto_columns": null,
            "grid_auto_flow": null,
            "grid_auto_rows": null,
            "grid_column": null,
            "grid_gap": null,
            "grid_row": null,
            "grid_template_areas": null,
            "grid_template_columns": null,
            "grid_template_rows": null,
            "height": null,
            "justify_content": null,
            "justify_items": null,
            "left": null,
            "margin": null,
            "max_height": null,
            "max_width": null,
            "min_height": null,
            "min_width": null,
            "object_fit": null,
            "object_position": null,
            "order": null,
            "overflow": null,
            "overflow_x": null,
            "overflow_y": null,
            "padding": null,
            "right": null,
            "top": null,
            "visibility": null,
            "width": null
          }
        },
        "1e9fd58badce47fdaedd489d82e9e0a0": {
          "model_module": "@jupyter-widgets/controls",
          "model_name": "DescriptionStyleModel",
          "model_module_version": "1.5.0",
          "state": {
            "_model_module": "@jupyter-widgets/controls",
            "_model_module_version": "1.5.0",
            "_model_name": "DescriptionStyleModel",
            "_view_count": null,
            "_view_module": "@jupyter-widgets/base",
            "_view_module_version": "1.2.0",
            "_view_name": "StyleView",
            "description_width": ""
          }
        },
        "ad2a99e5ab8b4fc4b2f339b04638e147": {
          "model_module": "@jupyter-widgets/base",
          "model_name": "LayoutModel",
          "model_module_version": "1.2.0",
          "state": {
            "_model_module": "@jupyter-widgets/base",
            "_model_module_version": "1.2.0",
            "_model_name": "LayoutModel",
            "_view_count": null,
            "_view_module": "@jupyter-widgets/base",
            "_view_module_version": "1.2.0",
            "_view_name": "LayoutView",
            "align_content": null,
            "align_items": null,
            "align_self": null,
            "border": null,
            "bottom": null,
            "display": null,
            "flex": null,
            "flex_flow": null,
            "grid_area": null,
            "grid_auto_columns": null,
            "grid_auto_flow": null,
            "grid_auto_rows": null,
            "grid_column": null,
            "grid_gap": null,
            "grid_row": null,
            "grid_template_areas": null,
            "grid_template_columns": null,
            "grid_template_rows": null,
            "height": null,
            "justify_content": null,
            "justify_items": null,
            "left": null,
            "margin": null,
            "max_height": null,
            "max_width": null,
            "min_height": null,
            "min_width": null,
            "object_fit": null,
            "object_position": null,
            "order": null,
            "overflow": null,
            "overflow_x": null,
            "overflow_y": null,
            "padding": null,
            "right": null,
            "top": null,
            "visibility": null,
            "width": null
          }
        },
        "ae3dcd0c01824bef88e642c338a90b55": {
          "model_module": "@jupyter-widgets/controls",
          "model_name": "ProgressStyleModel",
          "model_module_version": "1.5.0",
          "state": {
            "_model_module": "@jupyter-widgets/controls",
            "_model_module_version": "1.5.0",
            "_model_name": "ProgressStyleModel",
            "_view_count": null,
            "_view_module": "@jupyter-widgets/base",
            "_view_module_version": "1.2.0",
            "_view_name": "StyleView",
            "bar_color": null,
            "description_width": ""
          }
        },
        "feccdc1d46784d9d8e3ed094353e5b58": {
          "model_module": "@jupyter-widgets/base",
          "model_name": "LayoutModel",
          "model_module_version": "1.2.0",
          "state": {
            "_model_module": "@jupyter-widgets/base",
            "_model_module_version": "1.2.0",
            "_model_name": "LayoutModel",
            "_view_count": null,
            "_view_module": "@jupyter-widgets/base",
            "_view_module_version": "1.2.0",
            "_view_name": "LayoutView",
            "align_content": null,
            "align_items": null,
            "align_self": null,
            "border": null,
            "bottom": null,
            "display": null,
            "flex": null,
            "flex_flow": null,
            "grid_area": null,
            "grid_auto_columns": null,
            "grid_auto_flow": null,
            "grid_auto_rows": null,
            "grid_column": null,
            "grid_gap": null,
            "grid_row": null,
            "grid_template_areas": null,
            "grid_template_columns": null,
            "grid_template_rows": null,
            "height": null,
            "justify_content": null,
            "justify_items": null,
            "left": null,
            "margin": null,
            "max_height": null,
            "max_width": null,
            "min_height": null,
            "min_width": null,
            "object_fit": null,
            "object_position": null,
            "order": null,
            "overflow": null,
            "overflow_x": null,
            "overflow_y": null,
            "padding": null,
            "right": null,
            "top": null,
            "visibility": null,
            "width": null
          }
        },
        "2503b9aac3cd4052a6fcd50265ee6acd": {
          "model_module": "@jupyter-widgets/controls",
          "model_name": "DescriptionStyleModel",
          "model_module_version": "1.5.0",
          "state": {
            "_model_module": "@jupyter-widgets/controls",
            "_model_module_version": "1.5.0",
            "_model_name": "DescriptionStyleModel",
            "_view_count": null,
            "_view_module": "@jupyter-widgets/base",
            "_view_module_version": "1.2.0",
            "_view_name": "StyleView",
            "description_width": ""
          }
        },
        "742d7544b6564f9ba4b04f726e880ed2": {
          "model_module": "@jupyter-widgets/controls",
          "model_name": "HBoxModel",
          "model_module_version": "1.5.0",
          "state": {
            "_dom_classes": [],
            "_model_module": "@jupyter-widgets/controls",
            "_model_module_version": "1.5.0",
            "_model_name": "HBoxModel",
            "_view_count": null,
            "_view_module": "@jupyter-widgets/controls",
            "_view_module_version": "1.5.0",
            "_view_name": "HBoxView",
            "box_style": "",
            "children": [
              "IPY_MODEL_5a4bbf53642a4e7484936b48afea358d",
              "IPY_MODEL_debe9b8199c545849d36b30e105f850d",
              "IPY_MODEL_ac9f3c07cfda40b6b9a24783fbf179ba"
            ],
            "layout": "IPY_MODEL_118873448dc542f4ad29b52c7687ce8e"
          }
        },
        "5a4bbf53642a4e7484936b48afea358d": {
          "model_module": "@jupyter-widgets/controls",
          "model_name": "HTMLModel",
          "model_module_version": "1.5.0",
          "state": {
            "_dom_classes": [],
            "_model_module": "@jupyter-widgets/controls",
            "_model_module_version": "1.5.0",
            "_model_name": "HTMLModel",
            "_view_count": null,
            "_view_module": "@jupyter-widgets/controls",
            "_view_module_version": "1.5.0",
            "_view_name": "HTMLView",
            "description": "",
            "description_tooltip": null,
            "layout": "IPY_MODEL_cbe8873431b840be955e37b922c7d246",
            "placeholder": "​",
            "style": "IPY_MODEL_1d516a724f36454ba52318d0c63a3e4a",
            "value": "Downloading tokenizer.model: 100%"
          }
        },
        "debe9b8199c545849d36b30e105f850d": {
          "model_module": "@jupyter-widgets/controls",
          "model_name": "FloatProgressModel",
          "model_module_version": "1.5.0",
          "state": {
            "_dom_classes": [],
            "_model_module": "@jupyter-widgets/controls",
            "_model_module_version": "1.5.0",
            "_model_name": "FloatProgressModel",
            "_view_count": null,
            "_view_module": "@jupyter-widgets/controls",
            "_view_module_version": "1.5.0",
            "_view_name": "ProgressView",
            "bar_style": "success",
            "description": "",
            "description_tooltip": null,
            "layout": "IPY_MODEL_a8494ba0e00e43a6ad7dffb7905399f2",
            "max": 499723,
            "min": 0,
            "orientation": "horizontal",
            "style": "IPY_MODEL_5fbe861d2a6f447eb7286e25d984e8a9",
            "value": 499723
          }
        },
        "ac9f3c07cfda40b6b9a24783fbf179ba": {
          "model_module": "@jupyter-widgets/controls",
          "model_name": "HTMLModel",
          "model_module_version": "1.5.0",
          "state": {
            "_dom_classes": [],
            "_model_module": "@jupyter-widgets/controls",
            "_model_module_version": "1.5.0",
            "_model_name": "HTMLModel",
            "_view_count": null,
            "_view_module": "@jupyter-widgets/controls",
            "_view_module_version": "1.5.0",
            "_view_name": "HTMLView",
            "description": "",
            "description_tooltip": null,
            "layout": "IPY_MODEL_ea2e0360f79e4995b55b96e330bc72d1",
            "placeholder": "​",
            "style": "IPY_MODEL_c37543e0d89342ab999b2194a4e14424",
            "value": " 500k/500k [00:00&lt;00:00, 6.97MB/s]"
          }
        },
        "118873448dc542f4ad29b52c7687ce8e": {
          "model_module": "@jupyter-widgets/base",
          "model_name": "LayoutModel",
          "model_module_version": "1.2.0",
          "state": {
            "_model_module": "@jupyter-widgets/base",
            "_model_module_version": "1.2.0",
            "_model_name": "LayoutModel",
            "_view_count": null,
            "_view_module": "@jupyter-widgets/base",
            "_view_module_version": "1.2.0",
            "_view_name": "LayoutView",
            "align_content": null,
            "align_items": null,
            "align_self": null,
            "border": null,
            "bottom": null,
            "display": null,
            "flex": null,
            "flex_flow": null,
            "grid_area": null,
            "grid_auto_columns": null,
            "grid_auto_flow": null,
            "grid_auto_rows": null,
            "grid_column": null,
            "grid_gap": null,
            "grid_row": null,
            "grid_template_areas": null,
            "grid_template_columns": null,
            "grid_template_rows": null,
            "height": null,
            "justify_content": null,
            "justify_items": null,
            "left": null,
            "margin": null,
            "max_height": null,
            "max_width": null,
            "min_height": null,
            "min_width": null,
            "object_fit": null,
            "object_position": null,
            "order": null,
            "overflow": null,
            "overflow_x": null,
            "overflow_y": null,
            "padding": null,
            "right": null,
            "top": null,
            "visibility": null,
            "width": null
          }
        },
        "cbe8873431b840be955e37b922c7d246": {
          "model_module": "@jupyter-widgets/base",
          "model_name": "LayoutModel",
          "model_module_version": "1.2.0",
          "state": {
            "_model_module": "@jupyter-widgets/base",
            "_model_module_version": "1.2.0",
            "_model_name": "LayoutModel",
            "_view_count": null,
            "_view_module": "@jupyter-widgets/base",
            "_view_module_version": "1.2.0",
            "_view_name": "LayoutView",
            "align_content": null,
            "align_items": null,
            "align_self": null,
            "border": null,
            "bottom": null,
            "display": null,
            "flex": null,
            "flex_flow": null,
            "grid_area": null,
            "grid_auto_columns": null,
            "grid_auto_flow": null,
            "grid_auto_rows": null,
            "grid_column": null,
            "grid_gap": null,
            "grid_row": null,
            "grid_template_areas": null,
            "grid_template_columns": null,
            "grid_template_rows": null,
            "height": null,
            "justify_content": null,
            "justify_items": null,
            "left": null,
            "margin": null,
            "max_height": null,
            "max_width": null,
            "min_height": null,
            "min_width": null,
            "object_fit": null,
            "object_position": null,
            "order": null,
            "overflow": null,
            "overflow_x": null,
            "overflow_y": null,
            "padding": null,
            "right": null,
            "top": null,
            "visibility": null,
            "width": null
          }
        },
        "1d516a724f36454ba52318d0c63a3e4a": {
          "model_module": "@jupyter-widgets/controls",
          "model_name": "DescriptionStyleModel",
          "model_module_version": "1.5.0",
          "state": {
            "_model_module": "@jupyter-widgets/controls",
            "_model_module_version": "1.5.0",
            "_model_name": "DescriptionStyleModel",
            "_view_count": null,
            "_view_module": "@jupyter-widgets/base",
            "_view_module_version": "1.2.0",
            "_view_name": "StyleView",
            "description_width": ""
          }
        },
        "a8494ba0e00e43a6ad7dffb7905399f2": {
          "model_module": "@jupyter-widgets/base",
          "model_name": "LayoutModel",
          "model_module_version": "1.2.0",
          "state": {
            "_model_module": "@jupyter-widgets/base",
            "_model_module_version": "1.2.0",
            "_model_name": "LayoutModel",
            "_view_count": null,
            "_view_module": "@jupyter-widgets/base",
            "_view_module_version": "1.2.0",
            "_view_name": "LayoutView",
            "align_content": null,
            "align_items": null,
            "align_self": null,
            "border": null,
            "bottom": null,
            "display": null,
            "flex": null,
            "flex_flow": null,
            "grid_area": null,
            "grid_auto_columns": null,
            "grid_auto_flow": null,
            "grid_auto_rows": null,
            "grid_column": null,
            "grid_gap": null,
            "grid_row": null,
            "grid_template_areas": null,
            "grid_template_columns": null,
            "grid_template_rows": null,
            "height": null,
            "justify_content": null,
            "justify_items": null,
            "left": null,
            "margin": null,
            "max_height": null,
            "max_width": null,
            "min_height": null,
            "min_width": null,
            "object_fit": null,
            "object_position": null,
            "order": null,
            "overflow": null,
            "overflow_x": null,
            "overflow_y": null,
            "padding": null,
            "right": null,
            "top": null,
            "visibility": null,
            "width": null
          }
        },
        "5fbe861d2a6f447eb7286e25d984e8a9": {
          "model_module": "@jupyter-widgets/controls",
          "model_name": "ProgressStyleModel",
          "model_module_version": "1.5.0",
          "state": {
            "_model_module": "@jupyter-widgets/controls",
            "_model_module_version": "1.5.0",
            "_model_name": "ProgressStyleModel",
            "_view_count": null,
            "_view_module": "@jupyter-widgets/base",
            "_view_module_version": "1.2.0",
            "_view_name": "StyleView",
            "bar_color": null,
            "description_width": ""
          }
        },
        "ea2e0360f79e4995b55b96e330bc72d1": {
          "model_module": "@jupyter-widgets/base",
          "model_name": "LayoutModel",
          "model_module_version": "1.2.0",
          "state": {
            "_model_module": "@jupyter-widgets/base",
            "_model_module_version": "1.2.0",
            "_model_name": "LayoutModel",
            "_view_count": null,
            "_view_module": "@jupyter-widgets/base",
            "_view_module_version": "1.2.0",
            "_view_name": "LayoutView",
            "align_content": null,
            "align_items": null,
            "align_self": null,
            "border": null,
            "bottom": null,
            "display": null,
            "flex": null,
            "flex_flow": null,
            "grid_area": null,
            "grid_auto_columns": null,
            "grid_auto_flow": null,
            "grid_auto_rows": null,
            "grid_column": null,
            "grid_gap": null,
            "grid_row": null,
            "grid_template_areas": null,
            "grid_template_columns": null,
            "grid_template_rows": null,
            "height": null,
            "justify_content": null,
            "justify_items": null,
            "left": null,
            "margin": null,
            "max_height": null,
            "max_width": null,
            "min_height": null,
            "min_width": null,
            "object_fit": null,
            "object_position": null,
            "order": null,
            "overflow": null,
            "overflow_x": null,
            "overflow_y": null,
            "padding": null,
            "right": null,
            "top": null,
            "visibility": null,
            "width": null
          }
        },
        "c37543e0d89342ab999b2194a4e14424": {
          "model_module": "@jupyter-widgets/controls",
          "model_name": "DescriptionStyleModel",
          "model_module_version": "1.5.0",
          "state": {
            "_model_module": "@jupyter-widgets/controls",
            "_model_module_version": "1.5.0",
            "_model_name": "DescriptionStyleModel",
            "_view_count": null,
            "_view_module": "@jupyter-widgets/base",
            "_view_module_version": "1.2.0",
            "_view_name": "StyleView",
            "description_width": ""
          }
        },
        "4a184ec3e61e49718627466769216256": {
          "model_module": "@jupyter-widgets/controls",
          "model_name": "HBoxModel",
          "model_module_version": "1.5.0",
          "state": {
            "_dom_classes": [],
            "_model_module": "@jupyter-widgets/controls",
            "_model_module_version": "1.5.0",
            "_model_name": "HBoxModel",
            "_view_count": null,
            "_view_module": "@jupyter-widgets/controls",
            "_view_module_version": "1.5.0",
            "_view_name": "HBoxView",
            "box_style": "",
            "children": [
              "IPY_MODEL_ada3092f57e642f89a87d13005c55686",
              "IPY_MODEL_13f52e8a1e76474c8e8a3495364db5b6",
              "IPY_MODEL_9c8ceb9c12da4a70a5ced951061fc158"
            ],
            "layout": "IPY_MODEL_1e505a0741e04bbcbd6fd23f1cddfcfc"
          }
        },
        "ada3092f57e642f89a87d13005c55686": {
          "model_module": "@jupyter-widgets/controls",
          "model_name": "HTMLModel",
          "model_module_version": "1.5.0",
          "state": {
            "_dom_classes": [],
            "_model_module": "@jupyter-widgets/controls",
            "_model_module_version": "1.5.0",
            "_model_name": "HTMLModel",
            "_view_count": null,
            "_view_module": "@jupyter-widgets/controls",
            "_view_module_version": "1.5.0",
            "_view_name": "HTMLView",
            "description": "",
            "description_tooltip": null,
            "layout": "IPY_MODEL_2657d8349f62423f9ad3ebb3fc6b46f9",
            "placeholder": "​",
            "style": "IPY_MODEL_42c63b06f3f9472d83aee2cc5fb17906",
            "value": "Downloading (…)cial_tokens_map.json: 100%"
          }
        },
        "13f52e8a1e76474c8e8a3495364db5b6": {
          "model_module": "@jupyter-widgets/controls",
          "model_name": "FloatProgressModel",
          "model_module_version": "1.5.0",
          "state": {
            "_dom_classes": [],
            "_model_module": "@jupyter-widgets/controls",
            "_model_module_version": "1.5.0",
            "_model_name": "FloatProgressModel",
            "_view_count": null,
            "_view_module": "@jupyter-widgets/controls",
            "_view_module_version": "1.5.0",
            "_view_name": "ProgressView",
            "bar_style": "success",
            "description": "",
            "description_tooltip": null,
            "layout": "IPY_MODEL_97a612435ce74a6c8db35d381890b241",
            "max": 411,
            "min": 0,
            "orientation": "horizontal",
            "style": "IPY_MODEL_1a14dce16d294e9a900330c5f84e24cf",
            "value": 411
          }
        },
        "9c8ceb9c12da4a70a5ced951061fc158": {
          "model_module": "@jupyter-widgets/controls",
          "model_name": "HTMLModel",
          "model_module_version": "1.5.0",
          "state": {
            "_dom_classes": [],
            "_model_module": "@jupyter-widgets/controls",
            "_model_module_version": "1.5.0",
            "_model_name": "HTMLModel",
            "_view_count": null,
            "_view_module": "@jupyter-widgets/controls",
            "_view_module_version": "1.5.0",
            "_view_name": "HTMLView",
            "description": "",
            "description_tooltip": null,
            "layout": "IPY_MODEL_37295629c0f4446b9b1e9631a34e46e5",
            "placeholder": "​",
            "style": "IPY_MODEL_f98bcc542da64d6e8a89009d4f20cafa",
            "value": " 411/411 [00:00&lt;00:00, 20.9kB/s]"
          }
        },
        "1e505a0741e04bbcbd6fd23f1cddfcfc": {
          "model_module": "@jupyter-widgets/base",
          "model_name": "LayoutModel",
          "model_module_version": "1.2.0",
          "state": {
            "_model_module": "@jupyter-widgets/base",
            "_model_module_version": "1.2.0",
            "_model_name": "LayoutModel",
            "_view_count": null,
            "_view_module": "@jupyter-widgets/base",
            "_view_module_version": "1.2.0",
            "_view_name": "LayoutView",
            "align_content": null,
            "align_items": null,
            "align_self": null,
            "border": null,
            "bottom": null,
            "display": null,
            "flex": null,
            "flex_flow": null,
            "grid_area": null,
            "grid_auto_columns": null,
            "grid_auto_flow": null,
            "grid_auto_rows": null,
            "grid_column": null,
            "grid_gap": null,
            "grid_row": null,
            "grid_template_areas": null,
            "grid_template_columns": null,
            "grid_template_rows": null,
            "height": null,
            "justify_content": null,
            "justify_items": null,
            "left": null,
            "margin": null,
            "max_height": null,
            "max_width": null,
            "min_height": null,
            "min_width": null,
            "object_fit": null,
            "object_position": null,
            "order": null,
            "overflow": null,
            "overflow_x": null,
            "overflow_y": null,
            "padding": null,
            "right": null,
            "top": null,
            "visibility": null,
            "width": null
          }
        },
        "2657d8349f62423f9ad3ebb3fc6b46f9": {
          "model_module": "@jupyter-widgets/base",
          "model_name": "LayoutModel",
          "model_module_version": "1.2.0",
          "state": {
            "_model_module": "@jupyter-widgets/base",
            "_model_module_version": "1.2.0",
            "_model_name": "LayoutModel",
            "_view_count": null,
            "_view_module": "@jupyter-widgets/base",
            "_view_module_version": "1.2.0",
            "_view_name": "LayoutView",
            "align_content": null,
            "align_items": null,
            "align_self": null,
            "border": null,
            "bottom": null,
            "display": null,
            "flex": null,
            "flex_flow": null,
            "grid_area": null,
            "grid_auto_columns": null,
            "grid_auto_flow": null,
            "grid_auto_rows": null,
            "grid_column": null,
            "grid_gap": null,
            "grid_row": null,
            "grid_template_areas": null,
            "grid_template_columns": null,
            "grid_template_rows": null,
            "height": null,
            "justify_content": null,
            "justify_items": null,
            "left": null,
            "margin": null,
            "max_height": null,
            "max_width": null,
            "min_height": null,
            "min_width": null,
            "object_fit": null,
            "object_position": null,
            "order": null,
            "overflow": null,
            "overflow_x": null,
            "overflow_y": null,
            "padding": null,
            "right": null,
            "top": null,
            "visibility": null,
            "width": null
          }
        },
        "42c63b06f3f9472d83aee2cc5fb17906": {
          "model_module": "@jupyter-widgets/controls",
          "model_name": "DescriptionStyleModel",
          "model_module_version": "1.5.0",
          "state": {
            "_model_module": "@jupyter-widgets/controls",
            "_model_module_version": "1.5.0",
            "_model_name": "DescriptionStyleModel",
            "_view_count": null,
            "_view_module": "@jupyter-widgets/base",
            "_view_module_version": "1.2.0",
            "_view_name": "StyleView",
            "description_width": ""
          }
        },
        "97a612435ce74a6c8db35d381890b241": {
          "model_module": "@jupyter-widgets/base",
          "model_name": "LayoutModel",
          "model_module_version": "1.2.0",
          "state": {
            "_model_module": "@jupyter-widgets/base",
            "_model_module_version": "1.2.0",
            "_model_name": "LayoutModel",
            "_view_count": null,
            "_view_module": "@jupyter-widgets/base",
            "_view_module_version": "1.2.0",
            "_view_name": "LayoutView",
            "align_content": null,
            "align_items": null,
            "align_self": null,
            "border": null,
            "bottom": null,
            "display": null,
            "flex": null,
            "flex_flow": null,
            "grid_area": null,
            "grid_auto_columns": null,
            "grid_auto_flow": null,
            "grid_auto_rows": null,
            "grid_column": null,
            "grid_gap": null,
            "grid_row": null,
            "grid_template_areas": null,
            "grid_template_columns": null,
            "grid_template_rows": null,
            "height": null,
            "justify_content": null,
            "justify_items": null,
            "left": null,
            "margin": null,
            "max_height": null,
            "max_width": null,
            "min_height": null,
            "min_width": null,
            "object_fit": null,
            "object_position": null,
            "order": null,
            "overflow": null,
            "overflow_x": null,
            "overflow_y": null,
            "padding": null,
            "right": null,
            "top": null,
            "visibility": null,
            "width": null
          }
        },
        "1a14dce16d294e9a900330c5f84e24cf": {
          "model_module": "@jupyter-widgets/controls",
          "model_name": "ProgressStyleModel",
          "model_module_version": "1.5.0",
          "state": {
            "_model_module": "@jupyter-widgets/controls",
            "_model_module_version": "1.5.0",
            "_model_name": "ProgressStyleModel",
            "_view_count": null,
            "_view_module": "@jupyter-widgets/base",
            "_view_module_version": "1.2.0",
            "_view_name": "StyleView",
            "bar_color": null,
            "description_width": ""
          }
        },
        "37295629c0f4446b9b1e9631a34e46e5": {
          "model_module": "@jupyter-widgets/base",
          "model_name": "LayoutModel",
          "model_module_version": "1.2.0",
          "state": {
            "_model_module": "@jupyter-widgets/base",
            "_model_module_version": "1.2.0",
            "_model_name": "LayoutModel",
            "_view_count": null,
            "_view_module": "@jupyter-widgets/base",
            "_view_module_version": "1.2.0",
            "_view_name": "LayoutView",
            "align_content": null,
            "align_items": null,
            "align_self": null,
            "border": null,
            "bottom": null,
            "display": null,
            "flex": null,
            "flex_flow": null,
            "grid_area": null,
            "grid_auto_columns": null,
            "grid_auto_flow": null,
            "grid_auto_rows": null,
            "grid_column": null,
            "grid_gap": null,
            "grid_row": null,
            "grid_template_areas": null,
            "grid_template_columns": null,
            "grid_template_rows": null,
            "height": null,
            "justify_content": null,
            "justify_items": null,
            "left": null,
            "margin": null,
            "max_height": null,
            "max_width": null,
            "min_height": null,
            "min_width": null,
            "object_fit": null,
            "object_position": null,
            "order": null,
            "overflow": null,
            "overflow_x": null,
            "overflow_y": null,
            "padding": null,
            "right": null,
            "top": null,
            "visibility": null,
            "width": null
          }
        },
        "f98bcc542da64d6e8a89009d4f20cafa": {
          "model_module": "@jupyter-widgets/controls",
          "model_name": "DescriptionStyleModel",
          "model_module_version": "1.5.0",
          "state": {
            "_model_module": "@jupyter-widgets/controls",
            "_model_module_version": "1.5.0",
            "_model_name": "DescriptionStyleModel",
            "_view_count": null,
            "_view_module": "@jupyter-widgets/base",
            "_view_module_version": "1.2.0",
            "_view_name": "StyleView",
            "description_width": ""
          }
        },
        "6958785c0b0f4708a8c5dc0a92e5acc4": {
          "model_module": "@jupyter-widgets/controls",
          "model_name": "HBoxModel",
          "model_module_version": "1.5.0",
          "state": {
            "_dom_classes": [],
            "_model_module": "@jupyter-widgets/controls",
            "_model_module_version": "1.5.0",
            "_model_name": "HBoxModel",
            "_view_count": null,
            "_view_module": "@jupyter-widgets/controls",
            "_view_module_version": "1.5.0",
            "_view_name": "HBoxView",
            "box_style": "",
            "children": [
              "IPY_MODEL_8c901a0c02c54cd3a23835bbb1f3af27",
              "IPY_MODEL_edb9e891aa5245ee944150da24e2e48e",
              "IPY_MODEL_417bca2367944ffda1e7fc6c275f55b7"
            ],
            "layout": "IPY_MODEL_f29059429f814d4a96fa56276aa9ffd8"
          }
        },
        "8c901a0c02c54cd3a23835bbb1f3af27": {
          "model_module": "@jupyter-widgets/controls",
          "model_name": "HTMLModel",
          "model_module_version": "1.5.0",
          "state": {
            "_dom_classes": [],
            "_model_module": "@jupyter-widgets/controls",
            "_model_module_version": "1.5.0",
            "_model_name": "HTMLModel",
            "_view_count": null,
            "_view_module": "@jupyter-widgets/controls",
            "_view_module_version": "1.5.0",
            "_view_name": "HTMLView",
            "description": "",
            "description_tooltip": null,
            "layout": "IPY_MODEL_d36c3d2d87024362ba211c9817c941e9",
            "placeholder": "​",
            "style": "IPY_MODEL_f5263648877f420a961b199f13cc4d41",
            "value": "Downloading tokenizer.json: 100%"
          }
        },
        "edb9e891aa5245ee944150da24e2e48e": {
          "model_module": "@jupyter-widgets/controls",
          "model_name": "FloatProgressModel",
          "model_module_version": "1.5.0",
          "state": {
            "_dom_classes": [],
            "_model_module": "@jupyter-widgets/controls",
            "_model_module_version": "1.5.0",
            "_model_name": "FloatProgressModel",
            "_view_count": null,
            "_view_module": "@jupyter-widgets/controls",
            "_view_module_version": "1.5.0",
            "_view_name": "ProgressView",
            "bar_style": "success",
            "description": "",
            "description_tooltip": null,
            "layout": "IPY_MODEL_d0b072c82d4140809a065aae6e91b369",
            "max": 1842764,
            "min": 0,
            "orientation": "horizontal",
            "style": "IPY_MODEL_621a92344f664b9285b1b8794af41f64",
            "value": 1842764
          }
        },
        "417bca2367944ffda1e7fc6c275f55b7": {
          "model_module": "@jupyter-widgets/controls",
          "model_name": "HTMLModel",
          "model_module_version": "1.5.0",
          "state": {
            "_dom_classes": [],
            "_model_module": "@jupyter-widgets/controls",
            "_model_module_version": "1.5.0",
            "_model_name": "HTMLModel",
            "_view_count": null,
            "_view_module": "@jupyter-widgets/controls",
            "_view_module_version": "1.5.0",
            "_view_name": "HTMLView",
            "description": "",
            "description_tooltip": null,
            "layout": "IPY_MODEL_6d10f59d5ec14500982e56c3bf8c8dc0",
            "placeholder": "​",
            "style": "IPY_MODEL_e242b9be12284e79acd97919d3d8bd16",
            "value": " 1.84M/1.84M [00:00&lt;00:00, 5.59MB/s]"
          }
        },
        "f29059429f814d4a96fa56276aa9ffd8": {
          "model_module": "@jupyter-widgets/base",
          "model_name": "LayoutModel",
          "model_module_version": "1.2.0",
          "state": {
            "_model_module": "@jupyter-widgets/base",
            "_model_module_version": "1.2.0",
            "_model_name": "LayoutModel",
            "_view_count": null,
            "_view_module": "@jupyter-widgets/base",
            "_view_module_version": "1.2.0",
            "_view_name": "LayoutView",
            "align_content": null,
            "align_items": null,
            "align_self": null,
            "border": null,
            "bottom": null,
            "display": null,
            "flex": null,
            "flex_flow": null,
            "grid_area": null,
            "grid_auto_columns": null,
            "grid_auto_flow": null,
            "grid_auto_rows": null,
            "grid_column": null,
            "grid_gap": null,
            "grid_row": null,
            "grid_template_areas": null,
            "grid_template_columns": null,
            "grid_template_rows": null,
            "height": null,
            "justify_content": null,
            "justify_items": null,
            "left": null,
            "margin": null,
            "max_height": null,
            "max_width": null,
            "min_height": null,
            "min_width": null,
            "object_fit": null,
            "object_position": null,
            "order": null,
            "overflow": null,
            "overflow_x": null,
            "overflow_y": null,
            "padding": null,
            "right": null,
            "top": null,
            "visibility": null,
            "width": null
          }
        },
        "d36c3d2d87024362ba211c9817c941e9": {
          "model_module": "@jupyter-widgets/base",
          "model_name": "LayoutModel",
          "model_module_version": "1.2.0",
          "state": {
            "_model_module": "@jupyter-widgets/base",
            "_model_module_version": "1.2.0",
            "_model_name": "LayoutModel",
            "_view_count": null,
            "_view_module": "@jupyter-widgets/base",
            "_view_module_version": "1.2.0",
            "_view_name": "LayoutView",
            "align_content": null,
            "align_items": null,
            "align_self": null,
            "border": null,
            "bottom": null,
            "display": null,
            "flex": null,
            "flex_flow": null,
            "grid_area": null,
            "grid_auto_columns": null,
            "grid_auto_flow": null,
            "grid_auto_rows": null,
            "grid_column": null,
            "grid_gap": null,
            "grid_row": null,
            "grid_template_areas": null,
            "grid_template_columns": null,
            "grid_template_rows": null,
            "height": null,
            "justify_content": null,
            "justify_items": null,
            "left": null,
            "margin": null,
            "max_height": null,
            "max_width": null,
            "min_height": null,
            "min_width": null,
            "object_fit": null,
            "object_position": null,
            "order": null,
            "overflow": null,
            "overflow_x": null,
            "overflow_y": null,
            "padding": null,
            "right": null,
            "top": null,
            "visibility": null,
            "width": null
          }
        },
        "f5263648877f420a961b199f13cc4d41": {
          "model_module": "@jupyter-widgets/controls",
          "model_name": "DescriptionStyleModel",
          "model_module_version": "1.5.0",
          "state": {
            "_model_module": "@jupyter-widgets/controls",
            "_model_module_version": "1.5.0",
            "_model_name": "DescriptionStyleModel",
            "_view_count": null,
            "_view_module": "@jupyter-widgets/base",
            "_view_module_version": "1.2.0",
            "_view_name": "StyleView",
            "description_width": ""
          }
        },
        "d0b072c82d4140809a065aae6e91b369": {
          "model_module": "@jupyter-widgets/base",
          "model_name": "LayoutModel",
          "model_module_version": "1.2.0",
          "state": {
            "_model_module": "@jupyter-widgets/base",
            "_model_module_version": "1.2.0",
            "_model_name": "LayoutModel",
            "_view_count": null,
            "_view_module": "@jupyter-widgets/base",
            "_view_module_version": "1.2.0",
            "_view_name": "LayoutView",
            "align_content": null,
            "align_items": null,
            "align_self": null,
            "border": null,
            "bottom": null,
            "display": null,
            "flex": null,
            "flex_flow": null,
            "grid_area": null,
            "grid_auto_columns": null,
            "grid_auto_flow": null,
            "grid_auto_rows": null,
            "grid_column": null,
            "grid_gap": null,
            "grid_row": null,
            "grid_template_areas": null,
            "grid_template_columns": null,
            "grid_template_rows": null,
            "height": null,
            "justify_content": null,
            "justify_items": null,
            "left": null,
            "margin": null,
            "max_height": null,
            "max_width": null,
            "min_height": null,
            "min_width": null,
            "object_fit": null,
            "object_position": null,
            "order": null,
            "overflow": null,
            "overflow_x": null,
            "overflow_y": null,
            "padding": null,
            "right": null,
            "top": null,
            "visibility": null,
            "width": null
          }
        },
        "621a92344f664b9285b1b8794af41f64": {
          "model_module": "@jupyter-widgets/controls",
          "model_name": "ProgressStyleModel",
          "model_module_version": "1.5.0",
          "state": {
            "_model_module": "@jupyter-widgets/controls",
            "_model_module_version": "1.5.0",
            "_model_name": "ProgressStyleModel",
            "_view_count": null,
            "_view_module": "@jupyter-widgets/base",
            "_view_module_version": "1.2.0",
            "_view_name": "StyleView",
            "bar_color": null,
            "description_width": ""
          }
        },
        "6d10f59d5ec14500982e56c3bf8c8dc0": {
          "model_module": "@jupyter-widgets/base",
          "model_name": "LayoutModel",
          "model_module_version": "1.2.0",
          "state": {
            "_model_module": "@jupyter-widgets/base",
            "_model_module_version": "1.2.0",
            "_model_name": "LayoutModel",
            "_view_count": null,
            "_view_module": "@jupyter-widgets/base",
            "_view_module_version": "1.2.0",
            "_view_name": "LayoutView",
            "align_content": null,
            "align_items": null,
            "align_self": null,
            "border": null,
            "bottom": null,
            "display": null,
            "flex": null,
            "flex_flow": null,
            "grid_area": null,
            "grid_auto_columns": null,
            "grid_auto_flow": null,
            "grid_auto_rows": null,
            "grid_column": null,
            "grid_gap": null,
            "grid_row": null,
            "grid_template_areas": null,
            "grid_template_columns": null,
            "grid_template_rows": null,
            "height": null,
            "justify_content": null,
            "justify_items": null,
            "left": null,
            "margin": null,
            "max_height": null,
            "max_width": null,
            "min_height": null,
            "min_width": null,
            "object_fit": null,
            "object_position": null,
            "order": null,
            "overflow": null,
            "overflow_x": null,
            "overflow_y": null,
            "padding": null,
            "right": null,
            "top": null,
            "visibility": null,
            "width": null
          }
        },
        "e242b9be12284e79acd97919d3d8bd16": {
          "model_module": "@jupyter-widgets/controls",
          "model_name": "DescriptionStyleModel",
          "model_module_version": "1.5.0",
          "state": {
            "_model_module": "@jupyter-widgets/controls",
            "_model_module_version": "1.5.0",
            "_model_name": "DescriptionStyleModel",
            "_view_count": null,
            "_view_module": "@jupyter-widgets/base",
            "_view_module_version": "1.2.0",
            "_view_name": "StyleView",
            "description_width": ""
          }
        },
        "5a065aa43631477d9ba139791daaaac2": {
          "model_module": "@jupyter-widgets/controls",
          "model_name": "HBoxModel",
          "model_module_version": "1.5.0",
          "state": {
            "_dom_classes": [],
            "_model_module": "@jupyter-widgets/controls",
            "_model_module_version": "1.5.0",
            "_model_name": "HBoxModel",
            "_view_count": null,
            "_view_module": "@jupyter-widgets/controls",
            "_view_module_version": "1.5.0",
            "_view_name": "HBoxView",
            "box_style": "",
            "children": [
              "IPY_MODEL_2618bbfa5c884060a8839be564555e3f",
              "IPY_MODEL_ae7ddff8a2b54c29a898e02b2e3efb60",
              "IPY_MODEL_3c7539f4f6c44079a387175244a1529b"
            ],
            "layout": "IPY_MODEL_baf87a2f1236486c8a5fb2b32bdeda85"
          }
        },
        "2618bbfa5c884060a8839be564555e3f": {
          "model_module": "@jupyter-widgets/controls",
          "model_name": "HTMLModel",
          "model_module_version": "1.5.0",
          "state": {
            "_dom_classes": [],
            "_model_module": "@jupyter-widgets/controls",
            "_model_module_version": "1.5.0",
            "_model_name": "HTMLModel",
            "_view_count": null,
            "_view_module": "@jupyter-widgets/controls",
            "_view_module_version": "1.5.0",
            "_view_name": "HTMLView",
            "description": "",
            "description_tooltip": null,
            "layout": "IPY_MODEL_7a9146810e8e4b1f852f07864f67d27c",
            "placeholder": "​",
            "style": "IPY_MODEL_9dab2cfba61343b394fa727a1672e72d",
            "value": "Downloading config.json: 100%"
          }
        },
        "ae7ddff8a2b54c29a898e02b2e3efb60": {
          "model_module": "@jupyter-widgets/controls",
          "model_name": "FloatProgressModel",
          "model_module_version": "1.5.0",
          "state": {
            "_dom_classes": [],
            "_model_module": "@jupyter-widgets/controls",
            "_model_module_version": "1.5.0",
            "_model_name": "FloatProgressModel",
            "_view_count": null,
            "_view_module": "@jupyter-widgets/controls",
            "_view_module_version": "1.5.0",
            "_view_name": "ProgressView",
            "bar_style": "success",
            "description": "",
            "description_tooltip": null,
            "layout": "IPY_MODEL_380ac5637bde41988709efe61eaef639",
            "max": 913,
            "min": 0,
            "orientation": "horizontal",
            "style": "IPY_MODEL_c7c952c298714478a172ef9ae4f11672",
            "value": 913
          }
        },
        "3c7539f4f6c44079a387175244a1529b": {
          "model_module": "@jupyter-widgets/controls",
          "model_name": "HTMLModel",
          "model_module_version": "1.5.0",
          "state": {
            "_dom_classes": [],
            "_model_module": "@jupyter-widgets/controls",
            "_model_module_version": "1.5.0",
            "_model_name": "HTMLModel",
            "_view_count": null,
            "_view_module": "@jupyter-widgets/controls",
            "_view_module_version": "1.5.0",
            "_view_name": "HTMLView",
            "description": "",
            "description_tooltip": null,
            "layout": "IPY_MODEL_fef82315f728461dbc150165edd20566",
            "placeholder": "​",
            "style": "IPY_MODEL_5b3342d37cd5470288eb3b604b35a344",
            "value": " 913/913 [00:00&lt;00:00, 53.1kB/s]"
          }
        },
        "baf87a2f1236486c8a5fb2b32bdeda85": {
          "model_module": "@jupyter-widgets/base",
          "model_name": "LayoutModel",
          "model_module_version": "1.2.0",
          "state": {
            "_model_module": "@jupyter-widgets/base",
            "_model_module_version": "1.2.0",
            "_model_name": "LayoutModel",
            "_view_count": null,
            "_view_module": "@jupyter-widgets/base",
            "_view_module_version": "1.2.0",
            "_view_name": "LayoutView",
            "align_content": null,
            "align_items": null,
            "align_self": null,
            "border": null,
            "bottom": null,
            "display": null,
            "flex": null,
            "flex_flow": null,
            "grid_area": null,
            "grid_auto_columns": null,
            "grid_auto_flow": null,
            "grid_auto_rows": null,
            "grid_column": null,
            "grid_gap": null,
            "grid_row": null,
            "grid_template_areas": null,
            "grid_template_columns": null,
            "grid_template_rows": null,
            "height": null,
            "justify_content": null,
            "justify_items": null,
            "left": null,
            "margin": null,
            "max_height": null,
            "max_width": null,
            "min_height": null,
            "min_width": null,
            "object_fit": null,
            "object_position": null,
            "order": null,
            "overflow": null,
            "overflow_x": null,
            "overflow_y": null,
            "padding": null,
            "right": null,
            "top": null,
            "visibility": null,
            "width": null
          }
        },
        "7a9146810e8e4b1f852f07864f67d27c": {
          "model_module": "@jupyter-widgets/base",
          "model_name": "LayoutModel",
          "model_module_version": "1.2.0",
          "state": {
            "_model_module": "@jupyter-widgets/base",
            "_model_module_version": "1.2.0",
            "_model_name": "LayoutModel",
            "_view_count": null,
            "_view_module": "@jupyter-widgets/base",
            "_view_module_version": "1.2.0",
            "_view_name": "LayoutView",
            "align_content": null,
            "align_items": null,
            "align_self": null,
            "border": null,
            "bottom": null,
            "display": null,
            "flex": null,
            "flex_flow": null,
            "grid_area": null,
            "grid_auto_columns": null,
            "grid_auto_flow": null,
            "grid_auto_rows": null,
            "grid_column": null,
            "grid_gap": null,
            "grid_row": null,
            "grid_template_areas": null,
            "grid_template_columns": null,
            "grid_template_rows": null,
            "height": null,
            "justify_content": null,
            "justify_items": null,
            "left": null,
            "margin": null,
            "max_height": null,
            "max_width": null,
            "min_height": null,
            "min_width": null,
            "object_fit": null,
            "object_position": null,
            "order": null,
            "overflow": null,
            "overflow_x": null,
            "overflow_y": null,
            "padding": null,
            "right": null,
            "top": null,
            "visibility": null,
            "width": null
          }
        },
        "9dab2cfba61343b394fa727a1672e72d": {
          "model_module": "@jupyter-widgets/controls",
          "model_name": "DescriptionStyleModel",
          "model_module_version": "1.5.0",
          "state": {
            "_model_module": "@jupyter-widgets/controls",
            "_model_module_version": "1.5.0",
            "_model_name": "DescriptionStyleModel",
            "_view_count": null,
            "_view_module": "@jupyter-widgets/base",
            "_view_module_version": "1.2.0",
            "_view_name": "StyleView",
            "description_width": ""
          }
        },
        "380ac5637bde41988709efe61eaef639": {
          "model_module": "@jupyter-widgets/base",
          "model_name": "LayoutModel",
          "model_module_version": "1.2.0",
          "state": {
            "_model_module": "@jupyter-widgets/base",
            "_model_module_version": "1.2.0",
            "_model_name": "LayoutModel",
            "_view_count": null,
            "_view_module": "@jupyter-widgets/base",
            "_view_module_version": "1.2.0",
            "_view_name": "LayoutView",
            "align_content": null,
            "align_items": null,
            "align_self": null,
            "border": null,
            "bottom": null,
            "display": null,
            "flex": null,
            "flex_flow": null,
            "grid_area": null,
            "grid_auto_columns": null,
            "grid_auto_flow": null,
            "grid_auto_rows": null,
            "grid_column": null,
            "grid_gap": null,
            "grid_row": null,
            "grid_template_areas": null,
            "grid_template_columns": null,
            "grid_template_rows": null,
            "height": null,
            "justify_content": null,
            "justify_items": null,
            "left": null,
            "margin": null,
            "max_height": null,
            "max_width": null,
            "min_height": null,
            "min_width": null,
            "object_fit": null,
            "object_position": null,
            "order": null,
            "overflow": null,
            "overflow_x": null,
            "overflow_y": null,
            "padding": null,
            "right": null,
            "top": null,
            "visibility": null,
            "width": null
          }
        },
        "c7c952c298714478a172ef9ae4f11672": {
          "model_module": "@jupyter-widgets/controls",
          "model_name": "ProgressStyleModel",
          "model_module_version": "1.5.0",
          "state": {
            "_model_module": "@jupyter-widgets/controls",
            "_model_module_version": "1.5.0",
            "_model_name": "ProgressStyleModel",
            "_view_count": null,
            "_view_module": "@jupyter-widgets/base",
            "_view_module_version": "1.2.0",
            "_view_name": "StyleView",
            "bar_color": null,
            "description_width": ""
          }
        },
        "fef82315f728461dbc150165edd20566": {
          "model_module": "@jupyter-widgets/base",
          "model_name": "LayoutModel",
          "model_module_version": "1.2.0",
          "state": {
            "_model_module": "@jupyter-widgets/base",
            "_model_module_version": "1.2.0",
            "_model_name": "LayoutModel",
            "_view_count": null,
            "_view_module": "@jupyter-widgets/base",
            "_view_module_version": "1.2.0",
            "_view_name": "LayoutView",
            "align_content": null,
            "align_items": null,
            "align_self": null,
            "border": null,
            "bottom": null,
            "display": null,
            "flex": null,
            "flex_flow": null,
            "grid_area": null,
            "grid_auto_columns": null,
            "grid_auto_flow": null,
            "grid_auto_rows": null,
            "grid_column": null,
            "grid_gap": null,
            "grid_row": null,
            "grid_template_areas": null,
            "grid_template_columns": null,
            "grid_template_rows": null,
            "height": null,
            "justify_content": null,
            "justify_items": null,
            "left": null,
            "margin": null,
            "max_height": null,
            "max_width": null,
            "min_height": null,
            "min_width": null,
            "object_fit": null,
            "object_position": null,
            "order": null,
            "overflow": null,
            "overflow_x": null,
            "overflow_y": null,
            "padding": null,
            "right": null,
            "top": null,
            "visibility": null,
            "width": null
          }
        },
        "5b3342d37cd5470288eb3b604b35a344": {
          "model_module": "@jupyter-widgets/controls",
          "model_name": "DescriptionStyleModel",
          "model_module_version": "1.5.0",
          "state": {
            "_model_module": "@jupyter-widgets/controls",
            "_model_module_version": "1.5.0",
            "_model_name": "DescriptionStyleModel",
            "_view_count": null,
            "_view_module": "@jupyter-widgets/base",
            "_view_module_version": "1.2.0",
            "_view_name": "StyleView",
            "description_width": ""
          }
        },
        "123365a6820848b8b3c2d2739f991058": {
          "model_module": "@jupyter-widgets/controls",
          "model_name": "HBoxModel",
          "model_module_version": "1.5.0",
          "state": {
            "_dom_classes": [],
            "_model_module": "@jupyter-widgets/controls",
            "_model_module_version": "1.5.0",
            "_model_name": "HBoxModel",
            "_view_count": null,
            "_view_module": "@jupyter-widgets/controls",
            "_view_module_version": "1.5.0",
            "_view_name": "HBoxView",
            "box_style": "",
            "children": [
              "IPY_MODEL_d733db459a28405887412cf4f47d77fe",
              "IPY_MODEL_426bae086d10429ebf14fde8c9c77ef0",
              "IPY_MODEL_11604a8a586c48f4b499750305577b66"
            ],
            "layout": "IPY_MODEL_c2e49cdce43541889a15d2ccbff61ce9"
          }
        },
        "d733db459a28405887412cf4f47d77fe": {
          "model_module": "@jupyter-widgets/controls",
          "model_name": "HTMLModel",
          "model_module_version": "1.5.0",
          "state": {
            "_dom_classes": [],
            "_model_module": "@jupyter-widgets/controls",
            "_model_module_version": "1.5.0",
            "_model_name": "HTMLModel",
            "_view_count": null,
            "_view_module": "@jupyter-widgets/controls",
            "_view_module_version": "1.5.0",
            "_view_name": "HTMLView",
            "description": "",
            "description_tooltip": null,
            "layout": "IPY_MODEL_fffdccd7578f41dba8522bb6c7ebaad5",
            "placeholder": "​",
            "style": "IPY_MODEL_72d1a9134319444fa4a9a5cd388fe8ad",
            "value": "Downloading model.safetensors: 100%"
          }
        },
        "426bae086d10429ebf14fde8c9c77ef0": {
          "model_module": "@jupyter-widgets/controls",
          "model_name": "FloatProgressModel",
          "model_module_version": "1.5.0",
          "state": {
            "_dom_classes": [],
            "_model_module": "@jupyter-widgets/controls",
            "_model_module_version": "1.5.0",
            "_model_name": "FloatProgressModel",
            "_view_count": null,
            "_view_module": "@jupyter-widgets/controls",
            "_view_module_version": "1.5.0",
            "_view_name": "ProgressView",
            "bar_style": "success",
            "description": "",
            "description_tooltip": null,
            "layout": "IPY_MODEL_b5312a1664094959b5c11c715e4d7b3d",
            "max": 7259449480,
            "min": 0,
            "orientation": "horizontal",
            "style": "IPY_MODEL_3c59651be16a4f90831b3b61eadee6b3",
            "value": 7259449480
          }
        },
        "11604a8a586c48f4b499750305577b66": {
          "model_module": "@jupyter-widgets/controls",
          "model_name": "HTMLModel",
          "model_module_version": "1.5.0",
          "state": {
            "_dom_classes": [],
            "_model_module": "@jupyter-widgets/controls",
            "_model_module_version": "1.5.0",
            "_model_name": "HTMLModel",
            "_view_count": null,
            "_view_module": "@jupyter-widgets/controls",
            "_view_module_version": "1.5.0",
            "_view_name": "HTMLView",
            "description": "",
            "description_tooltip": null,
            "layout": "IPY_MODEL_31f8845f97a542dfb2fa133fc416e12e",
            "placeholder": "​",
            "style": "IPY_MODEL_057764bd2d9b4dab841af35832ba123d",
            "value": " 7.26G/7.26G [01:12&lt;00:00, 204MB/s]"
          }
        },
        "c2e49cdce43541889a15d2ccbff61ce9": {
          "model_module": "@jupyter-widgets/base",
          "model_name": "LayoutModel",
          "model_module_version": "1.2.0",
          "state": {
            "_model_module": "@jupyter-widgets/base",
            "_model_module_version": "1.2.0",
            "_model_name": "LayoutModel",
            "_view_count": null,
            "_view_module": "@jupyter-widgets/base",
            "_view_module_version": "1.2.0",
            "_view_name": "LayoutView",
            "align_content": null,
            "align_items": null,
            "align_self": null,
            "border": null,
            "bottom": null,
            "display": null,
            "flex": null,
            "flex_flow": null,
            "grid_area": null,
            "grid_auto_columns": null,
            "grid_auto_flow": null,
            "grid_auto_rows": null,
            "grid_column": null,
            "grid_gap": null,
            "grid_row": null,
            "grid_template_areas": null,
            "grid_template_columns": null,
            "grid_template_rows": null,
            "height": null,
            "justify_content": null,
            "justify_items": null,
            "left": null,
            "margin": null,
            "max_height": null,
            "max_width": null,
            "min_height": null,
            "min_width": null,
            "object_fit": null,
            "object_position": null,
            "order": null,
            "overflow": null,
            "overflow_x": null,
            "overflow_y": null,
            "padding": null,
            "right": null,
            "top": null,
            "visibility": null,
            "width": null
          }
        },
        "fffdccd7578f41dba8522bb6c7ebaad5": {
          "model_module": "@jupyter-widgets/base",
          "model_name": "LayoutModel",
          "model_module_version": "1.2.0",
          "state": {
            "_model_module": "@jupyter-widgets/base",
            "_model_module_version": "1.2.0",
            "_model_name": "LayoutModel",
            "_view_count": null,
            "_view_module": "@jupyter-widgets/base",
            "_view_module_version": "1.2.0",
            "_view_name": "LayoutView",
            "align_content": null,
            "align_items": null,
            "align_self": null,
            "border": null,
            "bottom": null,
            "display": null,
            "flex": null,
            "flex_flow": null,
            "grid_area": null,
            "grid_auto_columns": null,
            "grid_auto_flow": null,
            "grid_auto_rows": null,
            "grid_column": null,
            "grid_gap": null,
            "grid_row": null,
            "grid_template_areas": null,
            "grid_template_columns": null,
            "grid_template_rows": null,
            "height": null,
            "justify_content": null,
            "justify_items": null,
            "left": null,
            "margin": null,
            "max_height": null,
            "max_width": null,
            "min_height": null,
            "min_width": null,
            "object_fit": null,
            "object_position": null,
            "order": null,
            "overflow": null,
            "overflow_x": null,
            "overflow_y": null,
            "padding": null,
            "right": null,
            "top": null,
            "visibility": null,
            "width": null
          }
        },
        "72d1a9134319444fa4a9a5cd388fe8ad": {
          "model_module": "@jupyter-widgets/controls",
          "model_name": "DescriptionStyleModel",
          "model_module_version": "1.5.0",
          "state": {
            "_model_module": "@jupyter-widgets/controls",
            "_model_module_version": "1.5.0",
            "_model_name": "DescriptionStyleModel",
            "_view_count": null,
            "_view_module": "@jupyter-widgets/base",
            "_view_module_version": "1.2.0",
            "_view_name": "StyleView",
            "description_width": ""
          }
        },
        "b5312a1664094959b5c11c715e4d7b3d": {
          "model_module": "@jupyter-widgets/base",
          "model_name": "LayoutModel",
          "model_module_version": "1.2.0",
          "state": {
            "_model_module": "@jupyter-widgets/base",
            "_model_module_version": "1.2.0",
            "_model_name": "LayoutModel",
            "_view_count": null,
            "_view_module": "@jupyter-widgets/base",
            "_view_module_version": "1.2.0",
            "_view_name": "LayoutView",
            "align_content": null,
            "align_items": null,
            "align_self": null,
            "border": null,
            "bottom": null,
            "display": null,
            "flex": null,
            "flex_flow": null,
            "grid_area": null,
            "grid_auto_columns": null,
            "grid_auto_flow": null,
            "grid_auto_rows": null,
            "grid_column": null,
            "grid_gap": null,
            "grid_row": null,
            "grid_template_areas": null,
            "grid_template_columns": null,
            "grid_template_rows": null,
            "height": null,
            "justify_content": null,
            "justify_items": null,
            "left": null,
            "margin": null,
            "max_height": null,
            "max_width": null,
            "min_height": null,
            "min_width": null,
            "object_fit": null,
            "object_position": null,
            "order": null,
            "overflow": null,
            "overflow_x": null,
            "overflow_y": null,
            "padding": null,
            "right": null,
            "top": null,
            "visibility": null,
            "width": null
          }
        },
        "3c59651be16a4f90831b3b61eadee6b3": {
          "model_module": "@jupyter-widgets/controls",
          "model_name": "ProgressStyleModel",
          "model_module_version": "1.5.0",
          "state": {
            "_model_module": "@jupyter-widgets/controls",
            "_model_module_version": "1.5.0",
            "_model_name": "ProgressStyleModel",
            "_view_count": null,
            "_view_module": "@jupyter-widgets/base",
            "_view_module_version": "1.2.0",
            "_view_name": "StyleView",
            "bar_color": null,
            "description_width": ""
          }
        },
        "31f8845f97a542dfb2fa133fc416e12e": {
          "model_module": "@jupyter-widgets/base",
          "model_name": "LayoutModel",
          "model_module_version": "1.2.0",
          "state": {
            "_model_module": "@jupyter-widgets/base",
            "_model_module_version": "1.2.0",
            "_model_name": "LayoutModel",
            "_view_count": null,
            "_view_module": "@jupyter-widgets/base",
            "_view_module_version": "1.2.0",
            "_view_name": "LayoutView",
            "align_content": null,
            "align_items": null,
            "align_self": null,
            "border": null,
            "bottom": null,
            "display": null,
            "flex": null,
            "flex_flow": null,
            "grid_area": null,
            "grid_auto_columns": null,
            "grid_auto_flow": null,
            "grid_auto_rows": null,
            "grid_column": null,
            "grid_gap": null,
            "grid_row": null,
            "grid_template_areas": null,
            "grid_template_columns": null,
            "grid_template_rows": null,
            "height": null,
            "justify_content": null,
            "justify_items": null,
            "left": null,
            "margin": null,
            "max_height": null,
            "max_width": null,
            "min_height": null,
            "min_width": null,
            "object_fit": null,
            "object_position": null,
            "order": null,
            "overflow": null,
            "overflow_x": null,
            "overflow_y": null,
            "padding": null,
            "right": null,
            "top": null,
            "visibility": null,
            "width": null
          }
        },
        "057764bd2d9b4dab841af35832ba123d": {
          "model_module": "@jupyter-widgets/controls",
          "model_name": "DescriptionStyleModel",
          "model_module_version": "1.5.0",
          "state": {
            "_model_module": "@jupyter-widgets/controls",
            "_model_module_version": "1.5.0",
            "_model_name": "DescriptionStyleModel",
            "_view_count": null,
            "_view_module": "@jupyter-widgets/base",
            "_view_module_version": "1.2.0",
            "_view_name": "StyleView",
            "description_width": ""
          }
        },
        "6dd6ee715c1d42ed9bbfc767bb7f0894": {
          "model_module": "@jupyter-widgets/controls",
          "model_name": "HBoxModel",
          "model_module_version": "1.5.0",
          "state": {
            "_dom_classes": [],
            "_model_module": "@jupyter-widgets/controls",
            "_model_module_version": "1.5.0",
            "_model_name": "HBoxModel",
            "_view_count": null,
            "_view_module": "@jupyter-widgets/controls",
            "_view_module_version": "1.5.0",
            "_view_name": "HBoxView",
            "box_style": "",
            "children": [
              "IPY_MODEL_295546c1788f4a63b53f4e42d9c0cf28",
              "IPY_MODEL_68f4207bf83240dda634da4825e84620",
              "IPY_MODEL_78b57f3167524a0894e13511d5294c16"
            ],
            "layout": "IPY_MODEL_92896875770e4d6ca1b55753c60222cb"
          }
        },
        "295546c1788f4a63b53f4e42d9c0cf28": {
          "model_module": "@jupyter-widgets/controls",
          "model_name": "HTMLModel",
          "model_module_version": "1.5.0",
          "state": {
            "_dom_classes": [],
            "_model_module": "@jupyter-widgets/controls",
            "_model_module_version": "1.5.0",
            "_model_name": "HTMLModel",
            "_view_count": null,
            "_view_module": "@jupyter-widgets/controls",
            "_view_module_version": "1.5.0",
            "_view_name": "HTMLView",
            "description": "",
            "description_tooltip": null,
            "layout": "IPY_MODEL_80652895d56340d1b2449ad968fa7ec4",
            "placeholder": "​",
            "style": "IPY_MODEL_e6d3f9ac2c1244e5a438720d50c0004a",
            "value": "Downloading generation_config.json: 100%"
          }
        },
        "68f4207bf83240dda634da4825e84620": {
          "model_module": "@jupyter-widgets/controls",
          "model_name": "FloatProgressModel",
          "model_module_version": "1.5.0",
          "state": {
            "_dom_classes": [],
            "_model_module": "@jupyter-widgets/controls",
            "_model_module_version": "1.5.0",
            "_model_name": "FloatProgressModel",
            "_view_count": null,
            "_view_module": "@jupyter-widgets/controls",
            "_view_module_version": "1.5.0",
            "_view_name": "ProgressView",
            "bar_style": "success",
            "description": "",
            "description_tooltip": null,
            "layout": "IPY_MODEL_3558244d4b28405db61ce77b0dc5bb22",
            "max": 132,
            "min": 0,
            "orientation": "horizontal",
            "style": "IPY_MODEL_7ea654c1689f4452be0b7924ac6c7396",
            "value": 132
          }
        },
        "78b57f3167524a0894e13511d5294c16": {
          "model_module": "@jupyter-widgets/controls",
          "model_name": "HTMLModel",
          "model_module_version": "1.5.0",
          "state": {
            "_dom_classes": [],
            "_model_module": "@jupyter-widgets/controls",
            "_model_module_version": "1.5.0",
            "_model_name": "HTMLModel",
            "_view_count": null,
            "_view_module": "@jupyter-widgets/controls",
            "_view_module_version": "1.5.0",
            "_view_name": "HTMLView",
            "description": "",
            "description_tooltip": null,
            "layout": "IPY_MODEL_a16bdfa2c2dc4bcea159149c2b85541d",
            "placeholder": "​",
            "style": "IPY_MODEL_d311749bd86e4bdd9a361ad64631ea8f",
            "value": " 132/132 [00:00&lt;00:00, 2.06kB/s]"
          }
        },
        "92896875770e4d6ca1b55753c60222cb": {
          "model_module": "@jupyter-widgets/base",
          "model_name": "LayoutModel",
          "model_module_version": "1.2.0",
          "state": {
            "_model_module": "@jupyter-widgets/base",
            "_model_module_version": "1.2.0",
            "_model_name": "LayoutModel",
            "_view_count": null,
            "_view_module": "@jupyter-widgets/base",
            "_view_module_version": "1.2.0",
            "_view_name": "LayoutView",
            "align_content": null,
            "align_items": null,
            "align_self": null,
            "border": null,
            "bottom": null,
            "display": null,
            "flex": null,
            "flex_flow": null,
            "grid_area": null,
            "grid_auto_columns": null,
            "grid_auto_flow": null,
            "grid_auto_rows": null,
            "grid_column": null,
            "grid_gap": null,
            "grid_row": null,
            "grid_template_areas": null,
            "grid_template_columns": null,
            "grid_template_rows": null,
            "height": null,
            "justify_content": null,
            "justify_items": null,
            "left": null,
            "margin": null,
            "max_height": null,
            "max_width": null,
            "min_height": null,
            "min_width": null,
            "object_fit": null,
            "object_position": null,
            "order": null,
            "overflow": null,
            "overflow_x": null,
            "overflow_y": null,
            "padding": null,
            "right": null,
            "top": null,
            "visibility": null,
            "width": null
          }
        },
        "80652895d56340d1b2449ad968fa7ec4": {
          "model_module": "@jupyter-widgets/base",
          "model_name": "LayoutModel",
          "model_module_version": "1.2.0",
          "state": {
            "_model_module": "@jupyter-widgets/base",
            "_model_module_version": "1.2.0",
            "_model_name": "LayoutModel",
            "_view_count": null,
            "_view_module": "@jupyter-widgets/base",
            "_view_module_version": "1.2.0",
            "_view_name": "LayoutView",
            "align_content": null,
            "align_items": null,
            "align_self": null,
            "border": null,
            "bottom": null,
            "display": null,
            "flex": null,
            "flex_flow": null,
            "grid_area": null,
            "grid_auto_columns": null,
            "grid_auto_flow": null,
            "grid_auto_rows": null,
            "grid_column": null,
            "grid_gap": null,
            "grid_row": null,
            "grid_template_areas": null,
            "grid_template_columns": null,
            "grid_template_rows": null,
            "height": null,
            "justify_content": null,
            "justify_items": null,
            "left": null,
            "margin": null,
            "max_height": null,
            "max_width": null,
            "min_height": null,
            "min_width": null,
            "object_fit": null,
            "object_position": null,
            "order": null,
            "overflow": null,
            "overflow_x": null,
            "overflow_y": null,
            "padding": null,
            "right": null,
            "top": null,
            "visibility": null,
            "width": null
          }
        },
        "e6d3f9ac2c1244e5a438720d50c0004a": {
          "model_module": "@jupyter-widgets/controls",
          "model_name": "DescriptionStyleModel",
          "model_module_version": "1.5.0",
          "state": {
            "_model_module": "@jupyter-widgets/controls",
            "_model_module_version": "1.5.0",
            "_model_name": "DescriptionStyleModel",
            "_view_count": null,
            "_view_module": "@jupyter-widgets/base",
            "_view_module_version": "1.2.0",
            "_view_name": "StyleView",
            "description_width": ""
          }
        },
        "3558244d4b28405db61ce77b0dc5bb22": {
          "model_module": "@jupyter-widgets/base",
          "model_name": "LayoutModel",
          "model_module_version": "1.2.0",
          "state": {
            "_model_module": "@jupyter-widgets/base",
            "_model_module_version": "1.2.0",
            "_model_name": "LayoutModel",
            "_view_count": null,
            "_view_module": "@jupyter-widgets/base",
            "_view_module_version": "1.2.0",
            "_view_name": "LayoutView",
            "align_content": null,
            "align_items": null,
            "align_self": null,
            "border": null,
            "bottom": null,
            "display": null,
            "flex": null,
            "flex_flow": null,
            "grid_area": null,
            "grid_auto_columns": null,
            "grid_auto_flow": null,
            "grid_auto_rows": null,
            "grid_column": null,
            "grid_gap": null,
            "grid_row": null,
            "grid_template_areas": null,
            "grid_template_columns": null,
            "grid_template_rows": null,
            "height": null,
            "justify_content": null,
            "justify_items": null,
            "left": null,
            "margin": null,
            "max_height": null,
            "max_width": null,
            "min_height": null,
            "min_width": null,
            "object_fit": null,
            "object_position": null,
            "order": null,
            "overflow": null,
            "overflow_x": null,
            "overflow_y": null,
            "padding": null,
            "right": null,
            "top": null,
            "visibility": null,
            "width": null
          }
        },
        "7ea654c1689f4452be0b7924ac6c7396": {
          "model_module": "@jupyter-widgets/controls",
          "model_name": "ProgressStyleModel",
          "model_module_version": "1.5.0",
          "state": {
            "_model_module": "@jupyter-widgets/controls",
            "_model_module_version": "1.5.0",
            "_model_name": "ProgressStyleModel",
            "_view_count": null,
            "_view_module": "@jupyter-widgets/base",
            "_view_module_version": "1.2.0",
            "_view_name": "StyleView",
            "bar_color": null,
            "description_width": ""
          }
        },
        "a16bdfa2c2dc4bcea159149c2b85541d": {
          "model_module": "@jupyter-widgets/base",
          "model_name": "LayoutModel",
          "model_module_version": "1.2.0",
          "state": {
            "_model_module": "@jupyter-widgets/base",
            "_model_module_version": "1.2.0",
            "_model_name": "LayoutModel",
            "_view_count": null,
            "_view_module": "@jupyter-widgets/base",
            "_view_module_version": "1.2.0",
            "_view_name": "LayoutView",
            "align_content": null,
            "align_items": null,
            "align_self": null,
            "border": null,
            "bottom": null,
            "display": null,
            "flex": null,
            "flex_flow": null,
            "grid_area": null,
            "grid_auto_columns": null,
            "grid_auto_flow": null,
            "grid_auto_rows": null,
            "grid_column": null,
            "grid_gap": null,
            "grid_row": null,
            "grid_template_areas": null,
            "grid_template_columns": null,
            "grid_template_rows": null,
            "height": null,
            "justify_content": null,
            "justify_items": null,
            "left": null,
            "margin": null,
            "max_height": null,
            "max_width": null,
            "min_height": null,
            "min_width": null,
            "object_fit": null,
            "object_position": null,
            "order": null,
            "overflow": null,
            "overflow_x": null,
            "overflow_y": null,
            "padding": null,
            "right": null,
            "top": null,
            "visibility": null,
            "width": null
          }
        },
        "d311749bd86e4bdd9a361ad64631ea8f": {
          "model_module": "@jupyter-widgets/controls",
          "model_name": "DescriptionStyleModel",
          "model_module_version": "1.5.0",
          "state": {
            "_model_module": "@jupyter-widgets/controls",
            "_model_module_version": "1.5.0",
            "_model_name": "DescriptionStyleModel",
            "_view_count": null,
            "_view_module": "@jupyter-widgets/base",
            "_view_module_version": "1.2.0",
            "_view_name": "StyleView",
            "description_width": ""
          }
        }
      }
    }
  },
  "nbformat": 4,
  "nbformat_minor": 5
}